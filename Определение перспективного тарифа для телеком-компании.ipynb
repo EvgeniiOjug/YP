{
 "cells": [
  {
   "cell_type": "markdown",
   "metadata": {},
   "source": [
    "## Описание проекта\n",
    "\n",
    "\n",
    "Вы аналитик компании «Мегалайн» — федерального оператора сотовой связи. Клиентам предлагают два тарифных плана: «Смарт» и «Ультра». Чтобы скорректировать рекламный бюджет, коммерческий департамент хочет понять, какой тариф приносит больше денег.\n",
    "Вам предстоит сделать предварительный анализ тарифов на небольшой выборке клиентов. В вашем распоряжении данные 500 пользователей «Мегалайна»: кто они, откуда, каким тарифом пользуются, сколько звонков и сообщений каждый отправил за 2018 год. Нужно проанализировать поведение клиентов и сделать вывод — какой тариф лучше.\n",
    "\n",
    "**Описание тарифов**\n",
    "**Тариф «Смарт»**\n",
    "\n",
    "    - Ежемесячная плата: 550 рублей\n",
    "    - Включено 500 минут разговора, 50 сообщений и 15 Гб интернет-трафика\n",
    "    - Стоимость услуг сверх тарифного пакета:\n",
    "        - минута разговора: 3 рубля\n",
    "        - сообщение: 3 рубля\n",
    "        - 1 Гб интернет-трафика: 200 рублей\n",
    "\n",
    "**Тариф «Ультра»**\n",
    "\n",
    "    - Ежемесячная плата: 1950 рублей\n",
    "    - Включено 3000 минут разговора, 1000 сообщений и 30 Гб интернет-трафика\n",
    "    - Стоимость услуг сверх тарифного пакета:\n",
    "        - минута разговора: 1 рубль\n",
    "        - сообщение: 1 рубль\n",
    "        - 1 Гб интернет-трафика: 150 рублей\n",
    "\n",
    "Обратите внимание: «Мегалайн» всегда округляет вверх значения минут и мегабайтов. Если пользователь проговорил всего 1 секунду, в тарифе засчитывается целая минута.\n",
    "\n",
    "**Таблица users (информация о пользователях):**\n",
    "\n",
    "    - user_id — уникальный идентификатор пользователя\n",
    "    - first_name — имя пользователя\n",
    "    - last_name — фамилия пользователя\n",
    "    - age — возраст пользователя (годы)\n",
    "    - reg_date — дата подключения тарифа (день, месяц, год)\n",
    "    - churn_date — дата прекращения пользования тарифом (если значение пропущено, то тариф ещё действовал на момент выгрузки данных)\n",
    "    - city — город проживания пользователя\n",
    "    - tariff — название тарифного плана\n",
    "\n",
    "**Таблица calls (информация о звонках):**\n",
    "\n",
    "    - id — уникальный номер звонка\n",
    "    - call_date — дата звонка\n",
    "    - duration — длительность звонка в минутах\n",
    "    - user_id — идентификатор пользователя, сделавшего звонок\n",
    "\n",
    "**Таблица messages (информация о сообщениях):**\n",
    "\n",
    "    - id — уникальный номер сообщения\n",
    "    - message_date — дата сообщения\n",
    "    - user_id — идентификатор пользователя, отправившего сообщение\n",
    "\n",
    "**Таблица internet (информация об интернет-сессиях):**\n",
    "\n",
    "    - id — уникальный номер сессии\n",
    "    - mb_used — объём потраченного за сессию интернет-трафика (в мегабайтах)\n",
    "    - session_date — дата интернет-сессии\n",
    "    - user_id — идентификатор пользователя\n",
    "\n",
    "**Таблица tariffs (информация о тарифах):**\n",
    "\n",
    "    - tariff_name — название тарифа\n",
    "    - rub_monthly_fee — ежемесячная абонентская плата в рублях\n",
    "    - minutes_included — количество минут разговора в месяц, включённых в абонентскую плату\n",
    "    - messages_included — количество сообщений в месяц, включённых в абонентскую плату\n",
    "    - mb_per_month_included — объём интернет-трафика, включённого в абонентскую плату (в мегабайтах)\n",
    "    - rub_per_minute — стоимость минуты разговора сверх тарифного пакета (например, если в тарифе 100 минут разговора в месяц, то со 101 минуты будет взиматься плата)\n",
    "    - rub_per_message — стоимость отправки сообщения сверх тарифного пакета\n",
    "    - rub_per_gb — стоимость дополнительного гигабайта интернет-трафика сверх тарифного пакета (1 гигабайт = 1024 мегабайта)"
   ]
  },
  {
   "cell_type": "code",
   "execution_count": 1,
   "metadata": {},
   "outputs": [],
   "source": [
    "import pandas as pd\n",
    "import math\n",
    "import matplotlib.pyplot as plt\n",
    "from matplotlib.pyplot import figure\n",
    "import numpy as np\n",
    "import calendar\n",
    "import seaborn as sns\n",
    "\n",
    "from scipy.stats import bartlett\n",
    "from scipy import stats\n",
    "from statsmodels.stats import weightstats as stests\n",
    "from IPython.display import display\n",
    "from functools import reduce\n",
    "idx = pd.IndexSlice\n",
    "from scipy import stats as st"
   ]
  },
  {
   "cell_type": "code",
   "execution_count": 2,
   "metadata": {},
   "outputs": [],
   "source": [
    "# cal = pd.read_csv('mobile/calls.csv')\n",
    "# inet = pd.read_csv('mobile/internet.csv')\n",
    "# msg = pd.read_csv('mobile/messages.csv')\n",
    "# trf = pd.read_csv('mobile/tariffs.csv')\n",
    "# usr = pd.read_csv('mobile/users.csv')\n",
    "\n",
    "cal = pd.read_csv('https://code.s3.yandex.net/datasets/calls.csv') # код ревьюера\n",
    "inet = pd.read_csv('https://code.s3.yandex.net/datasets/internet.csv') # код ревьюера\n",
    "msg = pd.read_csv('https://code.s3.yandex.net/datasets/messages.csv') # код ревьюера\n",
    "trf = pd.read_csv('https://code.s3.yandex.net/datasets/tariffs.csv') # код ревьюера\n",
    "usr = pd.read_csv('https://code.s3.yandex.net/datasets/users.csv') # код ревьюера"
   ]
  },
  {
   "cell_type": "markdown",
   "metadata": {},
   "source": [
    "## Изучение общих данных из файлов"
   ]
  },
  {
   "cell_type": "markdown",
   "metadata": {},
   "source": [
    "### Информация о звонках"
   ]
  },
  {
   "cell_type": "code",
   "execution_count": 3,
   "metadata": {},
   "outputs": [
    {
     "data": {
      "text/html": [
       "<div>\n",
       "<style scoped>\n",
       "    .dataframe tbody tr th:only-of-type {\n",
       "        vertical-align: middle;\n",
       "    }\n",
       "\n",
       "    .dataframe tbody tr th {\n",
       "        vertical-align: top;\n",
       "    }\n",
       "\n",
       "    .dataframe thead th {\n",
       "        text-align: right;\n",
       "    }\n",
       "</style>\n",
       "<table border=\"1\" class=\"dataframe\">\n",
       "  <thead>\n",
       "    <tr style=\"text-align: right;\">\n",
       "      <th></th>\n",
       "      <th>id</th>\n",
       "      <th>call_date</th>\n",
       "      <th>duration</th>\n",
       "      <th>user_id</th>\n",
       "    </tr>\n",
       "  </thead>\n",
       "  <tbody>\n",
       "    <tr>\n",
       "      <td>15371</td>\n",
       "      <td>1041_69</td>\n",
       "      <td>2018-12-22</td>\n",
       "      <td>0.00</td>\n",
       "      <td>1041</td>\n",
       "    </tr>\n",
       "    <tr>\n",
       "      <td>194677</td>\n",
       "      <td>1477_425</td>\n",
       "      <td>2018-08-08</td>\n",
       "      <td>10.56</td>\n",
       "      <td>1477</td>\n",
       "    </tr>\n",
       "    <tr>\n",
       "      <td>6020</td>\n",
       "      <td>1017_216</td>\n",
       "      <td>2018-09-06</td>\n",
       "      <td>0.00</td>\n",
       "      <td>1017</td>\n",
       "    </tr>\n",
       "    <tr>\n",
       "      <td>120718</td>\n",
       "      <td>1312_48</td>\n",
       "      <td>2018-08-29</td>\n",
       "      <td>10.03</td>\n",
       "      <td>1312</td>\n",
       "    </tr>\n",
       "    <tr>\n",
       "      <td>5768</td>\n",
       "      <td>1015_488</td>\n",
       "      <td>2018-12-02</td>\n",
       "      <td>1.26</td>\n",
       "      <td>1015</td>\n",
       "    </tr>\n",
       "  </tbody>\n",
       "</table>\n",
       "</div>"
      ],
      "text/plain": [
       "              id   call_date  duration  user_id\n",
       "15371    1041_69  2018-12-22      0.00     1041\n",
       "194677  1477_425  2018-08-08     10.56     1477\n",
       "6020    1017_216  2018-09-06      0.00     1017\n",
       "120718   1312_48  2018-08-29     10.03     1312\n",
       "5768    1015_488  2018-12-02      1.26     1015"
      ]
     },
     "execution_count": 3,
     "metadata": {},
     "output_type": "execute_result"
    }
   ],
   "source": [
    "cal.sample(5)"
   ]
  },
  {
   "cell_type": "code",
   "execution_count": 4,
   "metadata": {},
   "outputs": [
    {
     "data": {
      "image/png": "[encoded data removed]",
      "text/plain": [
       "<Figure size 432x288 with 1 Axes>"
      ]
     },
     "metadata": {
      "needs_background": "light"
     },
     "output_type": "display_data"
    }
   ],
   "source": [
    "cal['duration'].plot(kind='hist', ec='black', bins=50)\n",
    "plt.title(\"Совершенные звонки\")\n",
    "plt.xlabel(\"Продолжительность\")\n",
    "plt.ylabel(\"Количество звонков\")\n",
    "plt.grid(True)\n",
    "plt.show()"
   ]
  },
  {
   "cell_type": "code",
   "execution_count": 7,
   "metadata": {},
   "outputs": [],
   "source": [
    "plt.rcParams[\"figure.figsize\"] = (15, 7)"
   ]
  },
  {
   "cell_type": "code",
   "execution_count": 8,
   "metadata": {},
   "outputs": [
    {
     "data": {
      "image/png": "[encoded data removed]",
      "text/plain": [
       "<Figure size 1080x504 with 1 Axes>"
      ]
     },
     "metadata": {
      "needs_background": "light"
     },
     "output_type": "display_data"
    }
   ],
   "source": [
    "cal['duration'].plot(kind='hist', ec='black', bins=50)\n",
    "plt.title(\"Совершенные звонки\")\n",
    "plt.xlabel(\"Продолжительность\")\n",
    "plt.ylabel(\"Количество звонков\")\n",
    "plt.grid(True)\n",
    "plt.show()"
   ]
  },
  {
   "cell_type": "code",
   "execution_count": 5,
   "metadata": {},
   "outputs": [
    {
     "name": "stdout",
     "output_type": "stream",
     "text": [
      "39613\n",
      "47927\n"
     ]
    }
   ],
   "source": [
    "# проверим сколько звонков по продолжительности составляют меньше минуты.\n",
    "print(len(cal[cal.duration == 0]))\n",
    "print(len(cal[cal.duration < 1]))"
   ]
  },
  {
   "cell_type": "code",
   "execution_count": 6,
   "metadata": {},
   "outputs": [
    {
     "name": "stdout",
     "output_type": "stream",
     "text": [
      "<class 'pandas.core.frame.DataFrame'>\n",
      "RangeIndex: 202607 entries, 0 to 202606\n",
      "Data columns (total 4 columns):\n",
      "id           202607 non-null object\n",
      "call_date    202607 non-null object\n",
      "duration     202607 non-null float64\n",
      "user_id      202607 non-null int64\n",
      "dtypes: float64(1), int64(1), object(2)\n",
      "memory usage: 6.2+ MB\n"
     ]
    }
   ],
   "source": [
    "cal.info()"
   ]
  },
  {
   "cell_type": "markdown",
   "metadata": {},
   "source": [
    "✔️ Данные о звонках в полном объеме, без пропусков, но есть нули, которые необходимо будет удалить, так как скорее всего это несостоявшиеся звонки,  которые не принимают участия в формировании конечной выручки. Данные о времени разговоров в отрезке от 0,1 до минуты округлим до 1, так как скорее всего плата взымается как за целую. Потребуется замена типа в столбце с датой, и огруглить минуты разговора."
   ]
  },
  {
   "cell_type": "markdown",
   "metadata": {},
   "source": [
    "### Информация об интернет-сессиях"
   ]
  },
  {
   "cell_type": "code",
   "execution_count": 7,
   "metadata": {},
   "outputs": [
    {
     "data": {
      "text/html": [
       "<div>\n",
       "<style scoped>\n",
       "    .dataframe tbody tr th:only-of-type {\n",
       "        vertical-align: middle;\n",
       "    }\n",
       "\n",
       "    .dataframe tbody tr th {\n",
       "        vertical-align: top;\n",
       "    }\n",
       "\n",
       "    .dataframe thead th {\n",
       "        text-align: right;\n",
       "    }\n",
       "</style>\n",
       "<table border=\"1\" class=\"dataframe\">\n",
       "  <thead>\n",
       "    <tr style=\"text-align: right;\">\n",
       "      <th></th>\n",
       "      <th>Unnamed: 0</th>\n",
       "      <th>id</th>\n",
       "      <th>mb_used</th>\n",
       "      <th>session_date</th>\n",
       "      <th>user_id</th>\n",
       "    </tr>\n",
       "  </thead>\n",
       "  <tbody>\n",
       "    <tr>\n",
       "      <td>19398</td>\n",
       "      <td>19398</td>\n",
       "      <td>1065_543</td>\n",
       "      <td>447.39</td>\n",
       "      <td>2018-09-29</td>\n",
       "      <td>1065</td>\n",
       "    </tr>\n",
       "    <tr>\n",
       "      <td>136859</td>\n",
       "      <td>136859</td>\n",
       "      <td>1458_237</td>\n",
       "      <td>617.89</td>\n",
       "      <td>2018-10-02</td>\n",
       "      <td>1458</td>\n",
       "    </tr>\n",
       "    <tr>\n",
       "      <td>72408</td>\n",
       "      <td>72408</td>\n",
       "      <td>1244_240</td>\n",
       "      <td>0.00</td>\n",
       "      <td>2018-05-14</td>\n",
       "      <td>1244</td>\n",
       "    </tr>\n",
       "    <tr>\n",
       "      <td>136880</td>\n",
       "      <td>136880</td>\n",
       "      <td>1458_258</td>\n",
       "      <td>289.34</td>\n",
       "      <td>2018-06-23</td>\n",
       "      <td>1458</td>\n",
       "    </tr>\n",
       "    <tr>\n",
       "      <td>112791</td>\n",
       "      <td>112791</td>\n",
       "      <td>1381_380</td>\n",
       "      <td>325.56</td>\n",
       "      <td>2018-01-22</td>\n",
       "      <td>1381</td>\n",
       "    </tr>\n",
       "  </tbody>\n",
       "</table>\n",
       "</div>"
      ],
      "text/plain": [
       "        Unnamed: 0        id  mb_used session_date  user_id\n",
       "19398        19398  1065_543   447.39   2018-09-29     1065\n",
       "136859      136859  1458_237   617.89   2018-10-02     1458\n",
       "72408        72408  1244_240     0.00   2018-05-14     1244\n",
       "136880      136880  1458_258   289.34   2018-06-23     1458\n",
       "112791      112791  1381_380   325.56   2018-01-22     1381"
      ]
     },
     "execution_count": 7,
     "metadata": {},
     "output_type": "execute_result"
    }
   ],
   "source": [
    "inet.sample(5)"
   ]
  },
  {
   "cell_type": "code",
   "execution_count": 9,
   "metadata": {},
   "outputs": [
    {
     "data": {
      "image/png": "[encoded data removed]",
      "text/plain": [
       "<Figure size 1080x504 with 1 Axes>"
      ]
     },
     "metadata": {
      "needs_background": "light"
     },
     "output_type": "display_data"
    }
   ],
   "source": [
    "inet['mb_used'].plot(kind='hist', ec='black', bins=50)\n",
    "plt.title(\"Использование интрнет трафика\")\n",
    "plt.xlabel(\"Количество пользователей\")\n",
    "plt.ylabel(\"Потраченные Мб\")\n",
    "plt.grid(True)\n",
    "plt.show()"
   ]
  },
  {
   "cell_type": "code",
   "execution_count": 9,
   "metadata": {},
   "outputs": [
    {
     "name": "stdout",
     "output_type": "stream",
     "text": [
      "<class 'pandas.core.frame.DataFrame'>\n",
      "RangeIndex: 149396 entries, 0 to 149395\n",
      "Data columns (total 5 columns):\n",
      "Unnamed: 0      149396 non-null int64\n",
      "id              149396 non-null object\n",
      "mb_used         149396 non-null float64\n",
      "session_date    149396 non-null object\n",
      "user_id         149396 non-null int64\n",
      "dtypes: float64(1), int64(2), object(2)\n",
      "memory usage: 5.7+ MB\n"
     ]
    }
   ],
   "source": [
    "inet.info()"
   ]
  },
  {
   "cell_type": "code",
   "execution_count": 10,
   "metadata": {},
   "outputs": [
    {
     "name": "stdout",
     "output_type": "stream",
     "text": [
      "19598\n",
      "19699\n"
     ]
    }
   ],
   "source": [
    "print(len(inet[inet.mb_used == 0]))\n",
    "print(len(inet[inet.mb_used < 1]))"
   ]
  },
  {
   "cell_type": "markdown",
   "metadata": {},
   "source": [
    "✔️ По интернет трафику данные также в полном объеме; пропусков нет, но наблюдается множество нулей, возможно выход осуществлялся в социальные сети, по которым трафик по тарифу скорее всего бесплатный. Раз эти данные не будут влиять на общуую выручку, их нужно будут также удалить. По значениям в отрезке от 0,1 до 1 округлим в большую сторону как указал опертор до 1. Также в таблице присутствует столбец \"Unnamed: 0\" без описания в задании и совпадающий с номером по П/п., его можно удалить. "
   ]
  },
  {
   "cell_type": "markdown",
   "metadata": {},
   "source": [
    "### Информация о сообщениях"
   ]
  },
  {
   "cell_type": "code",
   "execution_count": 11,
   "metadata": {},
   "outputs": [
    {
     "data": {
      "text/html": [
       "<div>\n",
       "<style scoped>\n",
       "    .dataframe tbody tr th:only-of-type {\n",
       "        vertical-align: middle;\n",
       "    }\n",
       "\n",
       "    .dataframe tbody tr th {\n",
       "        vertical-align: top;\n",
       "    }\n",
       "\n",
       "    .dataframe thead th {\n",
       "        text-align: right;\n",
       "    }\n",
       "</style>\n",
       "<table border=\"1\" class=\"dataframe\">\n",
       "  <thead>\n",
       "    <tr style=\"text-align: right;\">\n",
       "      <th></th>\n",
       "      <th>id</th>\n",
       "      <th>message_date</th>\n",
       "      <th>user_id</th>\n",
       "    </tr>\n",
       "  </thead>\n",
       "  <tbody>\n",
       "    <tr>\n",
       "      <td>113064</td>\n",
       "      <td>1457_113</td>\n",
       "      <td>2018-08-02</td>\n",
       "      <td>1457</td>\n",
       "    </tr>\n",
       "    <tr>\n",
       "      <td>18830</td>\n",
       "      <td>1083_19</td>\n",
       "      <td>2018-12-29</td>\n",
       "      <td>1083</td>\n",
       "    </tr>\n",
       "    <tr>\n",
       "      <td>92472</td>\n",
       "      <td>1381_425</td>\n",
       "      <td>2018-09-20</td>\n",
       "      <td>1381</td>\n",
       "    </tr>\n",
       "    <tr>\n",
       "      <td>4519</td>\n",
       "      <td>1018_57</td>\n",
       "      <td>2018-09-20</td>\n",
       "      <td>1018</td>\n",
       "    </tr>\n",
       "    <tr>\n",
       "      <td>19630</td>\n",
       "      <td>1087_28</td>\n",
       "      <td>2018-12-21</td>\n",
       "      <td>1087</td>\n",
       "    </tr>\n",
       "  </tbody>\n",
       "</table>\n",
       "</div>"
      ],
      "text/plain": [
       "              id message_date  user_id\n",
       "113064  1457_113   2018-08-02     1457\n",
       "18830    1083_19   2018-12-29     1083\n",
       "92472   1381_425   2018-09-20     1381\n",
       "4519     1018_57   2018-09-20     1018\n",
       "19630    1087_28   2018-12-21     1087"
      ]
     },
     "execution_count": 11,
     "metadata": {},
     "output_type": "execute_result"
    }
   ],
   "source": [
    "msg.sample(5)"
   ]
  },
  {
   "cell_type": "code",
   "execution_count": 12,
   "metadata": {},
   "outputs": [
    {
     "name": "stdout",
     "output_type": "stream",
     "text": [
      "<class 'pandas.core.frame.DataFrame'>\n",
      "RangeIndex: 123036 entries, 0 to 123035\n",
      "Data columns (total 3 columns):\n",
      "id              123036 non-null object\n",
      "message_date    123036 non-null object\n",
      "user_id         123036 non-null int64\n",
      "dtypes: int64(1), object(2)\n",
      "memory usage: 2.8+ MB\n"
     ]
    }
   ],
   "source": [
    "msg.info()"
   ]
  },
  {
   "cell_type": "markdown",
   "metadata": {},
   "source": [
    "✔️ Данные по сообщениям в полном объеме, без пропусков. Необходимо будет привести дату также в соответствующий формат."
   ]
  },
  {
   "cell_type": "markdown",
   "metadata": {},
   "source": [
    "### Информация о тарифах"
   ]
  },
  {
   "cell_type": "code",
   "execution_count": 13,
   "metadata": {},
   "outputs": [
    {
     "data": {
      "text/html": [
       "<div>\n",
       "<style scoped>\n",
       "    .dataframe tbody tr th:only-of-type {\n",
       "        vertical-align: middle;\n",
       "    }\n",
       "\n",
       "    .dataframe tbody tr th {\n",
       "        vertical-align: top;\n",
       "    }\n",
       "\n",
       "    .dataframe thead th {\n",
       "        text-align: right;\n",
       "    }\n",
       "</style>\n",
       "<table border=\"1\" class=\"dataframe\">\n",
       "  <thead>\n",
       "    <tr style=\"text-align: right;\">\n",
       "      <th></th>\n",
       "      <th>messages_included</th>\n",
       "      <th>mb_per_month_included</th>\n",
       "      <th>minutes_included</th>\n",
       "      <th>rub_monthly_fee</th>\n",
       "      <th>rub_per_gb</th>\n",
       "      <th>rub_per_message</th>\n",
       "      <th>rub_per_minute</th>\n",
       "      <th>tariff_name</th>\n",
       "    </tr>\n",
       "  </thead>\n",
       "  <tbody>\n",
       "    <tr>\n",
       "      <td>0</td>\n",
       "      <td>50</td>\n",
       "      <td>15360</td>\n",
       "      <td>500</td>\n",
       "      <td>550</td>\n",
       "      <td>200</td>\n",
       "      <td>3</td>\n",
       "      <td>3</td>\n",
       "      <td>smart</td>\n",
       "    </tr>\n",
       "    <tr>\n",
       "      <td>1</td>\n",
       "      <td>1000</td>\n",
       "      <td>30720</td>\n",
       "      <td>3000</td>\n",
       "      <td>1950</td>\n",
       "      <td>150</td>\n",
       "      <td>1</td>\n",
       "      <td>1</td>\n",
       "      <td>ultra</td>\n",
       "    </tr>\n",
       "  </tbody>\n",
       "</table>\n",
       "</div>"
      ],
      "text/plain": [
       "   messages_included  mb_per_month_included  minutes_included  \\\n",
       "0                 50                  15360               500   \n",
       "1               1000                  30720              3000   \n",
       "\n",
       "   rub_monthly_fee  rub_per_gb  rub_per_message  rub_per_minute tariff_name  \n",
       "0              550         200                3               3       smart  \n",
       "1             1950         150                1               1       ultra  "
      ]
     },
     "execution_count": 13,
     "metadata": {},
     "output_type": "execute_result"
    }
   ],
   "source": [
    "trf.head()"
   ]
  },
  {
   "cell_type": "code",
   "execution_count": 14,
   "metadata": {},
   "outputs": [
    {
     "name": "stdout",
     "output_type": "stream",
     "text": [
      "<class 'pandas.core.frame.DataFrame'>\n",
      "RangeIndex: 2 entries, 0 to 1\n",
      "Data columns (total 8 columns):\n",
      "messages_included        2 non-null int64\n",
      "mb_per_month_included    2 non-null int64\n",
      "minutes_included         2 non-null int64\n",
      "rub_monthly_fee          2 non-null int64\n",
      "rub_per_gb               2 non-null int64\n",
      "rub_per_message          2 non-null int64\n",
      "rub_per_minute           2 non-null int64\n",
      "tariff_name              2 non-null object\n",
      "dtypes: int64(7), object(1)\n",
      "memory usage: 256.0+ bytes\n"
     ]
    }
   ],
   "source": [
    "trf.info()"
   ]
  },
  {
   "cell_type": "markdown",
   "metadata": {},
   "source": [
    "✔️ Данные чистые."
   ]
  },
  {
   "cell_type": "markdown",
   "metadata": {},
   "source": [
    "### Информация о пользователях"
   ]
  },
  {
   "cell_type": "code",
   "execution_count": 15,
   "metadata": {},
   "outputs": [
    {
     "data": {
      "text/html": [
       "<div>\n",
       "<style scoped>\n",
       "    .dataframe tbody tr th:only-of-type {\n",
       "        vertical-align: middle;\n",
       "    }\n",
       "\n",
       "    .dataframe tbody tr th {\n",
       "        vertical-align: top;\n",
       "    }\n",
       "\n",
       "    .dataframe thead th {\n",
       "        text-align: right;\n",
       "    }\n",
       "</style>\n",
       "<table border=\"1\" class=\"dataframe\">\n",
       "  <thead>\n",
       "    <tr style=\"text-align: right;\">\n",
       "      <th></th>\n",
       "      <th>user_id</th>\n",
       "      <th>age</th>\n",
       "      <th>churn_date</th>\n",
       "      <th>city</th>\n",
       "      <th>first_name</th>\n",
       "      <th>last_name</th>\n",
       "      <th>reg_date</th>\n",
       "      <th>tariff</th>\n",
       "    </tr>\n",
       "  </thead>\n",
       "  <tbody>\n",
       "    <tr>\n",
       "      <td>32</td>\n",
       "      <td>1032</td>\n",
       "      <td>31</td>\n",
       "      <td>NaN</td>\n",
       "      <td>Ульяновск</td>\n",
       "      <td>Инна</td>\n",
       "      <td>Игнатьева</td>\n",
       "      <td>2018-01-04</td>\n",
       "      <td>smart</td>\n",
       "    </tr>\n",
       "    <tr>\n",
       "      <td>69</td>\n",
       "      <td>1069</td>\n",
       "      <td>36</td>\n",
       "      <td>NaN</td>\n",
       "      <td>Екатеринбург</td>\n",
       "      <td>Гордей</td>\n",
       "      <td>Кочетов</td>\n",
       "      <td>2018-12-10</td>\n",
       "      <td>smart</td>\n",
       "    </tr>\n",
       "    <tr>\n",
       "      <td>151</td>\n",
       "      <td>1151</td>\n",
       "      <td>39</td>\n",
       "      <td>NaN</td>\n",
       "      <td>Пенза</td>\n",
       "      <td>Лариса</td>\n",
       "      <td>Молчанова</td>\n",
       "      <td>2018-09-15</td>\n",
       "      <td>ultra</td>\n",
       "    </tr>\n",
       "    <tr>\n",
       "      <td>37</td>\n",
       "      <td>1037</td>\n",
       "      <td>73</td>\n",
       "      <td>NaN</td>\n",
       "      <td>Череповец</td>\n",
       "      <td>Изольда</td>\n",
       "      <td>Архипова</td>\n",
       "      <td>2018-10-13</td>\n",
       "      <td>smart</td>\n",
       "    </tr>\n",
       "    <tr>\n",
       "      <td>68</td>\n",
       "      <td>1068</td>\n",
       "      <td>34</td>\n",
       "      <td>NaN</td>\n",
       "      <td>Москва</td>\n",
       "      <td>Ким</td>\n",
       "      <td>Демьянов</td>\n",
       "      <td>2018-07-16</td>\n",
       "      <td>smart</td>\n",
       "    </tr>\n",
       "  </tbody>\n",
       "</table>\n",
       "</div>"
      ],
      "text/plain": [
       "     user_id  age churn_date          city first_name  last_name    reg_date  \\\n",
       "32      1032   31        NaN     Ульяновск       Инна  Игнатьева  2018-01-04   \n",
       "69      1069   36        NaN  Екатеринбург     Гордей    Кочетов  2018-12-10   \n",
       "151     1151   39        NaN         Пенза     Лариса  Молчанова  2018-09-15   \n",
       "37      1037   73        NaN     Череповец    Изольда   Архипова  2018-10-13   \n",
       "68      1068   34        NaN        Москва        Ким   Демьянов  2018-07-16   \n",
       "\n",
       "    tariff  \n",
       "32   smart  \n",
       "69   smart  \n",
       "151  ultra  \n",
       "37   smart  \n",
       "68   smart  "
      ]
     },
     "execution_count": 15,
     "metadata": {},
     "output_type": "execute_result"
    }
   ],
   "source": [
    "usr.sample(5)"
   ]
  },
  {
   "cell_type": "code",
   "execution_count": 16,
   "metadata": {},
   "outputs": [
    {
     "name": "stdout",
     "output_type": "stream",
     "text": [
      "<class 'pandas.core.frame.DataFrame'>\n",
      "RangeIndex: 500 entries, 0 to 499\n",
      "Data columns (total 8 columns):\n",
      "user_id       500 non-null int64\n",
      "age           500 non-null int64\n",
      "churn_date    38 non-null object\n",
      "city          500 non-null object\n",
      "first_name    500 non-null object\n",
      "last_name     500 non-null object\n",
      "reg_date      500 non-null object\n",
      "tariff        500 non-null object\n",
      "dtypes: int64(2), object(6)\n",
      "memory usage: 31.4+ KB\n"
     ]
    }
   ],
   "source": [
    "usr.info()"
   ]
  },
  {
   "cell_type": "code",
   "execution_count": 17,
   "metadata": {},
   "outputs": [],
   "source": [
    "usr.columns = ['user_id', 'age', 'churn_date', 'city', 'first_name', 'last_name',\n",
    "       'reg_date', 'tariff_name']"
   ]
  },
  {
   "cell_type": "markdown",
   "metadata": {},
   "source": [
    "✔️ Данные по пользователям в полном объеме, кроме информации о дате прекращения пользования тарифом, где пропуски означают что клиент продолжает пользоваться тарифом. "
   ]
  },
  {
   "cell_type": "markdown",
   "metadata": {},
   "source": [
    "# Вывод"
   ]
  },
  {
   "cell_type": "markdown",
   "metadata": {},
   "source": [
    "**Датасет содержит данные по 500 клиентам, потребуется заменить тип данных у столбцов с датой и временем, а также округлить значения минут разговора и мегабайт использованного трафика в большую сторону, так как тарифы считаются по минутам и мегабайтам. Кроме того, после объединения данных (сводная таблица по звонкам, по сообщениям и интернет-трафику) возникнут пропущенные значения (клиент мог в каком-то месяце не писать сообщений, но звонить и использовать интернет), которые также нужно будет заменить на нули.**"
   ]
  },
  {
   "cell_type": "markdown",
   "metadata": {},
   "source": [
    "## Обработка данных"
   ]
  },
  {
   "cell_type": "markdown",
   "metadata": {},
   "source": [
    "- Приведите данные к нужным типам;\n",
    "\n",
    "- Найдите и исправьте ошибки в данных."
   ]
  },
  {
   "cell_type": "code",
   "execution_count": 18,
   "metadata": {},
   "outputs": [],
   "source": [
    "#Заменим тип данных, обозначающих дату, со строчного на временной:\n",
    "cal['call_date'] = pd.to_datetime(cal['call_date'], format='%Y-%m-%d')\n",
    "inet['session_date'] = pd.to_datetime(inet['session_date'], format='%Y-%m-%d')\n",
    "msg['message_date'] = pd.to_datetime(msg['message_date'], format='%Y-%m-%d')\n",
    "usr['churn_date'] = pd.to_datetime(usr['churn_date'], format='%Y-%m-%d')\n",
    "usr['reg_date'] = pd.to_datetime(usr['reg_date'], format='%Y-%m-%d')"
   ]
  },
  {
   "cell_type": "code",
   "execution_count": 19,
   "metadata": {},
   "outputs": [],
   "source": [
    "#округлим значения по продолжительности звонков до 1 и удалим строки с 0\n",
    "cal['duration'] = cal['duration'].apply(np.ceil)\n",
    "cal['duration'] = cal['duration'].replace(0, np.NaN)\n",
    "cal = cal.dropna()\n",
    "cal['duration'] = cal['duration'].astype(int)"
   ]
  },
  {
   "cell_type": "code",
   "execution_count": 20,
   "metadata": {},
   "outputs": [
    {
     "data": {
      "text/plain": [
       "0"
      ]
     },
     "execution_count": 20,
     "metadata": {},
     "output_type": "execute_result"
    }
   ],
   "source": [
    "#проверим замену\n",
    "len(cal[cal.duration < 1])"
   ]
  },
  {
   "cell_type": "code",
   "execution_count": 21,
   "metadata": {},
   "outputs": [
    {
     "data": {
      "image/png": "[encoded data removed]",
      "text/plain": [
       "<Figure size 432x288 with 1 Axes>"
      ]
     },
     "metadata": {
      "needs_background": "light"
     },
     "output_type": "display_data"
    }
   ],
   "source": [
    "#посмотрим на графике\n",
    "cal['duration'].plot(kind='hist', ec='black', bins=50)\n",
    "plt.title(\"Совершенные звонки\")\n",
    "plt.xlabel(\"Продолжительность\")\n",
    "plt.ylabel(\"Количество звонков\")\n",
    "plt.grid(True)\n",
    "plt.show()"
   ]
  },
  {
   "cell_type": "code",
   "execution_count": 22,
   "metadata": {},
   "outputs": [],
   "source": [
    "#округлим по инет трафику все значения в большую сторону, а нулевые значения заменим на 1.\n",
    "inet['mb_used'] = inet['mb_used'].apply(np.ceil)\n",
    "inet['mb_used'] = inet['mb_used'].replace(0, np.NaN)\n",
    "inet = inet.dropna()\n",
    "inet['mb_used'] = inet['mb_used'].astype(int)"
   ]
  },
  {
   "cell_type": "code",
   "execution_count": 23,
   "metadata": {},
   "outputs": [
    {
     "data": {
      "text/plain": [
       "id                      object\n",
       "mb_used                  int64\n",
       "session_date    datetime64[ns]\n",
       "user_id                  int64\n",
       "dtype: object"
      ]
     },
     "execution_count": 23,
     "metadata": {},
     "output_type": "execute_result"
    }
   ],
   "source": [
    "#удалим непонятный столбец в инет сессии\n",
    "inet = inet.drop('Unnamed: 0',axis=1)\n",
    "inet.dtypes"
   ]
  },
  {
   "cell_type": "code",
   "execution_count": 24,
   "metadata": {},
   "outputs": [
    {
     "data": {
      "image/png": "[encoded data removed]",
      "text/plain": [
       "<Figure size 432x288 with 1 Axes>"
      ]
     },
     "metadata": {
      "needs_background": "light"
     },
     "output_type": "display_data"
    }
   ],
   "source": [
    "#посмотрим на графике\n",
    "inet['mb_used'].plot(kind='hist', ec='black', bins=50)\n",
    "plt.title(\"Использование интернет трафика\")\n",
    "plt.xlabel(\"Количество пользователей\")\n",
    "plt.ylabel(\"Потраченные Мб\")\n",
    "plt.grid(True)\n",
    "plt.show()"
   ]
  },
  {
   "cell_type": "code",
   "execution_count": 25,
   "metadata": {},
   "outputs": [],
   "source": [
    "#добавим столбцы с месяцами\n",
    "cal['month'] = cal['call_date'].values.astype('datetime64[M]')\n",
    "usr['month'] = usr['reg_date'].values.astype('datetime64[M]')\n",
    "msg['month'] = msg['message_date'].values.astype('datetime64[M]')\n",
    "inet['month'] = inet['session_date'].values.astype('datetime64[M]')"
   ]
  },
  {
   "cell_type": "markdown",
   "metadata": {},
   "source": [
    "**Посчитайте для каждого пользователя:**\n",
    "- количество сделанных звонков и израсходованных минут разговора по месяцам;\n",
    "- количество отправленных сообщений по месяцам;\n",
    "- объем израсходованного интернет-трафика по месяцам;\n",
    "- помесячную выручку с каждого пользователя (вычтите бесплатный лимит из суммарного количества звонков, сообщений и интернет-трафика; остаток умножьте на значение из тарифного плана; прибавьте абонентскую плату, соответствующую тарифному плану)."
   ]
  },
  {
   "cell_type": "markdown",
   "metadata": {},
   "source": [
    "<div style=\"border:solid purple 5px; padding: 20px\"> \n",
    "<h2 align=\"center\"> Рубрика «Питонячий лайфхакер» <a class=\"tocSkip\"> </h2>\n",
    "\n",
    "<h3> Красивый print() <a class=\"tocSkip\"> </h3>\n",
    "\n",
    "Мы очень часто отлаживаем код и пользуемся функцией `print`. Вывод в одну строку не всегда удобен. К примеру, когда мы делаем запрос серверу и получаем огромный json. Встроенный модуль pprint поможет нам навести красоту. С каждым новым вложением он делает дополнительный отступ и вывод всегда радует глаз. Вот [документация](https://docs.python.org/3/library/pprint.html) на сам модуль. Кстати, мы можем переопределить стандартную функцию print написав `print = pprint.pprint`\n",
    "\n",
    "Ниже приведен пример кода. Вы можете самостоятельно поэкспериментировать с модулем.\n",
    "\n",
    "![](https://i.ibb.co/353GvhX/image.png)"
   ]
  },
  {
   "cell_type": "markdown",
   "metadata": {},
   "source": [
    "### Количество сделанных звонков и израсходованных минут разговора по месяцам"
   ]
  },
  {
   "cell_type": "code",
   "execution_count": 26,
   "metadata": {},
   "outputs": [],
   "source": [
    "user_cal = cal.groupby(['user_id', 'month'])\\\n",
    "                  .agg({'duration':'sum', 'id':'count'})\\\n",
    "                  .reset_index()\\\n",
    "                  .rename(columns={'duration':'month_calls_duration','id':'calls_total_in_month'})\\"
   ]
  },
  {
   "cell_type": "code",
   "execution_count": 27,
   "metadata": {},
   "outputs": [
    {
     "data": {
      "text/html": [
       "<div>\n",
       "<style scoped>\n",
       "    .dataframe tbody tr th:only-of-type {\n",
       "        vertical-align: middle;\n",
       "    }\n",
       "\n",
       "    .dataframe tbody tr th {\n",
       "        vertical-align: top;\n",
       "    }\n",
       "\n",
       "    .dataframe thead th {\n",
       "        text-align: right;\n",
       "    }\n",
       "</style>\n",
       "<table border=\"1\" class=\"dataframe\">\n",
       "  <thead>\n",
       "    <tr style=\"text-align: right;\">\n",
       "      <th></th>\n",
       "      <th>user_id</th>\n",
       "      <th>month</th>\n",
       "      <th>month_calls_duration</th>\n",
       "      <th>calls_total_in_month</th>\n",
       "    </tr>\n",
       "  </thead>\n",
       "  <tbody>\n",
       "    <tr>\n",
       "      <td>2966</td>\n",
       "      <td>1467</td>\n",
       "      <td>2018-12-01</td>\n",
       "      <td>1673</td>\n",
       "      <td>190</td>\n",
       "    </tr>\n",
       "    <tr>\n",
       "      <td>2353</td>\n",
       "      <td>1377</td>\n",
       "      <td>2018-03-01</td>\n",
       "      <td>1609</td>\n",
       "      <td>165</td>\n",
       "    </tr>\n",
       "    <tr>\n",
       "      <td>1359</td>\n",
       "      <td>1216</td>\n",
       "      <td>2018-12-01</td>\n",
       "      <td>1435</td>\n",
       "      <td>162</td>\n",
       "    </tr>\n",
       "  </tbody>\n",
       "</table>\n",
       "</div>"
      ],
      "text/plain": [
       "      user_id      month  month_calls_duration  calls_total_in_month\n",
       "2966     1467 2018-12-01                  1673                   190\n",
       "2353     1377 2018-03-01                  1609                   165\n",
       "1359     1216 2018-12-01                  1435                   162"
      ]
     },
     "execution_count": 27,
     "metadata": {},
     "output_type": "execute_result"
    }
   ],
   "source": [
    "user_cal.sort_values(by = 'month_calls_duration', ascending=False).head(3)"
   ]
  },
  {
   "cell_type": "markdown",
   "metadata": {},
   "source": [
    "### Количество отправленных сообщений по месяцам"
   ]
  },
  {
   "cell_type": "code",
   "execution_count": 28,
   "metadata": {},
   "outputs": [],
   "source": [
    "user_msg = msg.groupby(['user_id', 'month'])\\\n",
    "                        .agg({'id':'count'})\\\n",
    "                        .reset_index()\\\n",
    "                        .rename(columns={'id':'sms_total_in_month'})"
   ]
  },
  {
   "cell_type": "code",
   "execution_count": 29,
   "metadata": {},
   "outputs": [
    {
     "data": {
      "text/html": [
       "<div>\n",
       "<style scoped>\n",
       "    .dataframe tbody tr th:only-of-type {\n",
       "        vertical-align: middle;\n",
       "    }\n",
       "\n",
       "    .dataframe tbody tr th {\n",
       "        vertical-align: top;\n",
       "    }\n",
       "\n",
       "    .dataframe thead th {\n",
       "        text-align: right;\n",
       "    }\n",
       "</style>\n",
       "<table border=\"1\" class=\"dataframe\">\n",
       "  <thead>\n",
       "    <tr style=\"text-align: right;\">\n",
       "      <th></th>\n",
       "      <th>user_id</th>\n",
       "      <th>month</th>\n",
       "      <th>sms_total_in_month</th>\n",
       "    </tr>\n",
       "  </thead>\n",
       "  <tbody>\n",
       "    <tr>\n",
       "      <td>0</td>\n",
       "      <td>1000</td>\n",
       "      <td>2018-05-01</td>\n",
       "      <td>22</td>\n",
       "    </tr>\n",
       "    <tr>\n",
       "      <td>1</td>\n",
       "      <td>1000</td>\n",
       "      <td>2018-06-01</td>\n",
       "      <td>60</td>\n",
       "    </tr>\n",
       "    <tr>\n",
       "      <td>2</td>\n",
       "      <td>1000</td>\n",
       "      <td>2018-07-01</td>\n",
       "      <td>75</td>\n",
       "    </tr>\n",
       "  </tbody>\n",
       "</table>\n",
       "</div>"
      ],
      "text/plain": [
       "   user_id      month  sms_total_in_month\n",
       "0     1000 2018-05-01                  22\n",
       "1     1000 2018-06-01                  60\n",
       "2     1000 2018-07-01                  75"
      ]
     },
     "execution_count": 29,
     "metadata": {},
     "output_type": "execute_result"
    }
   ],
   "source": [
    "user_msg.head(3)"
   ]
  },
  {
   "cell_type": "markdown",
   "metadata": {},
   "source": [
    "### Объем израсходованного интернет-трафика по месяцам"
   ]
  },
  {
   "cell_type": "code",
   "execution_count": 30,
   "metadata": {},
   "outputs": [],
   "source": [
    "user_inet = inet.groupby(['user_id', 'month'])\\\n",
    "                        .agg({'mb_used':'sum'})\\\n",
    "                        .reset_index()\\\n",
    "                        .rename(columns={'mb_used':'mb_total_in_month'})"
   ]
  },
  {
   "cell_type": "code",
   "execution_count": 31,
   "metadata": {},
   "outputs": [
    {
     "data": {
      "text/html": [
       "<div>\n",
       "<style scoped>\n",
       "    .dataframe tbody tr th:only-of-type {\n",
       "        vertical-align: middle;\n",
       "    }\n",
       "\n",
       "    .dataframe tbody tr th {\n",
       "        vertical-align: top;\n",
       "    }\n",
       "\n",
       "    .dataframe thead th {\n",
       "        text-align: right;\n",
       "    }\n",
       "</style>\n",
       "<table border=\"1\" class=\"dataframe\">\n",
       "  <thead>\n",
       "    <tr style=\"text-align: right;\">\n",
       "      <th></th>\n",
       "      <th>user_id</th>\n",
       "      <th>month</th>\n",
       "      <th>mb_total_in_month</th>\n",
       "    </tr>\n",
       "  </thead>\n",
       "  <tbody>\n",
       "    <tr>\n",
       "      <td>0</td>\n",
       "      <td>1000</td>\n",
       "      <td>2018-05-01</td>\n",
       "      <td>2256</td>\n",
       "    </tr>\n",
       "    <tr>\n",
       "      <td>1</td>\n",
       "      <td>1000</td>\n",
       "      <td>2018-06-01</td>\n",
       "      <td>23257</td>\n",
       "    </tr>\n",
       "    <tr>\n",
       "      <td>2</td>\n",
       "      <td>1000</td>\n",
       "      <td>2018-07-01</td>\n",
       "      <td>14016</td>\n",
       "    </tr>\n",
       "  </tbody>\n",
       "</table>\n",
       "</div>"
      ],
      "text/plain": [
       "   user_id      month  mb_total_in_month\n",
       "0     1000 2018-05-01               2256\n",
       "1     1000 2018-06-01              23257\n",
       "2     1000 2018-07-01              14016"
      ]
     },
     "execution_count": 31,
     "metadata": {},
     "output_type": "execute_result"
    }
   ],
   "source": [
    "user_inet.head(3)"
   ]
  },
  {
   "cell_type": "markdown",
   "metadata": {},
   "source": [
    "### Помесячная выручка с каждого пользователя"
   ]
  },
  {
   "cell_type": "code",
   "execution_count": 32,
   "metadata": {},
   "outputs": [],
   "source": [
    "cl = user_cal.merge(user_msg, on=['user_id','month'], how='outer')\n",
    "cl = cl.merge(user_inet, on=['user_id','month'], how = 'outer')\n",
    "cl = cl.merge(usr, on='user_id', how='left')\n",
    "cl = cl.merge(trf, on='tariff_name', how='left')"
   ]
  },
  {
   "cell_type": "code",
   "execution_count": 33,
   "metadata": {},
   "outputs": [
    {
     "data": {
      "text/html": [
       "<div>\n",
       "<style scoped>\n",
       "    .dataframe tbody tr th:only-of-type {\n",
       "        vertical-align: middle;\n",
       "    }\n",
       "\n",
       "    .dataframe tbody tr th {\n",
       "        vertical-align: top;\n",
       "    }\n",
       "\n",
       "    .dataframe thead th {\n",
       "        text-align: right;\n",
       "    }\n",
       "</style>\n",
       "<table border=\"1\" class=\"dataframe\">\n",
       "  <thead>\n",
       "    <tr style=\"text-align: right;\">\n",
       "      <th></th>\n",
       "      <th>user_id</th>\n",
       "      <th>month_x</th>\n",
       "      <th>month_calls_duration</th>\n",
       "      <th>calls_total_in_month</th>\n",
       "      <th>sms_total_in_month</th>\n",
       "      <th>mb_total_in_month</th>\n",
       "      <th>age</th>\n",
       "      <th>churn_date</th>\n",
       "      <th>city</th>\n",
       "      <th>first_name</th>\n",
       "      <th>...</th>\n",
       "      <th>reg_date</th>\n",
       "      <th>tariff_name</th>\n",
       "      <th>month_y</th>\n",
       "      <th>messages_included</th>\n",
       "      <th>mb_per_month_included</th>\n",
       "      <th>minutes_included</th>\n",
       "      <th>rub_monthly_fee</th>\n",
       "      <th>rub_per_gb</th>\n",
       "      <th>rub_per_message</th>\n",
       "      <th>rub_per_minute</th>\n",
       "    </tr>\n",
       "  </thead>\n",
       "  <tbody>\n",
       "    <tr>\n",
       "      <td>0</td>\n",
       "      <td>1000</td>\n",
       "      <td>2018-05-01</td>\n",
       "      <td>159.0</td>\n",
       "      <td>17.0</td>\n",
       "      <td>22.0</td>\n",
       "      <td>2256.0</td>\n",
       "      <td>52</td>\n",
       "      <td>NaT</td>\n",
       "      <td>Краснодар</td>\n",
       "      <td>Рафаил</td>\n",
       "      <td>...</td>\n",
       "      <td>2018-05-25</td>\n",
       "      <td>ultra</td>\n",
       "      <td>2018-05-01</td>\n",
       "      <td>1000</td>\n",
       "      <td>30720</td>\n",
       "      <td>3000</td>\n",
       "      <td>1950</td>\n",
       "      <td>150</td>\n",
       "      <td>1</td>\n",
       "      <td>1</td>\n",
       "    </tr>\n",
       "    <tr>\n",
       "      <td>1</td>\n",
       "      <td>1000</td>\n",
       "      <td>2018-06-01</td>\n",
       "      <td>172.0</td>\n",
       "      <td>28.0</td>\n",
       "      <td>60.0</td>\n",
       "      <td>23257.0</td>\n",
       "      <td>52</td>\n",
       "      <td>NaT</td>\n",
       "      <td>Краснодар</td>\n",
       "      <td>Рафаил</td>\n",
       "      <td>...</td>\n",
       "      <td>2018-05-25</td>\n",
       "      <td>ultra</td>\n",
       "      <td>2018-05-01</td>\n",
       "      <td>1000</td>\n",
       "      <td>30720</td>\n",
       "      <td>3000</td>\n",
       "      <td>1950</td>\n",
       "      <td>150</td>\n",
       "      <td>1</td>\n",
       "      <td>1</td>\n",
       "    </tr>\n",
       "    <tr>\n",
       "      <td>2</td>\n",
       "      <td>1000</td>\n",
       "      <td>2018-07-01</td>\n",
       "      <td>340.0</td>\n",
       "      <td>41.0</td>\n",
       "      <td>75.0</td>\n",
       "      <td>14016.0</td>\n",
       "      <td>52</td>\n",
       "      <td>NaT</td>\n",
       "      <td>Краснодар</td>\n",
       "      <td>Рафаил</td>\n",
       "      <td>...</td>\n",
       "      <td>2018-05-25</td>\n",
       "      <td>ultra</td>\n",
       "      <td>2018-05-01</td>\n",
       "      <td>1000</td>\n",
       "      <td>30720</td>\n",
       "      <td>3000</td>\n",
       "      <td>1950</td>\n",
       "      <td>150</td>\n",
       "      <td>1</td>\n",
       "      <td>1</td>\n",
       "    </tr>\n",
       "    <tr>\n",
       "      <td>3</td>\n",
       "      <td>1000</td>\n",
       "      <td>2018-08-01</td>\n",
       "      <td>408.0</td>\n",
       "      <td>42.0</td>\n",
       "      <td>81.0</td>\n",
       "      <td>14070.0</td>\n",
       "      <td>52</td>\n",
       "      <td>NaT</td>\n",
       "      <td>Краснодар</td>\n",
       "      <td>Рафаил</td>\n",
       "      <td>...</td>\n",
       "      <td>2018-05-25</td>\n",
       "      <td>ultra</td>\n",
       "      <td>2018-05-01</td>\n",
       "      <td>1000</td>\n",
       "      <td>30720</td>\n",
       "      <td>3000</td>\n",
       "      <td>1950</td>\n",
       "      <td>150</td>\n",
       "      <td>1</td>\n",
       "      <td>1</td>\n",
       "    </tr>\n",
       "    <tr>\n",
       "      <td>4</td>\n",
       "      <td>1000</td>\n",
       "      <td>2018-09-01</td>\n",
       "      <td>466.0</td>\n",
       "      <td>46.0</td>\n",
       "      <td>57.0</td>\n",
       "      <td>14581.0</td>\n",
       "      <td>52</td>\n",
       "      <td>NaT</td>\n",
       "      <td>Краснодар</td>\n",
       "      <td>Рафаил</td>\n",
       "      <td>...</td>\n",
       "      <td>2018-05-25</td>\n",
       "      <td>ultra</td>\n",
       "      <td>2018-05-01</td>\n",
       "      <td>1000</td>\n",
       "      <td>30720</td>\n",
       "      <td>3000</td>\n",
       "      <td>1950</td>\n",
       "      <td>150</td>\n",
       "      <td>1</td>\n",
       "      <td>1</td>\n",
       "    </tr>\n",
       "    <tr>\n",
       "      <td>5</td>\n",
       "      <td>1000</td>\n",
       "      <td>2018-10-01</td>\n",
       "      <td>350.0</td>\n",
       "      <td>44.0</td>\n",
       "      <td>73.0</td>\n",
       "      <td>14717.0</td>\n",
       "      <td>52</td>\n",
       "      <td>NaT</td>\n",
       "      <td>Краснодар</td>\n",
       "      <td>Рафаил</td>\n",
       "      <td>...</td>\n",
       "      <td>2018-05-25</td>\n",
       "      <td>ultra</td>\n",
       "      <td>2018-05-01</td>\n",
       "      <td>1000</td>\n",
       "      <td>30720</td>\n",
       "      <td>3000</td>\n",
       "      <td>1950</td>\n",
       "      <td>150</td>\n",
       "      <td>1</td>\n",
       "      <td>1</td>\n",
       "    </tr>\n",
       "    <tr>\n",
       "      <td>6</td>\n",
       "      <td>1000</td>\n",
       "      <td>2018-11-01</td>\n",
       "      <td>338.0</td>\n",
       "      <td>37.0</td>\n",
       "      <td>58.0</td>\n",
       "      <td>14768.0</td>\n",
       "      <td>52</td>\n",
       "      <td>NaT</td>\n",
       "      <td>Краснодар</td>\n",
       "      <td>Рафаил</td>\n",
       "      <td>...</td>\n",
       "      <td>2018-05-25</td>\n",
       "      <td>ultra</td>\n",
       "      <td>2018-05-01</td>\n",
       "      <td>1000</td>\n",
       "      <td>30720</td>\n",
       "      <td>3000</td>\n",
       "      <td>1950</td>\n",
       "      <td>150</td>\n",
       "      <td>1</td>\n",
       "      <td>1</td>\n",
       "    </tr>\n",
       "  </tbody>\n",
       "</table>\n",
       "<p>7 rows × 21 columns</p>\n",
       "</div>"
      ],
      "text/plain": [
       "   user_id    month_x  month_calls_duration  calls_total_in_month  \\\n",
       "0     1000 2018-05-01                 159.0                  17.0   \n",
       "1     1000 2018-06-01                 172.0                  28.0   \n",
       "2     1000 2018-07-01                 340.0                  41.0   \n",
       "3     1000 2018-08-01                 408.0                  42.0   \n",
       "4     1000 2018-09-01                 466.0                  46.0   \n",
       "5     1000 2018-10-01                 350.0                  44.0   \n",
       "6     1000 2018-11-01                 338.0                  37.0   \n",
       "\n",
       "   sms_total_in_month  mb_total_in_month  age churn_date       city  \\\n",
       "0                22.0             2256.0   52        NaT  Краснодар   \n",
       "1                60.0            23257.0   52        NaT  Краснодар   \n",
       "2                75.0            14016.0   52        NaT  Краснодар   \n",
       "3                81.0            14070.0   52        NaT  Краснодар   \n",
       "4                57.0            14581.0   52        NaT  Краснодар   \n",
       "5                73.0            14717.0   52        NaT  Краснодар   \n",
       "6                58.0            14768.0   52        NaT  Краснодар   \n",
       "\n",
       "  first_name  ...   reg_date tariff_name    month_y messages_included  \\\n",
       "0     Рафаил  ... 2018-05-25       ultra 2018-05-01              1000   \n",
       "1     Рафаил  ... 2018-05-25       ultra 2018-05-01              1000   \n",
       "2     Рафаил  ... 2018-05-25       ultra 2018-05-01              1000   \n",
       "3     Рафаил  ... 2018-05-25       ultra 2018-05-01              1000   \n",
       "4     Рафаил  ... 2018-05-25       ultra 2018-05-01              1000   \n",
       "5     Рафаил  ... 2018-05-25       ultra 2018-05-01              1000   \n",
       "6     Рафаил  ... 2018-05-25       ultra 2018-05-01              1000   \n",
       "\n",
       "   mb_per_month_included  minutes_included  rub_monthly_fee  rub_per_gb  \\\n",
       "0                  30720              3000             1950         150   \n",
       "1                  30720              3000             1950         150   \n",
       "2                  30720              3000             1950         150   \n",
       "3                  30720              3000             1950         150   \n",
       "4                  30720              3000             1950         150   \n",
       "5                  30720              3000             1950         150   \n",
       "6                  30720              3000             1950         150   \n",
       "\n",
       "   rub_per_message  rub_per_minute  \n",
       "0                1               1  \n",
       "1                1               1  \n",
       "2                1               1  \n",
       "3                1               1  \n",
       "4                1               1  \n",
       "5                1               1  \n",
       "6                1               1  \n",
       "\n",
       "[7 rows x 21 columns]"
      ]
     },
     "execution_count": 33,
     "metadata": {},
     "output_type": "execute_result"
    }
   ],
   "source": [
    "cl.head(7)"
   ]
  },
  {
   "cell_type": "code",
   "execution_count": 34,
   "metadata": {},
   "outputs": [
    {
     "data": {
      "text/plain": [
       "user_id                     0\n",
       "month_x                     0\n",
       "month_calls_duration       46\n",
       "calls_total_in_month       46\n",
       "sms_total_in_month        497\n",
       "mb_total_in_month          13\n",
       "age                         0\n",
       "churn_date               3027\n",
       "city                        0\n",
       "first_name                  0\n",
       "last_name                   0\n",
       "reg_date                    0\n",
       "tariff_name                 0\n",
       "month_y                     0\n",
       "messages_included           0\n",
       "mb_per_month_included       0\n",
       "minutes_included            0\n",
       "rub_monthly_fee             0\n",
       "rub_per_gb                  0\n",
       "rub_per_message             0\n",
       "rub_per_minute              0\n",
       "dtype: int64"
      ]
     },
     "execution_count": 34,
     "metadata": {},
     "output_type": "execute_result"
    }
   ],
   "source": [
    "#после слияния таблиц проверим на возможно появившиеся пропуски\n",
    "cl.isna().sum()"
   ]
  },
  {
   "cell_type": "code",
   "execution_count": 35,
   "metadata": {},
   "outputs": [],
   "source": [
    "#заменим появившиеся пропуски на 0, это абоненты которые не тратятся на звонки, сообщения или интернет\n",
    "cl['sms_total_in_month'] = cl['sms_total_in_month'].fillna(0).astype(int)\n",
    "cl['mb_total_in_month'] = cl['mb_total_in_month'].fillna(0).astype(int)\n",
    "cl['month_calls_duration'] = cl['month_calls_duration'].fillna(0).astype(int)\n",
    "cl['calls_total_in_month'] = cl['calls_total_in_month'].fillna(0).astype(int)"
   ]
  },
  {
   "cell_type": "code",
   "execution_count": 36,
   "metadata": {},
   "outputs": [
    {
     "data": {
      "text/plain": [
       "user_id                     0\n",
       "month_x                     0\n",
       "month_calls_duration        0\n",
       "calls_total_in_month        0\n",
       "sms_total_in_month          0\n",
       "mb_total_in_month           0\n",
       "age                         0\n",
       "churn_date               3027\n",
       "city                        0\n",
       "first_name                  0\n",
       "last_name                   0\n",
       "reg_date                    0\n",
       "tariff_name                 0\n",
       "month_y                     0\n",
       "messages_included           0\n",
       "mb_per_month_included       0\n",
       "minutes_included            0\n",
       "rub_monthly_fee             0\n",
       "rub_per_gb                  0\n",
       "rub_per_message             0\n",
       "rub_per_minute              0\n",
       "dtype: int64"
      ]
     },
     "execution_count": 36,
     "metadata": {},
     "output_type": "execute_result"
    }
   ],
   "source": [
    "cl.isna().sum()"
   ]
  },
  {
   "cell_type": "code",
   "execution_count": 37,
   "metadata": {},
   "outputs": [
    {
     "data": {
      "text/plain": [
       "0"
      ]
     },
     "execution_count": 37,
     "metadata": {},
     "output_type": "execute_result"
    }
   ],
   "source": [
    "#проверим также дубликаты\n",
    "cl.duplicated().sum()"
   ]
  },
  {
   "cell_type": "code",
   "execution_count": 38,
   "metadata": {},
   "outputs": [],
   "source": [
    "#теперь напишем функцию подсчета выручки\n",
    "def revenue(row):\n",
    "    sms = (row['sms_total_in_month'] - row['messages_included']) * row['rub_per_message']\n",
    "    mins = (row['month_calls_duration'] - row['minutes_included']) * row['rub_per_minute']\n",
    "    mbs = np.ceil((row['mb_total_in_month'] - row['mb_per_month_included']) * row['rub_per_gb'] / 1024)\n",
    "    total = 0\n",
    "    for i in [sms, mins, mbs]:\n",
    "        if i > 0:\n",
    "            total += i\n",
    "    return total"
   ]
  },
  {
   "cell_type": "code",
   "execution_count": 39,
   "metadata": {},
   "outputs": [],
   "source": [
    "#добавим расчеты по каждому пользователю в таблицу\n",
    "cl['revenue'] = cl.apply(lambda x: revenue(x), axis=1)"
   ]
  },
  {
   "cell_type": "code",
   "execution_count": 40,
   "metadata": {},
   "outputs": [],
   "source": [
    "#добавим итоговый расчет\n",
    "cl['total_paid'] = cl['rub_monthly_fee'] + cl['revenue']"
   ]
  },
  {
   "cell_type": "code",
   "execution_count": 41,
   "metadata": {},
   "outputs": [
    {
     "data": {
      "text/html": [
       "<div>\n",
       "<style scoped>\n",
       "    .dataframe tbody tr th:only-of-type {\n",
       "        vertical-align: middle;\n",
       "    }\n",
       "\n",
       "    .dataframe tbody tr th {\n",
       "        vertical-align: top;\n",
       "    }\n",
       "\n",
       "    .dataframe thead th {\n",
       "        text-align: right;\n",
       "    }\n",
       "</style>\n",
       "<table border=\"1\" class=\"dataframe\">\n",
       "  <thead>\n",
       "    <tr style=\"text-align: right;\">\n",
       "      <th></th>\n",
       "      <th>user_id</th>\n",
       "      <th>month_x</th>\n",
       "      <th>month_calls_duration</th>\n",
       "      <th>calls_total_in_month</th>\n",
       "      <th>sms_total_in_month</th>\n",
       "      <th>mb_total_in_month</th>\n",
       "      <th>age</th>\n",
       "      <th>churn_date</th>\n",
       "      <th>city</th>\n",
       "      <th>first_name</th>\n",
       "      <th>...</th>\n",
       "      <th>month_y</th>\n",
       "      <th>messages_included</th>\n",
       "      <th>mb_per_month_included</th>\n",
       "      <th>minutes_included</th>\n",
       "      <th>rub_monthly_fee</th>\n",
       "      <th>rub_per_gb</th>\n",
       "      <th>rub_per_message</th>\n",
       "      <th>rub_per_minute</th>\n",
       "      <th>revenue</th>\n",
       "      <th>total_paid</th>\n",
       "    </tr>\n",
       "  </thead>\n",
       "  <tbody>\n",
       "    <tr>\n",
       "      <td>3100</td>\n",
       "      <td>1486</td>\n",
       "      <td>2018-12-01</td>\n",
       "      <td>1007</td>\n",
       "      <td>115</td>\n",
       "      <td>83</td>\n",
       "      <td>38610</td>\n",
       "      <td>35</td>\n",
       "      <td>NaT</td>\n",
       "      <td>Нижний Новгород</td>\n",
       "      <td>Матвей</td>\n",
       "      <td>...</td>\n",
       "      <td>2018-10-01</td>\n",
       "      <td>50</td>\n",
       "      <td>15360</td>\n",
       "      <td>500</td>\n",
       "      <td>550</td>\n",
       "      <td>200</td>\n",
       "      <td>3</td>\n",
       "      <td>3</td>\n",
       "      <td>6162.0</td>\n",
       "      <td>6712.0</td>\n",
       "    </tr>\n",
       "    <tr>\n",
       "      <td>1618</td>\n",
       "      <td>1261</td>\n",
       "      <td>2018-12-01</td>\n",
       "      <td>1074</td>\n",
       "      <td>113</td>\n",
       "      <td>22</td>\n",
       "      <td>32697</td>\n",
       "      <td>46</td>\n",
       "      <td>NaT</td>\n",
       "      <td>Казань</td>\n",
       "      <td>Мадина</td>\n",
       "      <td>...</td>\n",
       "      <td>2018-10-01</td>\n",
       "      <td>50</td>\n",
       "      <td>15360</td>\n",
       "      <td>500</td>\n",
       "      <td>550</td>\n",
       "      <td>200</td>\n",
       "      <td>3</td>\n",
       "      <td>3</td>\n",
       "      <td>5109.0</td>\n",
       "      <td>5659.0</td>\n",
       "    </tr>\n",
       "    <tr>\n",
       "      <td>260</td>\n",
       "      <td>1042</td>\n",
       "      <td>2018-12-01</td>\n",
       "      <td>728</td>\n",
       "      <td>94</td>\n",
       "      <td>75</td>\n",
       "      <td>37219</td>\n",
       "      <td>42</td>\n",
       "      <td>NaT</td>\n",
       "      <td>Хабаровск</td>\n",
       "      <td>Константин</td>\n",
       "      <td>...</td>\n",
       "      <td>2018-11-01</td>\n",
       "      <td>50</td>\n",
       "      <td>15360</td>\n",
       "      <td>500</td>\n",
       "      <td>550</td>\n",
       "      <td>200</td>\n",
       "      <td>3</td>\n",
       "      <td>3</td>\n",
       "      <td>5029.0</td>\n",
       "      <td>5579.0</td>\n",
       "    </tr>\n",
       "    <tr>\n",
       "      <td>3099</td>\n",
       "      <td>1486</td>\n",
       "      <td>2018-11-01</td>\n",
       "      <td>764</td>\n",
       "      <td>84</td>\n",
       "      <td>96</td>\n",
       "      <td>36319</td>\n",
       "      <td>35</td>\n",
       "      <td>NaT</td>\n",
       "      <td>Нижний Новгород</td>\n",
       "      <td>Матвей</td>\n",
       "      <td>...</td>\n",
       "      <td>2018-10-01</td>\n",
       "      <td>50</td>\n",
       "      <td>15360</td>\n",
       "      <td>500</td>\n",
       "      <td>550</td>\n",
       "      <td>200</td>\n",
       "      <td>3</td>\n",
       "      <td>3</td>\n",
       "      <td>5024.0</td>\n",
       "      <td>5574.0</td>\n",
       "    </tr>\n",
       "    <tr>\n",
       "      <td>1789</td>\n",
       "      <td>1286</td>\n",
       "      <td>2018-12-01</td>\n",
       "      <td>739</td>\n",
       "      <td>83</td>\n",
       "      <td>68</td>\n",
       "      <td>35151</td>\n",
       "      <td>19</td>\n",
       "      <td>NaT</td>\n",
       "      <td>Москва</td>\n",
       "      <td>Рашид</td>\n",
       "      <td>...</td>\n",
       "      <td>2018-11-01</td>\n",
       "      <td>50</td>\n",
       "      <td>15360</td>\n",
       "      <td>500</td>\n",
       "      <td>550</td>\n",
       "      <td>200</td>\n",
       "      <td>3</td>\n",
       "      <td>3</td>\n",
       "      <td>4637.0</td>\n",
       "      <td>5187.0</td>\n",
       "    </tr>\n",
       "  </tbody>\n",
       "</table>\n",
       "<p>5 rows × 23 columns</p>\n",
       "</div>"
      ],
      "text/plain": [
       "      user_id    month_x  month_calls_duration  calls_total_in_month  \\\n",
       "3100     1486 2018-12-01                  1007                   115   \n",
       "1618     1261 2018-12-01                  1074                   113   \n",
       "260      1042 2018-12-01                   728                    94   \n",
       "3099     1486 2018-11-01                   764                    84   \n",
       "1789     1286 2018-12-01                   739                    83   \n",
       "\n",
       "      sms_total_in_month  mb_total_in_month  age churn_date             city  \\\n",
       "3100                  83              38610   35        NaT  Нижний Новгород   \n",
       "1618                  22              32697   46        NaT           Казань   \n",
       "260                   75              37219   42        NaT        Хабаровск   \n",
       "3099                  96              36319   35        NaT  Нижний Новгород   \n",
       "1789                  68              35151   19        NaT           Москва   \n",
       "\n",
       "      first_name  ...    month_y messages_included mb_per_month_included  \\\n",
       "3100      Матвей  ... 2018-10-01                50                 15360   \n",
       "1618      Мадина  ... 2018-10-01                50                 15360   \n",
       "260   Константин  ... 2018-11-01                50                 15360   \n",
       "3099      Матвей  ... 2018-10-01                50                 15360   \n",
       "1789       Рашид  ... 2018-11-01                50                 15360   \n",
       "\n",
       "     minutes_included  rub_monthly_fee  rub_per_gb  rub_per_message  \\\n",
       "3100              500              550         200                3   \n",
       "1618              500              550         200                3   \n",
       "260               500              550         200                3   \n",
       "3099              500              550         200                3   \n",
       "1789              500              550         200                3   \n",
       "\n",
       "      rub_per_minute  revenue  total_paid  \n",
       "3100               3   6162.0      6712.0  \n",
       "1618               3   5109.0      5659.0  \n",
       "260                3   5029.0      5579.0  \n",
       "3099               3   5024.0      5574.0  \n",
       "1789               3   4637.0      5187.0  \n",
       "\n",
       "[5 rows x 23 columns]"
      ]
     },
     "execution_count": 41,
     "metadata": {},
     "output_type": "execute_result"
    }
   ],
   "source": [
    "#посмотрим что получилось\n",
    "cl.sort_values(by='total_paid', ascending=False).head()"
   ]
  },
  {
   "cell_type": "code",
   "execution_count": 42,
   "metadata": {},
   "outputs": [],
   "source": [
    "cl['month_x'] = cl['month_x'].values.astype('datetime64[M]')"
   ]
  },
  {
   "cell_type": "markdown",
   "metadata": {},
   "source": [
    "## Анализ данных"
   ]
  },
  {
   "cell_type": "markdown",
   "metadata": {},
   "source": [
    "- Опишите поведение клиентов оператора, исходя из выборки. Сколько минут разговора, сколько сообщений и какой объём интернет-трафика требуется пользователям каждого тарифа в месяц? Посчитайте среднее количество, дисперсию и стандартное отклонение. Постройте гистограммы. Опишите распределения."
   ]
  },
  {
   "cell_type": "markdown",
   "metadata": {},
   "source": [
    "### Общая информация"
   ]
  },
  {
   "cell_type": "code",
   "execution_count": 43,
   "metadata": {},
   "outputs": [
    {
     "name": "stdout",
     "output_type": "stream",
     "text": [
      "Количество минут разговора в месяц на тарифе \"Смарт\" составляет - 77631 , на тарифе \"Ультра\" - 43227\n",
      "Количество сообщений в месяц на тарифе \"Смарт\" составляет - 6201 , на тарифе \"Ультра\" - 4052\n",
      "Объем трафика (в Гб) в месяц на тарифе \"Смарт\" составляет - 2944 , на тарифе \"Ультра\" - 1562\n"
     ]
    }
   ],
   "source": [
    "smart = cl.query('tariff_name==\"smart\"')\n",
    "ultra = cl.query('tariff_name==\"ultra\"')\n",
    "print('Количество минут разговора в месяц на тарифе \"Смарт\" составляет - {:.0f}'.format(smart['month_calls_duration'].sum()/12),', на тарифе \"Ультра\" - {:.0f}'.format(ultra['month_calls_duration'].sum()/12))\n",
    "print('Количество сообщений в месяц на тарифе \"Смарт\" составляет - {:.0f}'.format(smart['sms_total_in_month'].sum()/12),', на тарифе \"Ультра\" - {:.0f}'.format(ultra['sms_total_in_month'].sum()/12))\n",
    "print('Объем трафика (в Гб) в месяц на тарифе \"Смарт\" составляет - {:.0f}'.format(smart['mb_total_in_month'].sum()/1024/12),', на тарифе \"Ультра\" - {:.0f}'.format(ultra['mb_total_in_month'].sum()/1024/12))      "
   ]
  },
  {
   "cell_type": "code",
   "execution_count": 44,
   "metadata": {},
   "outputs": [
    {
     "data": {
      "text/html": [
       "<div>\n",
       "<style scoped>\n",
       "    .dataframe tbody tr th:only-of-type {\n",
       "        vertical-align: middle;\n",
       "    }\n",
       "\n",
       "    .dataframe tbody tr th {\n",
       "        vertical-align: top;\n",
       "    }\n",
       "\n",
       "    .dataframe thead th {\n",
       "        text-align: right;\n",
       "    }\n",
       "</style>\n",
       "<table border=\"1\" class=\"dataframe\">\n",
       "  <thead>\n",
       "    <tr style=\"text-align: right;\">\n",
       "      <th></th>\n",
       "      <th>tariff_name</th>\n",
       "      <th>total_paid</th>\n",
       "      <th>var</th>\n",
       "      <th>std</th>\n",
       "    </tr>\n",
       "  </thead>\n",
       "  <tbody>\n",
       "    <tr>\n",
       "      <td>0</td>\n",
       "      <td>smart</td>\n",
       "      <td>1233.64</td>\n",
       "      <td>620699.73</td>\n",
       "      <td>787.84</td>\n",
       "    </tr>\n",
       "    <tr>\n",
       "      <td>1</td>\n",
       "      <td>ultra</td>\n",
       "      <td>2060.60</td>\n",
       "      <td>127060.63</td>\n",
       "      <td>356.46</td>\n",
       "    </tr>\n",
       "  </tbody>\n",
       "</table>\n",
       "</div>"
      ],
      "text/plain": [
       "  tariff_name  total_paid        var     std\n",
       "0       smart     1233.64  620699.73  787.84\n",
       "1       ultra     2060.60  127060.63  356.46"
      ]
     },
     "execution_count": 44,
     "metadata": {},
     "output_type": "execute_result"
    }
   ],
   "source": [
    "#посчитаем среднее количество, дисперсию и стандартное отклонение\n",
    "metrics=cl.groupby(['tariff_name']).agg({'total_paid' : ['mean', lambda x: np.var(x, ddof=1), lambda x: np.std(x, ddof=1)]}).reset_index().round(2)\n",
    "metrics.set_axis(['tariff_name', 'total_paid', 'var', 'std'], axis = 'columns', inplace = True)\n",
    "metrics"
   ]
  },
  {
   "cell_type": "code",
   "execution_count": 45,
   "metadata": {},
   "outputs": [
    {
     "name": "stderr",
     "output_type": "stream",
     "text": [
      "/opt/conda/lib/python3.7/site-packages/numpy/core/_asarray.py:83: VisibleDeprecationWarning: Creating an ndarray from ragged nested sequences (which is a list-or-tuple of lists-or-tuples-or ndarrays with different lengths or shapes) is deprecated. If you meant to do this, you must specify 'dtype=object' when creating the ndarray\n",
      "  return array(a, dtype, copy=False, order=order)\n"
     ]
    },
    {
     "data": {
      "text/plain": [
       "(0, 7000)"
      ]
     },
     "execution_count": 45,
     "metadata": {},
     "output_type": "execute_result"
    },
    {
     "data": {
      "image/png": "[encoded data removed]",
      "text/plain": [
       "<Figure size 432x432 with 1 Axes>"
      ]
     },
     "metadata": {
      "needs_background": "light"
     },
     "output_type": "display_data"
    }
   ],
   "source": [
    "#построим диаграммы размаха для каждого тарифа.\n",
    "\n",
    "cl.boxplot('total_paid', by='tariff_name', figsize=(6,6)).set_ylim(0,7000)"
   ]
  },
  {
   "cell_type": "code",
   "execution_count": 46,
   "metadata": {},
   "outputs": [
    {
     "data": {
      "text/plain": [
       "(0, 5000)"
      ]
     },
     "execution_count": 46,
     "metadata": {},
     "output_type": "execute_result"
    },
    {
     "data": {
      "image/png": "[encoded data removed]",
      "text/plain": [
       "<Figure size 432x432 with 1 Axes>"
      ]
     },
     "metadata": {
      "needs_background": "light"
     },
     "output_type": "display_data"
    },
    {
     "data": {
      "image/png": "[encoded data removed]",
      "text/plain": [
       "<Figure size 432x432 with 1 Axes>"
      ]
     },
     "metadata": {
      "needs_background": "light"
     },
     "output_type": "display_data"
    }
   ],
   "source": [
    "cl_smart_bx = cl[cl['tariff_name'] == \"smart\"]\n",
    "cl_ultra_bx = cl[cl['tariff_name'] == \"ultra\"]\n",
    "cl_smart_bx.boxplot('total_paid', by='tariff_name', figsize=(6,6)).set_ylim(0,7000)\n",
    "cl_ultra_bx.boxplot('total_paid', by='tariff_name', figsize=(6,6)).set_ylim(0,5000)"
   ]
  },
  {
   "cell_type": "code",
   "execution_count": 47,
   "metadata": {},
   "outputs": [
    {
     "data": {
      "text/plain": [
       "5026.0"
      ]
     },
     "metadata": {},
     "output_type": "display_data"
    },
    {
     "data": {
      "text/html": [
       "<div>\n",
       "<style scoped>\n",
       "    .dataframe tbody tr th:only-of-type {\n",
       "        vertical-align: middle;\n",
       "    }\n",
       "\n",
       "    .dataframe tbody tr th {\n",
       "        vertical-align: top;\n",
       "    }\n",
       "\n",
       "    .dataframe thead th {\n",
       "        text-align: right;\n",
       "    }\n",
       "</style>\n",
       "<table border=\"1\" class=\"dataframe\">\n",
       "  <thead>\n",
       "    <tr style=\"text-align: right;\">\n",
       "      <th></th>\n",
       "      <th>count</th>\n",
       "      <th>mean</th>\n",
       "      <th>std</th>\n",
       "      <th>min</th>\n",
       "      <th>25%</th>\n",
       "      <th>50%</th>\n",
       "      <th>75%</th>\n",
       "      <th>max</th>\n",
       "    </tr>\n",
       "  </thead>\n",
       "  <tbody>\n",
       "    <tr>\n",
       "      <td>total_paid</td>\n",
       "      <td>2229.0</td>\n",
       "      <td>1233.641095</td>\n",
       "      <td>787.844994</td>\n",
       "      <td>550.0</td>\n",
       "      <td>550.0</td>\n",
       "      <td>960.0</td>\n",
       "      <td>1669.0</td>\n",
       "      <td>6712.0</td>\n",
       "    </tr>\n",
       "  </tbody>\n",
       "</table>\n",
       "</div>"
      ],
      "text/plain": [
       "             count         mean         std    min    25%    50%     75%  \\\n",
       "total_paid  2229.0  1233.641095  787.844994  550.0  550.0  960.0  1669.0   \n",
       "\n",
       "               max  \n",
       "total_paid  6712.0  "
      ]
     },
     "metadata": {},
     "output_type": "display_data"
    }
   ],
   "source": [
    "#рассчитаем максимальные значения с применением правил трех сигм, все что больше будем считать выбросами.\n",
    "parameters_s = smart[['total_paid']].describe().T\n",
    "q1_s, q2_s = parameters_s['25%'][0], parameters_s['75%'][0]\n",
    "iqr_s = q2_s - q1_s\n",
    "max_value_s = q2_s + 3*iqr_s\n",
    "display(max_value_s)\n",
    "display(parameters_s)"
   ]
  },
  {
   "cell_type": "code",
   "execution_count": 48,
   "metadata": {},
   "outputs": [
    {
     "data": {
      "text/plain": [
       "1950.0"
      ]
     },
     "metadata": {},
     "output_type": "display_data"
    },
    {
     "data": {
      "text/html": [
       "<div>\n",
       "<style scoped>\n",
       "    .dataframe tbody tr th:only-of-type {\n",
       "        vertical-align: middle;\n",
       "    }\n",
       "\n",
       "    .dataframe tbody tr th {\n",
       "        vertical-align: top;\n",
       "    }\n",
       "\n",
       "    .dataframe thead th {\n",
       "        text-align: right;\n",
       "    }\n",
       "</style>\n",
       "<table border=\"1\" class=\"dataframe\">\n",
       "  <thead>\n",
       "    <tr style=\"text-align: right;\">\n",
       "      <th></th>\n",
       "      <th>count</th>\n",
       "      <th>mean</th>\n",
       "      <th>std</th>\n",
       "      <th>min</th>\n",
       "      <th>25%</th>\n",
       "      <th>50%</th>\n",
       "      <th>75%</th>\n",
       "      <th>max</th>\n",
       "    </tr>\n",
       "  </thead>\n",
       "  <tbody>\n",
       "    <tr>\n",
       "      <td>total_paid</td>\n",
       "      <td>985.0</td>\n",
       "      <td>2060.598985</td>\n",
       "      <td>356.45565</td>\n",
       "      <td>1950.0</td>\n",
       "      <td>1950.0</td>\n",
       "      <td>1950.0</td>\n",
       "      <td>1950.0</td>\n",
       "      <td>4744.0</td>\n",
       "    </tr>\n",
       "  </tbody>\n",
       "</table>\n",
       "</div>"
      ],
      "text/plain": [
       "            count         mean        std     min     25%     50%     75%  \\\n",
       "total_paid  985.0  2060.598985  356.45565  1950.0  1950.0  1950.0  1950.0   \n",
       "\n",
       "               max  \n",
       "total_paid  4744.0  "
      ]
     },
     "metadata": {},
     "output_type": "display_data"
    }
   ],
   "source": [
    "parameters_u = ultra[['total_paid']].describe().T\n",
    "q1_u, q2_u = parameters_u['25%'][0], parameters_u['75%'][0]\n",
    "iqr_u = q2_u - q1_u\n",
    "max_value_u = q2_u + 3*iqr_u\n",
    "max_value_u\n",
    "display(max_value_u)\n",
    "display(parameters_u)"
   ]
  },
  {
   "cell_type": "code",
   "execution_count": 49,
   "metadata": {},
   "outputs": [],
   "source": [
    "#избавимся от выбросов\n",
    "cl =cl.drop(cl[(cl.tariff_name == 'smart') & (cl.total_paid > 5022)].index)\n",
    "cl =cl.drop(cl[(cl.tariff_name == 'ultra') & (cl.total_paid > 1950)].index)"
   ]
  },
  {
   "cell_type": "code",
   "execution_count": 50,
   "metadata": {},
   "outputs": [],
   "source": [
    "#Посчитаем минуты разговора, сообщения и объем трафика на пользователя в месяц.\n",
    "cl_pivot = cl.pivot_table(index = [\"tariff_name\", \"month_x\"], values = [\"month_calls_duration\", \"sms_total_in_month\", \"mb_total_in_month\"], aggfunc=\"sum\").reset_index()"
   ]
  },
  {
   "cell_type": "code",
   "execution_count": 51,
   "metadata": {},
   "outputs": [
    {
     "data": {
      "text/html": [
       "<div>\n",
       "<style scoped>\n",
       "    .dataframe tbody tr th:only-of-type {\n",
       "        vertical-align: middle;\n",
       "    }\n",
       "\n",
       "    .dataframe tbody tr th {\n",
       "        vertical-align: top;\n",
       "    }\n",
       "\n",
       "    .dataframe thead th {\n",
       "        text-align: right;\n",
       "    }\n",
       "</style>\n",
       "<table border=\"1\" class=\"dataframe\">\n",
       "  <thead>\n",
       "    <tr style=\"text-align: right;\">\n",
       "      <th></th>\n",
       "      <th>tariff_name</th>\n",
       "      <th>month_x</th>\n",
       "      <th>mb_total_in_month</th>\n",
       "      <th>month_calls_duration</th>\n",
       "      <th>sms_total_in_month</th>\n",
       "    </tr>\n",
       "  </thead>\n",
       "  <tbody>\n",
       "    <tr>\n",
       "      <td>0</td>\n",
       "      <td>smart</td>\n",
       "      <td>2018-01-01</td>\n",
       "      <td>289831</td>\n",
       "      <td>6931</td>\n",
       "      <td>620</td>\n",
       "    </tr>\n",
       "    <tr>\n",
       "      <td>12</td>\n",
       "      <td>ultra</td>\n",
       "      <td>2018-01-01</td>\n",
       "      <td>118382</td>\n",
       "      <td>3853</td>\n",
       "      <td>304</td>\n",
       "    </tr>\n",
       "    <tr>\n",
       "      <td>1</td>\n",
       "      <td>smart</td>\n",
       "      <td>2018-02-01</td>\n",
       "      <td>673461</td>\n",
       "      <td>17324</td>\n",
       "      <td>1397</td>\n",
       "    </tr>\n",
       "    <tr>\n",
       "      <td>13</td>\n",
       "      <td>ultra</td>\n",
       "      <td>2018-02-01</td>\n",
       "      <td>217671</td>\n",
       "      <td>6340</td>\n",
       "      <td>381</td>\n",
       "    </tr>\n",
       "    <tr>\n",
       "      <td>2</td>\n",
       "      <td>smart</td>\n",
       "      <td>2018-03-01</td>\n",
       "      <td>1164537</td>\n",
       "      <td>30034</td>\n",
       "      <td>2453</td>\n",
       "    </tr>\n",
       "  </tbody>\n",
       "</table>\n",
       "</div>"
      ],
      "text/plain": [
       "   tariff_name    month_x  mb_total_in_month  month_calls_duration  \\\n",
       "0        smart 2018-01-01             289831                  6931   \n",
       "12       ultra 2018-01-01             118382                  3853   \n",
       "1        smart 2018-02-01             673461                 17324   \n",
       "13       ultra 2018-02-01             217671                  6340   \n",
       "2        smart 2018-03-01            1164537                 30034   \n",
       "\n",
       "    sms_total_in_month  \n",
       "0                  620  \n",
       "12                 304  \n",
       "1                 1397  \n",
       "13                 381  \n",
       "2                 2453  "
      ]
     },
     "execution_count": 51,
     "metadata": {},
     "output_type": "execute_result"
    }
   ],
   "source": [
    "cl_pivot = cl_pivot.sort_values(by = 'month_x')\n",
    "cl_pivot.head()"
   ]
  },
  {
   "cell_type": "code",
   "execution_count": 52,
   "metadata": {},
   "outputs": [],
   "source": [
    "cl_pivot_smart = cl_pivot.query(\"tariff_name == 'smart'\").set_index(\"month_x\")\n",
    "cl_pivot_ultra = cl_pivot.query(\"tariff_name == 'ultra'\").set_index(\"month_x\")"
   ]
  },
  {
   "cell_type": "markdown",
   "metadata": {},
   "source": [
    "### Сравнение суммарной выручки за год по каждому из тарифов:"
   ]
  },
  {
   "cell_type": "code",
   "execution_count": 53,
   "metadata": {},
   "outputs": [
    {
     "data": {
      "image/png": "[encoded data removed]",
      "text/plain": [
       "<Figure size 1440x360 with 1 Axes>"
      ]
     },
     "metadata": {},
     "output_type": "display_data"
    }
   ],
   "source": [
    "all_cl = cl['total_paid'].sum()\n",
    "def func_pct(pct):\n",
    "    value = float(pct/100.*all_cl)\n",
    "    return \"{:.2f}%\\n({:,.0f} руб.)\".format(pct, value)\n",
    "explode = (0.05, 0)\n",
    "axes = cl.groupby('tariff_name')['total_paid'].sum().plot(kind='pie', subplots=True, fontsize=13,\n",
    "                                                                     use_index=False, shadow=True, explode=explode,\n",
    "                                                                     title = 'Выручка', pctdistance=0.45,\n",
    "                                                                     startangle=20, figsize=(20,5),\n",
    "                                                                     autopct=lambda pct: func_pct(pct))\n",
    "for ax in axes:\n",
    "      ax.set_ylabel('')"
   ]
  },
  {
   "cell_type": "markdown",
   "metadata": {},
   "source": [
    "### Анализ звонков за месяц\n"
   ]
  },
  {
   "cell_type": "code",
   "execution_count": 54,
   "metadata": {},
   "outputs": [],
   "source": [
    "cls = ['month_calls_duration']"
   ]
  },
  {
   "cell_type": "code",
   "execution_count": 55,
   "metadata": {},
   "outputs": [
    {
     "data": {
      "image/png": "[encoded data removed]",
      "text/plain": [
       "<Figure size 1080x360 with 1 Axes>"
      ]
     },
     "metadata": {},
     "output_type": "display_data"
    }
   ],
   "source": [
    "for i in cls: \n",
    "    figure(num=None, figsize=(15, 5), facecolor='w', edgecolor='k')\n",
    "    cl_pivot_smart[i].plot()\n",
    "    cl_pivot_ultra[i].plot()\n",
    "    plt.title(\"Значение по тарифам по месяцам по колонке {}\".format(i))\n",
    "    plt.xlabel(\"Период\")\n",
    "    plt.ylabel(i)\n",
    "    plt.legend([\"ultra\", \"smart\"])\n",
    "    plt.grid(True)\n",
    "    plt.show()"
   ]
  },
  {
   "cell_type": "code",
   "execution_count": 56,
   "metadata": {},
   "outputs": [
    {
     "data": {
      "text/html": [
       "<style  type=\"text/css\" >\n",
       "</style><table id=\"T_95f438f4_ad5d_11eb_8f7d_02420a39dee2\" ><thead>    <tr>        <th class=\"blank level0\" ></th>        <th class=\"col_heading level0 col0\" colspan=4>month_calls_duration</th>    </tr>    <tr>        <th class=\"blank level1\" ></th>        <th class=\"col_heading level1 col0\" >median</th>        <th class=\"col_heading level1 col1\" >mean</th>        <th class=\"col_heading level1 col2\" >var</th>        <th class=\"col_heading level1 col3\" >std</th>    </tr>    <tr>        <th class=\"index_name level0\" >tariff_name</th>        <th class=\"blank\" ></th>        <th class=\"blank\" ></th>        <th class=\"blank\" ></th>        <th class=\"blank\" ></th>    </tr></thead><tbody>\n",
       "                <tr>\n",
       "                        <th id=\"T_95f438f4_ad5d_11eb_8f7d_02420a39dee2level0_row0\" class=\"row_heading level0 row0\" >smart</th>\n",
       "                        <td id=\"T_95f438f4_ad5d_11eb_8f7d_02420a39dee2row0_col0\" class=\"data row0 col0\" >421</td>\n",
       "                        <td id=\"T_95f438f4_ad5d_11eb_8f7d_02420a39dee2row0_col1\" class=\"data row0 col1\" >417</td>\n",
       "                        <td id=\"T_95f438f4_ad5d_11eb_8f7d_02420a39dee2row0_col2\" class=\"data row0 col2\" >35777</td>\n",
       "                        <td id=\"T_95f438f4_ad5d_11eb_8f7d_02420a39dee2row0_col3\" class=\"data row0 col3\" >189</td>\n",
       "            </tr>\n",
       "            <tr>\n",
       "                        <th id=\"T_95f438f4_ad5d_11eb_8f7d_02420a39dee2level0_row1\" class=\"row_heading level0 row1\" >ultra</th>\n",
       "                        <td id=\"T_95f438f4_ad5d_11eb_8f7d_02420a39dee2row1_col0\" class=\"data row1 col0\" >508</td>\n",
       "                        <td id=\"T_95f438f4_ad5d_11eb_8f7d_02420a39dee2row1_col1\" class=\"data row1 col1\" >519</td>\n",
       "                        <td id=\"T_95f438f4_ad5d_11eb_8f7d_02420a39dee2row1_col2\" class=\"data row1 col2\" >97640</td>\n",
       "                        <td id=\"T_95f438f4_ad5d_11eb_8f7d_02420a39dee2row1_col3\" class=\"data row1 col3\" >312</td>\n",
       "            </tr>\n",
       "    </tbody></table>"
      ],
      "text/plain": [
       "<pandas.io.formats.style.Styler at 0x7f3ffe306350>"
      ]
     },
     "execution_count": 56,
     "metadata": {},
     "output_type": "execute_result"
    }
   ],
   "source": [
    "cl.groupby('tariff_name')\\\n",
    "  .agg({'month_calls_duration':['median','mean','var','std']})\\\n",
    "  .style.format(\"{:.0f}\")"
   ]
  },
  {
   "cell_type": "code",
   "execution_count": 57,
   "metadata": {},
   "outputs": [
    {
     "data": {
      "image/png": "[encoded data removed]",
      "text/plain": [
       "<Figure size 432x288 with 1 Axes>"
      ]
     },
     "metadata": {
      "needs_background": "light"
     },
     "output_type": "display_data"
    }
   ],
   "source": [
    "cl[cl['tariff_name'] == 'smart']['month_calls_duration'].plot(kind='hist', bins=10, alpha = 0.8)\n",
    "cl[cl['tariff_name'] == 'ultra']['month_calls_duration'].plot(kind='hist', bins=10, alpha = 0.8)\n",
    "plt.legend([\"ultra\", \"smart\"])\n",
    "plt.title('Звонки в минутах в месяц')\n",
    "plt.xlabel(\"Потраченные минуты\")\n",
    "plt.ylabel(\"Количество пользователей\")\n",
    "plt.grid(True)\n",
    "plt.show()"
   ]
  },
  {
   "cell_type": "markdown",
   "metadata": {},
   "source": [
    "✔️ Судя по графику, на Смарте большинство людей в месяц говорят около 450 минут, на Ультре 550 минут в месяц. То есть на Смарте люди подходят к краю своего тарифа, а на Ультре у них остается запас 2500 минут. Среднее и медиана лежат рядом и там и там — ничего экстримального."
   ]
  },
  {
   "cell_type": "markdown",
   "metadata": {},
   "source": [
    "### Анализ интернет трафика за месяц"
   ]
  },
  {
   "cell_type": "code",
   "execution_count": 58,
   "metadata": {},
   "outputs": [],
   "source": [
    "cls = ['mb_total_in_month']"
   ]
  },
  {
   "cell_type": "code",
   "execution_count": 59,
   "metadata": {},
   "outputs": [
    {
     "data": {
      "image/png": "[encoded data removed]",
      "text/plain": [
       "<Figure size 1080x360 with 1 Axes>"
      ]
     },
     "metadata": {},
     "output_type": "display_data"
    }
   ],
   "source": [
    "for i in cls: \n",
    "    figure(num=None, figsize=(15, 5), facecolor='w', edgecolor='k')\n",
    "    cl_pivot_smart[i].plot()\n",
    "    cl_pivot_ultra[i].plot()\n",
    "    plt.title(\"Значение по тарифам по месяцам по колонке {}\".format(i))\n",
    "    plt.xlabel(\"Период\")\n",
    "    plt.ylabel(i)\n",
    "    plt.legend([\"ultra\", \"smart\"])\n",
    "    plt.grid(True)\n",
    "    plt.show()"
   ]
  },
  {
   "cell_type": "code",
   "execution_count": 60,
   "metadata": {},
   "outputs": [
    {
     "data": {
      "text/html": [
       "<style  type=\"text/css\" >\n",
       "</style><table id=\"T_968eb442_ad5d_11eb_8f7d_02420a39dee2\" ><thead>    <tr>        <th class=\"blank level0\" ></th>        <th class=\"col_heading level0 col0\" colspan=4>mb_total_in_month</th>    </tr>    <tr>        <th class=\"blank level1\" ></th>        <th class=\"col_heading level1 col0\" >median</th>        <th class=\"col_heading level1 col1\" >mean</th>        <th class=\"col_heading level1 col2\" >var</th>        <th class=\"col_heading level1 col3\" >std</th>    </tr>    <tr>        <th class=\"index_name level0\" >tariff_name</th>        <th class=\"blank\" ></th>        <th class=\"blank\" ></th>        <th class=\"blank\" ></th>        <th class=\"blank\" ></th>    </tr></thead><tbody>\n",
       "                <tr>\n",
       "                        <th id=\"T_968eb442_ad5d_11eb_8f7d_02420a39dee2level0_row0\" class=\"row_heading level0 row0\" >smart</th>\n",
       "                        <td id=\"T_968eb442_ad5d_11eb_8f7d_02420a39dee2row0_col0\" class=\"data row0 col0\" >16496</td>\n",
       "                        <td id=\"T_968eb442_ad5d_11eb_8f7d_02420a39dee2row0_col1\" class=\"data row0 col1\" >16176</td>\n",
       "                        <td id=\"T_968eb442_ad5d_11eb_8f7d_02420a39dee2row0_col2\" class=\"data row0 col2\" >33586270</td>\n",
       "                        <td id=\"T_968eb442_ad5d_11eb_8f7d_02420a39dee2row0_col3\" class=\"data row0 col3\" >5795</td>\n",
       "            </tr>\n",
       "            <tr>\n",
       "                        <th id=\"T_968eb442_ad5d_11eb_8f7d_02420a39dee2level0_row1\" class=\"row_heading level0 row1\" >ultra</th>\n",
       "                        <td id=\"T_968eb442_ad5d_11eb_8f7d_02420a39dee2row1_col0\" class=\"data row1 col0\" >17365</td>\n",
       "                        <td id=\"T_968eb442_ad5d_11eb_8f7d_02420a39dee2row1_col1\" class=\"data row1 col1\" >16845</td>\n",
       "                        <td id=\"T_968eb442_ad5d_11eb_8f7d_02420a39dee2row1_col2\" class=\"data row1 col2\" >63970817</td>\n",
       "                        <td id=\"T_968eb442_ad5d_11eb_8f7d_02420a39dee2row1_col3\" class=\"data row1 col3\" >7998</td>\n",
       "            </tr>\n",
       "    </tbody></table>"
      ],
      "text/plain": [
       "<pandas.io.formats.style.Styler at 0x7f3fff99b6d0>"
      ]
     },
     "execution_count": 60,
     "metadata": {},
     "output_type": "execute_result"
    }
   ],
   "source": [
    "cl.groupby('tariff_name')\\\n",
    "  .agg({'mb_total_in_month':['median','mean','var','std']})\\\n",
    "  .style.format(\"{:.0f}\")"
   ]
  },
  {
   "cell_type": "code",
   "execution_count": 61,
   "metadata": {},
   "outputs": [
    {
     "data": {
      "image/png": "[encoded data removed]",
      "text/plain": [
       "<Figure size 432x288 with 1 Axes>"
      ]
     },
     "metadata": {
      "needs_background": "light"
     },
     "output_type": "display_data"
    }
   ],
   "source": [
    "cl[cl['tariff_name'] == 'smart']['mb_total_in_month'].plot(kind='hist', bins=10)\n",
    "cl[cl['tariff_name'] == 'ultra']['mb_total_in_month'].plot(kind='hist', bins=10)\n",
    "plt.legend([\"ultra\", \"smart\"])\n",
    "plt.title('Интернет в МБ в месяц')\n",
    "plt.xlabel(\"Потраченные Мб\")\n",
    "plt.ylabel(\"Количество пользователей\")\n",
    "plt.grid(True)\n",
    "plt.show()"
   ]
  },
  {
   "cell_type": "markdown",
   "metadata": {},
   "source": [
    "✔️ Среднее и медиана лежат рядом и там и там и тут тоже. На Смарте люди выходят за пределы тарифа больше, у Ультры снова запас — в 10 Гб, но и разброс больше"
   ]
  },
  {
   "cell_type": "markdown",
   "metadata": {},
   "source": [
    "### Анализ сообщений за месяц"
   ]
  },
  {
   "cell_type": "code",
   "execution_count": 62,
   "metadata": {},
   "outputs": [],
   "source": [
    "cls = ['sms_total_in_month']"
   ]
  },
  {
   "cell_type": "code",
   "execution_count": null,
   "metadata": {},
   "outputs": [],
   "source": [
    "for i in cls: \n",
    "    figure(num=None, figsize=(15, 5), facecolor='w', edgecolor='k')\n",
    "    cl_pivot_smart[i].plot()\n",
    "    cl_pivot_ultra[i].plot()\n",
    "    plt.title(\"Значение по тарифам по месяцам по колонке {}\".format(i))\n",
    "    plt.xlabel(\"Период\")\n",
    "    plt.ylabel(i)\n",
    "    plt.legend([\"ultra\", \"smart\"])\n",
    "    plt.grid(True)\n",
    "    plt.show()"
   ]
  },
  {
   "cell_type": "code",
   "execution_count": null,
   "metadata": {},
   "outputs": [],
   "source": [
    "cl.groupby('tariff_name')\\\n",
    "  .agg({'sms_total_in_month':['median','mean','var','std']})\\\n",
    "  .style.format(\"{:.0f}\")"
   ]
  },
  {
   "cell_type": "markdown",
   "metadata": {},
   "source": [
    "<div style=\"border:solid purple 5px; padding: 20px\"> \n",
    "<h2 align=\"center\"> Рубрика «Питонячий лайфхакер» <a class=\"tocSkip\"> </h2>\n",
    "\n",
    "<h3> Встроенные функции all() и any() <a class=\"tocSkip\"> </h3>\n",
    "\n",
    "Полезные функции, которые помогут узнать есть ли определенные значения в объекте.\n",
    "\n",
    "`all` возвращает **True**, если все объекты равны **True** или удовлетворяют условию\n",
    "\n",
    "![](https://i.ibb.co/NKs2yWq/image.png)\n",
    "\n",
    "`any` в свою очередь делает то же самое, но возвращает **True**,если хотя бы один равен **True**\n",
    "\n",
    "![](https://i.ibb.co/4tq8TmV/image.png)"
   ]
  },
  {
   "cell_type": "code",
   "execution_count": null,
   "metadata": {},
   "outputs": [],
   "source": [
    "cl[cl['tariff_name'] == 'smart']['sms_total_in_month'].plot(kind='hist', bins=10)\n",
    "cl[cl['tariff_name'] == 'ultra']['sms_total_in_month'].plot(kind='hist', bins=10)\n",
    "plt.legend([\"ultra\", \"smart\"])\n",
    "plt.title('СМС в месяц')\n",
    "plt.xlabel(\"Потраченные СМС\")\n",
    "plt.ylabel(\"Количество пользователей\")\n",
    "plt.grid(True)\n",
    "plt.show()\n"
   ]
  },
  {
   "cell_type": "markdown",
   "metadata": {},
   "source": [
    "✔️ Поведение пользователей выглядит похожим. Месседжеры работающие на интренете практически уже полностью заменили смс."
   ]
  },
  {
   "cell_type": "markdown",
   "metadata": {},
   "source": [
    "**Вывод**\n",
    "Пользователи тарифа ultra активнее пользутся услугами связи, интернета и сообщений в году. Также по обоим тарифам наблюдается восходящий тренд с течением времени. Разрыв между тарифами увеличивается к окночанию года, в начале года разница не такая большая."
   ]
  },
  {
   "cell_type": "markdown",
   "metadata": {},
   "source": [
    "### Среднее, стандартное отклонение и дисперсия по тарифам"
   ]
  },
  {
   "cell_type": "code",
   "execution_count": null,
   "metadata": {},
   "outputs": [],
   "source": [
    "#посчитаем среднее, стандартное отклонение и дисперсию\n",
    "cl_pivot_agg = cl.pivot_table(index = \"tariff_name\", values = ['month_calls_duration', 'mb_total_in_month', 'sms_total_in_month'],aggfunc=[np.mean, np.var, np.std]).reset_index().T"
   ]
  },
  {
   "cell_type": "code",
   "execution_count": null,
   "metadata": {},
   "outputs": [],
   "source": [
    "cl_pivot_agg"
   ]
  },
  {
   "cell_type": "code",
   "execution_count": null,
   "metadata": {},
   "outputs": [],
   "source": [
    "msg_usr = msg.merge(usr,how='left',on=['user_id'])"
   ]
  },
  {
   "cell_type": "code",
   "execution_count": null,
   "metadata": {},
   "outputs": [],
   "source": [
    "figure(num=None, figsize=(16, 6), facecolor='w', edgecolor='k')\n",
    "msg_usr.groupby(['user_id', \"tariff_name\"])['message_date'].agg(['count']).reset_index().query(\"tariff_name == 'smart'\")\\\n",
    "[\"count\"].hist(alpha=0.6, bins=100)\n",
    "msg_usr.groupby(['user_id', \"tariff_name\"])['message_date'].agg(['count']).reset_index().query(\"tariff_name == 'ultra'\")\\\n",
    "[\"count\"].hist(bins=100)\n",
    "plt.title(\"Распределение количества сообщений\")\n",
    "plt.xlabel(\"Дата\")\n",
    "plt.ylabel(\"Количество значений\")\n",
    "plt.legend([\"smart\", \"ultra\"])\n",
    "plt.grid(True)\n",
    "plt.show()"
   ]
  },
  {
   "cell_type": "markdown",
   "metadata": {},
   "source": [
    "✔️ Распределение количества сообщений по пользователям по обоим тарифам скошено вправо. Пик по тарифу smart находится в промежутке от нуля до 100 сообщений, ярко выраженных пиков в тарифе ultra не наблюдается."
   ]
  },
  {
   "cell_type": "code",
   "execution_count": null,
   "metadata": {},
   "outputs": [],
   "source": [
    "cal_usr = cal.merge(usr,how='left',on=['user_id'])"
   ]
  },
  {
   "cell_type": "code",
   "execution_count": null,
   "metadata": {},
   "outputs": [],
   "source": [
    "figure(num=None, figsize=(16, 6), facecolor='w', edgecolor='k')\n",
    "cal_usr.query(\"tariff_name == 'smart'\")[\"duration\"].hist(alpha=0.6, bins=60, range=(0.001, max(cal_usr[\"duration\"])))\n",
    "cal_usr.query(\"tariff_name == 'ultra'\")[\"duration\"].hist(bins=60, range=(0.001, max(cal_usr[\"duration\"])))\n",
    "plt.title(\"Распределение длительности звонков\")\n",
    "plt.xlabel(\"Длительность\")\n",
    "plt.ylabel(\"Количество значений\")\n",
    "plt.legend([\"smart\", \"ultra\"])\n",
    "plt.grid(True)\n",
    "plt.show()"
   ]
  },
  {
   "cell_type": "markdown",
   "metadata": {},
   "source": [
    "✔️ Пользователи тарифа ultra чаще используют около 500 мб, пользователи тарифа smart - 260-270. Распределение тарифа ultra более плоское, без ярко выраженных пиков. Правые хвосты распределений практически совпадают, значит примерно одинаковое количество пользователей в этих тарифах использует крайние значения количества мб."
   ]
  },
  {
   "cell_type": "markdown",
   "metadata": {},
   "source": [
    "# Вывод"
   ]
  },
  {
   "cell_type": "markdown",
   "metadata": {},
   "source": [
    "- Средняя длительность разговора, использание мб и сообщений у тарифа Smart больше.\n",
    "- Стандартное отклонение у тарифа Smart тоже выше, значит данные более изменчивы в этом тарифе.\n",
    "- Из графиков можно сделать следующий вывод: пользователи тарифа Smart активнее пользутся услугами оператора."
   ]
  },
  {
   "cell_type": "markdown",
   "metadata": {},
   "source": [
    "## Проверка гипотез"
   ]
  },
  {
   "cell_type": "markdown",
   "metadata": {},
   "source": [
    "- средняя выручка пользователей тарифов «Ультра» и «Смарт» различается;\n",
    "- средняя выручка пользователей из Москвы отличается от выручки пользователей из других регионов;\n",
    "\n",
    "Поясните:\n",
    "- как вы формулировали нулевую и альтернативную гипотезы;\n",
    "- какой критерий использовали для проверки гипотез и почему."
   ]
  },
  {
   "cell_type": "markdown",
   "metadata": {},
   "source": [
    "✔️ При проверке гипотез о равенстве среднего будем применять метод Z-тест (z-критерий Фишера), т.к. будем проводить сравнения двух независимых выборок большого размера. Критический уровень статистической значимости примем равным 5%."
   ]
  },
  {
   "cell_type": "markdown",
   "metadata": {},
   "source": [
    "### Средняя выручка пользователей тарифов «Ультра» и «Смарт» различается\n",
    "\n",
    "- H0 - средняя выручка пользователей тарифов «Смарт» и «Ультра» не различается\n",
    "- H1 - средняя выручка пользователей тарифов «Смарт» и «Ультра» различается\n",
    "\n"
   ]
  },
  {
   "cell_type": "code",
   "execution_count": null,
   "metadata": {},
   "outputs": [],
   "source": [
    "alpha=0.05\n",
    "ztest, pval1 = stests.ztest(cl.query(\"tariff_name=='smart'\")['total_paid'],\n",
    "                            cl.query(\"tariff_name=='ultra'\")['total_paid'])\n",
    "print('p-value:', float(pval1))\n",
    "if pval1 < alpha:\n",
    "    print(\"Отвергаем нулевую гипотезу\")\n",
    "else:\n",
    "    print(\"Не получилось отвергнуть нулевую гипотезу\")"
   ]
  },
  {
   "cell_type": "markdown",
   "metadata": {},
   "source": [
    "✔️ Средняя выручка по тарифам не одинакова, и практически нулевая вероятность говорит о том, что случайно получить такое отличие в значениях практически не получится. Следовательно, средняя выручка пользователей тарифов \"Ультра\" и \"Смарт\" действительно различается и наша гипотеза подтвердилась."
   ]
  },
  {
   "cell_type": "markdown",
   "metadata": {},
   "source": [
    "### Средняя выручка пользователей из Москвы отличается от выручки пользователей из других регионов"
   ]
  },
  {
   "cell_type": "markdown",
   "metadata": {},
   "source": [
    "- H0 - средняя выручка пользователей из Москвы не отличается от выручки пользователей из других регионов\n",
    "- H1 - средняя выручка пользователей из Москвы отличается от выручки пользователей из других регионов\n",
    "\n"
   ]
  },
  {
   "cell_type": "code",
   "execution_count": null,
   "metadata": {},
   "outputs": [],
   "source": [
    "cl_ct=cl.merge(usr,how='left',on=['user_id'])\n",
    "alpha=0.05\n",
    "ztest, pval1 = stests.ztest(cl_ct.query('city_x==\"Москва\"')['total_paid'],\n",
    "                            cl_ct.query('city_x!=\"Москва\"')['total_paid'])\n",
    "print('p-value:', float(pval1))\n",
    "if pval1 < alpha:\n",
    "    print(\"Отвергаем нулевую гипотезу\")\n",
    "else:\n",
    "    print(\"Не получилось отвергнуть нулевую гипотезу\")"
   ]
  },
  {
   "cell_type": "markdown",
   "metadata": {},
   "source": [
    "✔️Средняя выручка пользователей из Москвы не отличается от выручки пользователей из других регионов, так как значение статистической  значимости больше критического уровня статистической значимости."
   ]
  },
  {
   "cell_type": "markdown",
   "metadata": {},
   "source": [
    "## Вывод"
   ]
  },
  {
   "cell_type": "markdown",
   "metadata": {},
   "source": [
    "### Cоберем общие данные по тарифам по части использования включенных в абонентскую плату лимитов и сверх лимита:"
   ]
  },
  {
   "cell_type": "code",
   "execution_count": null,
   "metadata": {},
   "outputs": [],
   "source": [
    "smart_mean_internet = (cl[(cl['tariff_name'] == 'smart')]['mb_total_in_month']/(1024 * 15)).mean()\n",
    "print('Средний процент использования пакета интернет-трафика по тарифу \"Смарт\" - {:.2%} = {:,.0f} Гб'.\n",
    "      format(smart_mean_internet, smart_mean_internet * 1024 * 15))\n",
    "smart_mean_calls = (cl[(cl['tariff_name'] == 'smart')]['month_calls_duration']/(500)).mean()\n",
    "print('Средний процент использования пакета минут по тарифу \"Смарт\" - {:.2%} = {:.2f} мин'.\n",
    "      format(smart_mean_calls, smart_mean_calls * 500))\n",
    "smart_mean_sms = (cl[(cl['tariff_name'] == 'smart')]['sms_total_in_month']/(50)).mean()\n",
    "print('Средний процент использования пакета СМС по тарифу \"Смарт\" - {:.2%} = {:.0f} шт.'.\n",
    "      format(smart_mean_sms, smart_mean_sms * 50))\n",
    "print('---------------------------------------------------------------------------------')\n",
    "ultra_mean_internet = (cl[(cl['tariff_name'] == 'ultra')]['mb_total_in_month']/(1024 * 30)).mean()\n",
    "print('Средний процент использования пакета интернет-трафика по тарифу \"Ультра\" - {:.2%} = {:,.0f} Гб'.\n",
    "      format(ultra_mean_internet, ultra_mean_internet * 1024 * 30))\n",
    "ultra_mean_calls = (cl[(cl['tariff_name'] == 'ultra')]['month_calls_duration']/(3000)).mean()\n",
    "print('Средний процент использования пакета минут по тарифу \"Ультра\" - {:.2%} = {:.2f} мин'.\n",
    "      format(ultra_mean_calls, ultra_mean_calls * 3000))\n",
    "ultra_mean_sms = (cl[(cl['tariff_name'] == 'ultra')]['sms_total_in_month']/(1000)).mean()\n",
    "print('Средний процент использования пакета СМС по тарифу \"Ультра\" - {:.2%} = {:.0f} шт.'.\n",
    "      format(ultra_mean_sms, ultra_mean_sms * 1000))"
   ]
  },
  {
   "cell_type": "markdown",
   "metadata": {},
   "source": [
    "### Сравнение количества пользователей и частоты использования тарифов и видов связи:"
   ]
  },
  {
   "cell_type": "code",
   "execution_count": null,
   "metadata": {},
   "outputs": [],
   "source": [
    "all_users = cl['user_id'].count()\n",
    "def func_pct(pct):\n",
    "    value = float(pct/100.*all_users)\n",
    "    return \"{:.2f}%\\n({:.0f} чел.)\".format(pct, value)\n",
    "explode = (0.05, 0)\n",
    "axes = cl.groupby('tariff_name')['user_id'].count().plot(kind='pie', subplots=True, fontsize=15,\n",
    "                                                                     use_index=False, shadow=True, explode=explode,\n",
    "                                                                     title = 'Распределение по клиентам', pctdistance=0.45,\n",
    "                                                                     figsize=(20,5), autopct=lambda pct: func_pct(pct))\n",
    "plt.tight_layout(pad=0)\n",
    "for ax in axes:\n",
    "    ax.legend(['Smart', 'Ultra'], bbox_to_anchor=(0.87,0.87), prop={'size':12})\n",
    "    ax.set_ylabel('')"
   ]
  },
  {
   "cell_type": "markdown",
   "metadata": {},
   "source": [
    "### Частота использования (использованные минуты, отправленные СМС и интернет-трафик) по каждому из тарифов:"
   ]
  },
  {
   "cell_type": "code",
   "execution_count": null,
   "metadata": {},
   "outputs": [],
   "source": [
    "columns_to_plot = ['calls_total_in_month', 'sms_total_in_month', 'mb_total_in_month']\n",
    "calls_sum = cl['calls_total_in_month'].sum()\n",
    "sms_sum = cl['sms_total_in_month'].sum()\n",
    "internet_sum = cl['mb_total_in_month'].sum()\n",
    "def func_pct(pct):\n",
    "    if pct > 65 or pct < 35:\n",
    "        sum_of_data = internet_sum\n",
    "        value = float(pct/100.*sum_of_data/1024)\n",
    "        metric = 'Гб'\n",
    "    elif pct > 64 or pct < 36:\n",
    "        sum_of_data = calls_sum\n",
    "        value = float(pct/100.*sum_of_data)\n",
    "        metric = 'мин.'\n",
    "    else:\n",
    "        sum_of_data = sms_sum\n",
    "        value = float(pct/100.*sum_of_data)\n",
    "        metric = 'шт.'\n",
    "    return \"{:.2f}%\\n({:.0f} {})\".format(pct, value, metric)\n",
    "\n",
    "explode = (0.05, 0)\n",
    "axes = cl.groupby('tariff_name')[columns_to_plot].sum().plot(kind='pie', subplots=True, fontsize=13,\n",
    "                                                                       use_index=False, shadow=True, explode=explode,\n",
    "                                                                       title = columns_to_plot, pctdistance=0.45,\n",
    "                                                                       autopct=lambda pct: func_pct(pct), legend = False,\n",
    "                                                                       figsize=(15,5))\n",
    "for ax in axes:\n",
    "       ax.set_ylabel('')"
   ]
  },
  {
   "cell_type": "markdown",
   "metadata": {},
   "source": [
    "- В тарифе \"Ультра\" практически никто не выходит за рамки пределов лимитов, тогда как в тарифе \"Смарт\" при стоимости 550 руб. в месяц разброс относительно большой, а мат. ожидание равно 787 руб. Нормальные значения для тарифа \"Смарт\" от 550 руб. до 1 750 руб. Максимально допустимое значение у тарифа \"Смарт\" - 5022 руб. Для тарифа \"Ультра\" нормальное значение - цена тарифа, 1 950р.\n",
    "- Выручка по тарифу \"Смарт\" практически в два раза выше, хотя абонентская плата меньше, это может быть вызвано тем, что пакеты услуг по \"Смарту\" небольшие и пользователи часто выходят за лимиты. Тарифом \"Ультра\" клиенты пользуются более активно, но это и логично, потому что тариф включает в себя большие пакеты услуг. C точки зрения выручки тариф \"Смарт\" более выгодный для компании. После проверки гипотезы можно сказать, что различия между выручкой у тарифов не являются случайными.\n",
    "- Таким образом, в тарифной сетке есть дешевый тариф за 550 рублей, где пользователю не хватает интернета и количество использованных минут разговора на грани лимита (416 мин из 500), и есть тариф , стоимостью 1950 рублей, которым пользуется уже другой класс граждан, где лимитов по всем типам связи предостаточно\n",
    "\n",
    "\n",
    "### Рекомендации оператору\n",
    "Провести дополнительные исследования по оптимальному соотношению абонплаты за тариф, платы за дополнительные услуги и объемов пакета услуг. Рассмотреть различные варианты, например, снизить абонплату за тариф, повысить плату за допуслуги и снизить пакеты услуг. С более низкой абонплатой большее количество клиентов смогу позволить себе тариф, но маленькие пакеты услуг будут приводить к тому, что пользователи будут часто выходить за лимиты, что будет приносить дополнительную выручку компании."
   ]
  },
  {
   "cell_type": "code",
   "execution_count": null,
   "metadata": {},
   "outputs": [],
   "source": []
  }
 ],
 "metadata": {
  "kernelspec": {
   "display_name": "Python 3",
   "language": "python",
   "name": "python3"
  },
  "language_info": {
   "codemirror_mode": {
    "name": "ipython",
    "version": 3
   },
   "file_extension": ".py",
   "mimetype": "text/x-python",
   "name": "python",
   "nbconvert_exporter": "python",
   "pygments_lexer": "ipython3",
   "version": "3.7.8"
  },
  "toc": {
   "base_numbering": 1,
   "nav_menu": {},
   "number_sections": true,
   "sideBar": true,
   "skip_h1_title": true,
   "title_cell": "Table of Contents",
   "title_sidebar": "Contents",
   "toc_cell": false,
   "toc_position": {},
   "toc_section_display": true,
   "toc_window_display": false
  }
 },
 "nbformat": 4,
 "nbformat_minor": 2
}
