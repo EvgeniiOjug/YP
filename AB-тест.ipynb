{
 "cells": [
  {
   "cell_type": "markdown",
   "metadata": {},
   "source": [
    "# Описание данных\n",
    "\n",
    "\n",
    "**Данные для первой части**\n",
    "\n",
    "\n",
    "Файл /datasets/hypothesis.csv. \n",
    "  - Hypothesis — краткое описание гипотезы;\n",
    "  - Reach — охват пользователей по 10-балльной шкале;\n",
    "  - Impact — влияние на пользователей по 10-балльной шкале;\n",
    "  - Confidence — уверенность в гипотезе по 10-балльной шкале;\n",
    "  - Efforts — затраты ресурсов на проверку гипотезы по 10-балльной шкале. Чем больше значение Efforts, тем дороже проверка гипотезы.\n",
    "  \n",
    "**Данные для второй части**\n",
    "\n",
    "Файл /datasets/orders.csv.\n",
    "\n",
    "  - transactionId — идентификатор заказа;\n",
    "  - visitorId — идентификатор пользователя, совершившего заказ;\n",
    "  - date — дата, когда был совершён заказ;\n",
    "  - revenue — выручка заказа;\n",
    "  - group — группа A/B-теста, в которую попал заказ.\n",
    "  \n",
    "  \n",
    "Файл /datasets/visitors.csv.\n",
    "\n",
    "  - date — дата;\n",
    "  - group — группа A/B-теста;\n",
    "  - visitors — количество пользователей в указанную дату в указанной группе A/B-теста\n",
    "\n",
    "**Описание проекта**\n",
    "\n",
    "Вы — аналитик крупного интернет-магазина. Вместе с отделом маркетинга вы подготовили список гипотез для увеличения выручки.\n",
    "Приоритизируйте гипотезы, запустите A/B-тест и проанализируйте результаты."
   ]
  },
  {
   "cell_type": "markdown",
   "metadata": {},
   "source": [
    "## Импорт библиотек"
   ]
  },
  {
   "cell_type": "code",
   "execution_count": 1,
   "metadata": {},
   "outputs": [],
   "source": [
    "import pandas as pd\n",
    "import numpy as np\n",
    "from matplotlib import pyplot as plt\n",
    "from scipy import stats as st\n",
    "import seaborn as sns\n",
    "import scipy.stats as stats"
   ]
  },
  {
   "cell_type": "markdown",
   "metadata": {},
   "source": [
    "##  Изучение данных"
   ]
  },
  {
   "cell_type": "code",
   "execution_count": 2,
   "metadata": {},
   "outputs": [
    {
     "name": "stdout",
     "output_type": "stream",
     "text": [
      "<class 'pandas.core.frame.DataFrame'>\n",
      "RangeIndex: 9 entries, 0 to 8\n",
      "Data columns (total 5 columns):\n",
      "Hypothesis    9 non-null object\n",
      "Reach         9 non-null int64\n",
      "Impact        9 non-null int64\n",
      "Confidence    9 non-null int64\n",
      "Efforts       9 non-null int64\n",
      "dtypes: int64(4), object(1)\n",
      "memory usage: 488.0+ bytes\n"
     ]
    }
   ],
   "source": [
    "hyp = pd.read_csv('/datasets/hypothesis.csv')\n",
    "hyp.info()"
   ]
  },
  {
   "cell_type": "code",
   "execution_count": 3,
   "metadata": {},
   "outputs": [
    {
     "name": "stdout",
     "output_type": "stream",
     "text": [
      "<class 'pandas.core.frame.DataFrame'>\n",
      "RangeIndex: 1197 entries, 0 to 1196\n",
      "Data columns (total 5 columns):\n",
      "transactionId    1197 non-null int64\n",
      "visitorId        1197 non-null int64\n",
      "date             1197 non-null object\n",
      "revenue          1197 non-null int64\n",
      "group            1197 non-null object\n",
      "dtypes: int64(3), object(2)\n",
      "memory usage: 46.9+ KB\n"
     ]
    }
   ],
   "source": [
    "ors = pd.read_csv('/datasets/orders.csv')\n",
    "ors.info()"
   ]
  },
  {
   "cell_type": "code",
   "execution_count": 4,
   "metadata": {},
   "outputs": [
    {
     "name": "stdout",
     "output_type": "stream",
     "text": [
      "<class 'pandas.core.frame.DataFrame'>\n",
      "RangeIndex: 62 entries, 0 to 61\n",
      "Data columns (total 3 columns):\n",
      "date        62 non-null object\n",
      "group       62 non-null object\n",
      "visitors    62 non-null int64\n",
      "dtypes: int64(1), object(2)\n",
      "memory usage: 1.6+ KB\n"
     ]
    }
   ],
   "source": [
    "vts = pd.read_csv('/datasets/visitors.csv')\n",
    "vts.info()"
   ]
  },
  {
   "cell_type": "markdown",
   "metadata": {},
   "source": [
    "✔️ **Пропусков в отчетах нет, даты нужно привести к соответсвующему формату.**"
   ]
  },
  {
   "cell_type": "markdown",
   "metadata": {},
   "source": [
    "## Предобработка данных"
   ]
  },
  {
   "cell_type": "code",
   "execution_count": 5,
   "metadata": {},
   "outputs": [],
   "source": [
    "#приведем даты к нужному формату\n",
    "ors['date'] = pd.to_datetime(ors['date'],format='%Y-%m-%d')\n",
    "vts['date'] = pd.to_datetime(vts['date'],format='%Y-%m-%d')"
   ]
  },
  {
   "cell_type": "markdown",
   "metadata": {},
   "source": [
    "# Часть 1. Приоритизация гипотез.\n",
    "\n",
    "В файле /datasets/hypothesis.csv 9 гипотез по увеличению выручки интернет-магазина с указанными параметрами Reach, Impact, Confidence, Effort.\n",
    "**Задача**\n",
    "  - Примените фреймворк ICE для приоритизации гипотез. Отсортируйте их по убыванию приоритета.\n",
    "  - Примените фреймворк RICE для приоритизации гипотез. Отсортируйте их по убыванию приоритета.\n",
    "  - Укажите, как изменилась приоритизация гипотез при применении RICE вместо ICE. Объясните, почему так произошло."
   ]
  },
  {
   "cell_type": "markdown",
   "metadata": {},
   "source": [
    "## Приоритизация гипотез"
   ]
  },
  {
   "cell_type": "markdown",
   "metadata": {},
   "source": [
    "### Применение фреймворка ICE для приоритизации гипотез. Сортировка по убыванию приоритета."
   ]
  },
  {
   "cell_type": "code",
   "execution_count": 6,
   "metadata": {},
   "outputs": [
    {
     "data": {
      "text/html": [
       "<div>\n",
       "<style scoped>\n",
       "    .dataframe tbody tr th:only-of-type {\n",
       "        vertical-align: middle;\n",
       "    }\n",
       "\n",
       "    .dataframe tbody tr th {\n",
       "        vertical-align: top;\n",
       "    }\n",
       "\n",
       "    .dataframe thead th {\n",
       "        text-align: right;\n",
       "    }\n",
       "</style>\n",
       "<table border=\"1\" class=\"dataframe\">\n",
       "  <thead>\n",
       "    <tr style=\"text-align: right;\">\n",
       "      <th></th>\n",
       "      <th>Hypothesis</th>\n",
       "      <th>Reach</th>\n",
       "      <th>Impact</th>\n",
       "      <th>Confidence</th>\n",
       "      <th>Efforts</th>\n",
       "    </tr>\n",
       "  </thead>\n",
       "  <tbody>\n",
       "    <tr>\n",
       "      <td>0</td>\n",
       "      <td>Добавить два новых канала привлечения трафика,...</td>\n",
       "      <td>3</td>\n",
       "      <td>10</td>\n",
       "      <td>8</td>\n",
       "      <td>6</td>\n",
       "    </tr>\n",
       "    <tr>\n",
       "      <td>1</td>\n",
       "      <td>Запустить собственную службу доставки, что сок...</td>\n",
       "      <td>2</td>\n",
       "      <td>5</td>\n",
       "      <td>4</td>\n",
       "      <td>10</td>\n",
       "    </tr>\n",
       "    <tr>\n",
       "      <td>2</td>\n",
       "      <td>Добавить блоки рекомендаций товаров на сайт ин...</td>\n",
       "      <td>8</td>\n",
       "      <td>3</td>\n",
       "      <td>7</td>\n",
       "      <td>3</td>\n",
       "    </tr>\n",
       "    <tr>\n",
       "      <td>3</td>\n",
       "      <td>Изменить структура категорий, что увеличит кон...</td>\n",
       "      <td>8</td>\n",
       "      <td>3</td>\n",
       "      <td>3</td>\n",
       "      <td>8</td>\n",
       "    </tr>\n",
       "    <tr>\n",
       "      <td>4</td>\n",
       "      <td>Изменить цвет фона главной страницы, чтобы уве...</td>\n",
       "      <td>3</td>\n",
       "      <td>1</td>\n",
       "      <td>1</td>\n",
       "      <td>1</td>\n",
       "    </tr>\n",
       "    <tr>\n",
       "      <td>5</td>\n",
       "      <td>Добавить страницу отзывов клиентов о магазине,...</td>\n",
       "      <td>3</td>\n",
       "      <td>2</td>\n",
       "      <td>2</td>\n",
       "      <td>3</td>\n",
       "    </tr>\n",
       "    <tr>\n",
       "      <td>6</td>\n",
       "      <td>Показать на главной странице баннеры с актуаль...</td>\n",
       "      <td>5</td>\n",
       "      <td>3</td>\n",
       "      <td>8</td>\n",
       "      <td>3</td>\n",
       "    </tr>\n",
       "    <tr>\n",
       "      <td>7</td>\n",
       "      <td>Добавить форму подписки на все основные страни...</td>\n",
       "      <td>10</td>\n",
       "      <td>7</td>\n",
       "      <td>8</td>\n",
       "      <td>5</td>\n",
       "    </tr>\n",
       "    <tr>\n",
       "      <td>8</td>\n",
       "      <td>Запустить акцию, дающую скидку на товар в день...</td>\n",
       "      <td>1</td>\n",
       "      <td>9</td>\n",
       "      <td>9</td>\n",
       "      <td>5</td>\n",
       "    </tr>\n",
       "  </tbody>\n",
       "</table>\n",
       "</div>"
      ],
      "text/plain": [
       "                                          Hypothesis  Reach  Impact  \\\n",
       "0  Добавить два новых канала привлечения трафика,...      3      10   \n",
       "1  Запустить собственную службу доставки, что сок...      2       5   \n",
       "2  Добавить блоки рекомендаций товаров на сайт ин...      8       3   \n",
       "3  Изменить структура категорий, что увеличит кон...      8       3   \n",
       "4  Изменить цвет фона главной страницы, чтобы уве...      3       1   \n",
       "5  Добавить страницу отзывов клиентов о магазине,...      3       2   \n",
       "6  Показать на главной странице баннеры с актуаль...      5       3   \n",
       "7  Добавить форму подписки на все основные страни...     10       7   \n",
       "8  Запустить акцию, дающую скидку на товар в день...      1       9   \n",
       "\n",
       "   Confidence  Efforts  \n",
       "0           8        6  \n",
       "1           4       10  \n",
       "2           7        3  \n",
       "3           3        8  \n",
       "4           1        1  \n",
       "5           2        3  \n",
       "6           8        3  \n",
       "7           8        5  \n",
       "8           9        5  "
      ]
     },
     "execution_count": 6,
     "metadata": {},
     "output_type": "execute_result"
    }
   ],
   "source": [
    " #посмотрим на данные\n",
    "hyp"
   ]
  },
  {
   "cell_type": "code",
   "execution_count": 7,
   "metadata": {},
   "outputs": [
    {
     "data": {
      "text/html": [
       "<div>\n",
       "<style scoped>\n",
       "    .dataframe tbody tr th:only-of-type {\n",
       "        vertical-align: middle;\n",
       "    }\n",
       "\n",
       "    .dataframe tbody tr th {\n",
       "        vertical-align: top;\n",
       "    }\n",
       "\n",
       "    .dataframe thead th {\n",
       "        text-align: right;\n",
       "    }\n",
       "</style>\n",
       "<table border=\"1\" class=\"dataframe\">\n",
       "  <thead>\n",
       "    <tr style=\"text-align: right;\">\n",
       "      <th></th>\n",
       "      <th>Hypothesis</th>\n",
       "      <th>ICE</th>\n",
       "    </tr>\n",
       "  </thead>\n",
       "  <tbody>\n",
       "    <tr>\n",
       "      <td>8</td>\n",
       "      <td>Запустить акцию, дающую скидку на товар в день...</td>\n",
       "      <td>16.20</td>\n",
       "    </tr>\n",
       "    <tr>\n",
       "      <td>0</td>\n",
       "      <td>Добавить два новых канала привлечения трафика,...</td>\n",
       "      <td>13.33</td>\n",
       "    </tr>\n",
       "    <tr>\n",
       "      <td>7</td>\n",
       "      <td>Добавить форму подписки на все основные страни...</td>\n",
       "      <td>11.20</td>\n",
       "    </tr>\n",
       "    <tr>\n",
       "      <td>6</td>\n",
       "      <td>Показать на главной странице баннеры с актуаль...</td>\n",
       "      <td>8.00</td>\n",
       "    </tr>\n",
       "    <tr>\n",
       "      <td>2</td>\n",
       "      <td>Добавить блоки рекомендаций товаров на сайт ин...</td>\n",
       "      <td>7.00</td>\n",
       "    </tr>\n",
       "    <tr>\n",
       "      <td>1</td>\n",
       "      <td>Запустить собственную службу доставки, что сок...</td>\n",
       "      <td>2.00</td>\n",
       "    </tr>\n",
       "    <tr>\n",
       "      <td>5</td>\n",
       "      <td>Добавить страницу отзывов клиентов о магазине,...</td>\n",
       "      <td>1.33</td>\n",
       "    </tr>\n",
       "    <tr>\n",
       "      <td>3</td>\n",
       "      <td>Изменить структура категорий, что увеличит кон...</td>\n",
       "      <td>1.12</td>\n",
       "    </tr>\n",
       "    <tr>\n",
       "      <td>4</td>\n",
       "      <td>Изменить цвет фона главной страницы, чтобы уве...</td>\n",
       "      <td>1.00</td>\n",
       "    </tr>\n",
       "  </tbody>\n",
       "</table>\n",
       "</div>"
      ],
      "text/plain": [
       "                                          Hypothesis    ICE\n",
       "8  Запустить акцию, дающую скидку на товар в день...  16.20\n",
       "0  Добавить два новых канала привлечения трафика,...  13.33\n",
       "7  Добавить форму подписки на все основные страни...  11.20\n",
       "6  Показать на главной странице баннеры с актуаль...   8.00\n",
       "2  Добавить блоки рекомендаций товаров на сайт ин...   7.00\n",
       "1  Запустить собственную службу доставки, что сок...   2.00\n",
       "5  Добавить страницу отзывов клиентов о магазине,...   1.33\n",
       "3  Изменить структура категорий, что увеличит кон...   1.12\n",
       "4  Изменить цвет фона главной страницы, чтобы уве...   1.00"
      ]
     },
     "execution_count": 7,
     "metadata": {},
     "output_type": "execute_result"
    }
   ],
   "source": [
    "hyp['ICE'] = (hyp['Impact'] * hyp['Confidence']) / hyp['Efforts']\n",
    "hyp[['Hypothesis', 'ICE']].sort_values(by='ICE', ascending=False).round(2)"
   ]
  },
  {
   "cell_type": "code",
   "execution_count": 8,
   "metadata": {},
   "outputs": [
    {
     "data": {
      "image/png": "[encoded data removed]",
      "text/plain": [
       "<Figure size 432x288 with 1 Axes>"
      ]
     },
     "metadata": {
      "needs_background": "light"
     },
     "output_type": "display_data"
    }
   ],
   "source": [
    "ax = hyp[['Hypothesis', 'ICE']].set_index('Hypothesis').sort_values('ICE', ascending=True).plot(kind='barh')\n",
    "ax.set_xlabel('Приоритет')\n",
    "ax.set_ylabel('Гипотеза')\n",
    "ax.set_title('ICE')\n",
    "plt.show()"
   ]
  },
  {
   "cell_type": "markdown",
   "metadata": {},
   "source": [
    "### Применение фреймворка RICE для приоритизации гипотез. Сортировка по убыванию приоритета."
   ]
  },
  {
   "cell_type": "code",
   "execution_count": 9,
   "metadata": {},
   "outputs": [
    {
     "data": {
      "text/html": [
       "<div>\n",
       "<style scoped>\n",
       "    .dataframe tbody tr th:only-of-type {\n",
       "        vertical-align: middle;\n",
       "    }\n",
       "\n",
       "    .dataframe tbody tr th {\n",
       "        vertical-align: top;\n",
       "    }\n",
       "\n",
       "    .dataframe thead th {\n",
       "        text-align: right;\n",
       "    }\n",
       "</style>\n",
       "<table border=\"1\" class=\"dataframe\">\n",
       "  <thead>\n",
       "    <tr style=\"text-align: right;\">\n",
       "      <th></th>\n",
       "      <th>Hypothesis</th>\n",
       "      <th>RICE</th>\n",
       "    </tr>\n",
       "  </thead>\n",
       "  <tbody>\n",
       "    <tr>\n",
       "      <td>7</td>\n",
       "      <td>Добавить форму подписки на все основные страни...</td>\n",
       "      <td>112.0</td>\n",
       "    </tr>\n",
       "    <tr>\n",
       "      <td>2</td>\n",
       "      <td>Добавить блоки рекомендаций товаров на сайт ин...</td>\n",
       "      <td>56.0</td>\n",
       "    </tr>\n",
       "    <tr>\n",
       "      <td>0</td>\n",
       "      <td>Добавить два новых канала привлечения трафика,...</td>\n",
       "      <td>40.0</td>\n",
       "    </tr>\n",
       "    <tr>\n",
       "      <td>6</td>\n",
       "      <td>Показать на главной странице баннеры с актуаль...</td>\n",
       "      <td>40.0</td>\n",
       "    </tr>\n",
       "    <tr>\n",
       "      <td>8</td>\n",
       "      <td>Запустить акцию, дающую скидку на товар в день...</td>\n",
       "      <td>16.2</td>\n",
       "    </tr>\n",
       "    <tr>\n",
       "      <td>3</td>\n",
       "      <td>Изменить структура категорий, что увеличит кон...</td>\n",
       "      <td>9.0</td>\n",
       "    </tr>\n",
       "    <tr>\n",
       "      <td>1</td>\n",
       "      <td>Запустить собственную службу доставки, что сок...</td>\n",
       "      <td>4.0</td>\n",
       "    </tr>\n",
       "    <tr>\n",
       "      <td>5</td>\n",
       "      <td>Добавить страницу отзывов клиентов о магазине,...</td>\n",
       "      <td>4.0</td>\n",
       "    </tr>\n",
       "    <tr>\n",
       "      <td>4</td>\n",
       "      <td>Изменить цвет фона главной страницы, чтобы уве...</td>\n",
       "      <td>3.0</td>\n",
       "    </tr>\n",
       "  </tbody>\n",
       "</table>\n",
       "</div>"
      ],
      "text/plain": [
       "                                          Hypothesis   RICE\n",
       "7  Добавить форму подписки на все основные страни...  112.0\n",
       "2  Добавить блоки рекомендаций товаров на сайт ин...   56.0\n",
       "0  Добавить два новых канала привлечения трафика,...   40.0\n",
       "6  Показать на главной странице баннеры с актуаль...   40.0\n",
       "8  Запустить акцию, дающую скидку на товар в день...   16.2\n",
       "3  Изменить структура категорий, что увеличит кон...    9.0\n",
       "1  Запустить собственную службу доставки, что сок...    4.0\n",
       "5  Добавить страницу отзывов клиентов о магазине,...    4.0\n",
       "4  Изменить цвет фона главной страницы, чтобы уве...    3.0"
      ]
     },
     "execution_count": 9,
     "metadata": {},
     "output_type": "execute_result"
    }
   ],
   "source": [
    "hyp['RICE'] = (hyp['Reach'] * hyp['Impact'] * hyp['Confidence']) / hyp['Efforts']\n",
    "hyp[['Hypothesis', 'RICE']].sort_values(by='RICE', ascending=False).round(2)"
   ]
  },
  {
   "cell_type": "code",
   "execution_count": 10,
   "metadata": {},
   "outputs": [
    {
     "data": {
      "image/png": "[encoded data removed]",
      "text/plain": [
       "<Figure size 432x288 with 1 Axes>"
      ]
     },
     "metadata": {
      "needs_background": "light"
     },
     "output_type": "display_data"
    }
   ],
   "source": [
    "ax = hyp[['Hypothesis', 'RICE']].set_index('Hypothesis').sort_values('RICE', ascending=True).plot(kind='barh')\n",
    "ax.set_xlabel('Приоритет')\n",
    "ax.set_ylabel('Гипотеза')\n",
    "ax.set_title('RICE')\n",
    "plt.show()"
   ]
  },
  {
   "cell_type": "markdown",
   "metadata": {},
   "source": [
    "✔️ **Вывод**\n",
    "\n",
    "  - По значениям Ice самые приоритетные гипотезы - 8, 0, 7, 6.\n",
    "  - По значениям Rice самые приоритетные гипотезы - 7, 2, 0, 6.\n",
    "  - Данные по Rice более предпочтительны, так как учитывают важный показатель - охват аудитории.\n",
    "  - Разница результатов как раз основана на этом дополнительном показателе.\n",
    "  - По результатам приоритизации можно сказать, что несмотря на разницу в оценках, оба расчета показали, что 3, 1, 5, 4 - не самые приоритетные гипотезы."
   ]
  },
  {
   "cell_type": "markdown",
   "metadata": {},
   "source": [
    "# Часть 2. Анализ A/B-теста\n",
    "\n",
    "\n",
    "\n",
    "## Анализ A/B-теста:\n"
   ]
  },
  {
   "cell_type": "markdown",
   "metadata": {},
   "source": [
    "### График кумулятивной выручки по группам"
   ]
  },
  {
   "cell_type": "code",
   "execution_count": 11,
   "metadata": {},
   "outputs": [
    {
     "data": {
      "text/html": [
       "<div>\n",
       "<style scoped>\n",
       "    .dataframe tbody tr th:only-of-type {\n",
       "        vertical-align: middle;\n",
       "    }\n",
       "\n",
       "    .dataframe tbody tr th {\n",
       "        vertical-align: top;\n",
       "    }\n",
       "\n",
       "    .dataframe thead th {\n",
       "        text-align: right;\n",
       "    }\n",
       "</style>\n",
       "<table border=\"1\" class=\"dataframe\">\n",
       "  <thead>\n",
       "    <tr style=\"text-align: right;\">\n",
       "      <th></th>\n",
       "      <th>transactionId</th>\n",
       "      <th>visitorId</th>\n",
       "      <th>date</th>\n",
       "      <th>revenue</th>\n",
       "      <th>group</th>\n",
       "    </tr>\n",
       "  </thead>\n",
       "  <tbody>\n",
       "    <tr>\n",
       "      <td>78</td>\n",
       "      <td>773663763</td>\n",
       "      <td>3288820196</td>\n",
       "      <td>2019-08-16</td>\n",
       "      <td>40740</td>\n",
       "      <td>B</td>\n",
       "    </tr>\n",
       "    <tr>\n",
       "      <td>664</td>\n",
       "      <td>2280802660</td>\n",
       "      <td>2412366830</td>\n",
       "      <td>2019-08-29</td>\n",
       "      <td>4877</td>\n",
       "      <td>B</td>\n",
       "    </tr>\n",
       "    <tr>\n",
       "      <td>162</td>\n",
       "      <td>2634363174</td>\n",
       "      <td>2892265953</td>\n",
       "      <td>2019-08-17</td>\n",
       "      <td>1990</td>\n",
       "      <td>A</td>\n",
       "    </tr>\n",
       "    <tr>\n",
       "      <td>1156</td>\n",
       "      <td>1254962016</td>\n",
       "      <td>2654030115</td>\n",
       "      <td>2019-08-14</td>\n",
       "      <td>1980</td>\n",
       "      <td>A</td>\n",
       "    </tr>\n",
       "    <tr>\n",
       "      <td>1007</td>\n",
       "      <td>3901196331</td>\n",
       "      <td>3077470899</td>\n",
       "      <td>2019-08-10</td>\n",
       "      <td>3550</td>\n",
       "      <td>B</td>\n",
       "    </tr>\n",
       "    <tr>\n",
       "      <td>644</td>\n",
       "      <td>3664867609</td>\n",
       "      <td>1476256851</td>\n",
       "      <td>2019-08-26</td>\n",
       "      <td>1530</td>\n",
       "      <td>A</td>\n",
       "    </tr>\n",
       "    <tr>\n",
       "      <td>1106</td>\n",
       "      <td>626262509</td>\n",
       "      <td>3791892006</td>\n",
       "      <td>2019-08-12</td>\n",
       "      <td>3320</td>\n",
       "      <td>B</td>\n",
       "    </tr>\n",
       "  </tbody>\n",
       "</table>\n",
       "</div>"
      ],
      "text/plain": [
       "      transactionId   visitorId       date  revenue group\n",
       "78        773663763  3288820196 2019-08-16    40740     B\n",
       "664      2280802660  2412366830 2019-08-29     4877     B\n",
       "162      2634363174  2892265953 2019-08-17     1990     A\n",
       "1156     1254962016  2654030115 2019-08-14     1980     A\n",
       "1007     3901196331  3077470899 2019-08-10     3550     B\n",
       "644      3664867609  1476256851 2019-08-26     1530     A\n",
       "1106      626262509  3791892006 2019-08-12     3320     B"
      ]
     },
     "execution_count": 11,
     "metadata": {},
     "output_type": "execute_result"
    }
   ],
   "source": [
    "#посмотрим на данные\n",
    "ors.sample(7)"
   ]
  },
  {
   "cell_type": "code",
   "execution_count": 12,
   "metadata": {},
   "outputs": [
    {
     "data": {
      "text/html": [
       "<div>\n",
       "<style scoped>\n",
       "    .dataframe tbody tr th:only-of-type {\n",
       "        vertical-align: middle;\n",
       "    }\n",
       "\n",
       "    .dataframe tbody tr th {\n",
       "        vertical-align: top;\n",
       "    }\n",
       "\n",
       "    .dataframe thead th {\n",
       "        text-align: right;\n",
       "    }\n",
       "</style>\n",
       "<table border=\"1\" class=\"dataframe\">\n",
       "  <thead>\n",
       "    <tr style=\"text-align: right;\">\n",
       "      <th></th>\n",
       "      <th>date</th>\n",
       "      <th>group</th>\n",
       "      <th>visitors</th>\n",
       "    </tr>\n",
       "  </thead>\n",
       "  <tbody>\n",
       "    <tr>\n",
       "      <td>30</td>\n",
       "      <td>2019-08-31</td>\n",
       "      <td>A</td>\n",
       "      <td>699</td>\n",
       "    </tr>\n",
       "    <tr>\n",
       "      <td>12</td>\n",
       "      <td>2019-08-13</td>\n",
       "      <td>A</td>\n",
       "      <td>748</td>\n",
       "    </tr>\n",
       "    <tr>\n",
       "      <td>0</td>\n",
       "      <td>2019-08-01</td>\n",
       "      <td>A</td>\n",
       "      <td>719</td>\n",
       "    </tr>\n",
       "    <tr>\n",
       "      <td>27</td>\n",
       "      <td>2019-08-28</td>\n",
       "      <td>A</td>\n",
       "      <td>594</td>\n",
       "    </tr>\n",
       "    <tr>\n",
       "      <td>24</td>\n",
       "      <td>2019-08-25</td>\n",
       "      <td>A</td>\n",
       "      <td>621</td>\n",
       "    </tr>\n",
       "    <tr>\n",
       "      <td>49</td>\n",
       "      <td>2019-08-19</td>\n",
       "      <td>B</td>\n",
       "      <td>487</td>\n",
       "    </tr>\n",
       "    <tr>\n",
       "      <td>41</td>\n",
       "      <td>2019-08-11</td>\n",
       "      <td>B</td>\n",
       "      <td>721</td>\n",
       "    </tr>\n",
       "  </tbody>\n",
       "</table>\n",
       "</div>"
      ],
      "text/plain": [
       "         date group  visitors\n",
       "30 2019-08-31     A       699\n",
       "12 2019-08-13     A       748\n",
       "0  2019-08-01     A       719\n",
       "27 2019-08-28     A       594\n",
       "24 2019-08-25     A       621\n",
       "49 2019-08-19     B       487\n",
       "41 2019-08-11     B       721"
      ]
     },
     "execution_count": 12,
     "metadata": {},
     "output_type": "execute_result"
    }
   ],
   "source": [
    "vts.sample(7)"
   ]
  },
  {
   "cell_type": "code",
   "execution_count": 13,
   "metadata": {},
   "outputs": [
    {
     "data": {
      "text/html": [
       "<div>\n",
       "<style scoped>\n",
       "    .dataframe tbody tr th:only-of-type {\n",
       "        vertical-align: middle;\n",
       "    }\n",
       "\n",
       "    .dataframe tbody tr th {\n",
       "        vertical-align: top;\n",
       "    }\n",
       "\n",
       "    .dataframe thead th {\n",
       "        text-align: right;\n",
       "    }\n",
       "</style>\n",
       "<table border=\"1\" class=\"dataframe\">\n",
       "  <thead>\n",
       "    <tr style=\"text-align: right;\">\n",
       "      <th></th>\n",
       "      <th>date</th>\n",
       "      <th>group</th>\n",
       "    </tr>\n",
       "  </thead>\n",
       "  <tbody>\n",
       "    <tr>\n",
       "      <td>493</td>\n",
       "      <td>2019-08-26</td>\n",
       "      <td>A</td>\n",
       "    </tr>\n",
       "    <tr>\n",
       "      <td>0</td>\n",
       "      <td>2019-08-15</td>\n",
       "      <td>B</td>\n",
       "    </tr>\n",
       "    <tr>\n",
       "      <td>835</td>\n",
       "      <td>2019-08-08</td>\n",
       "      <td>A</td>\n",
       "    </tr>\n",
       "    <tr>\n",
       "      <td>567</td>\n",
       "      <td>2019-08-09</td>\n",
       "      <td>B</td>\n",
       "    </tr>\n",
       "    <tr>\n",
       "      <td>86</td>\n",
       "      <td>2019-08-22</td>\n",
       "      <td>A</td>\n",
       "    </tr>\n",
       "    <tr>\n",
       "      <td>305</td>\n",
       "      <td>2019-08-28</td>\n",
       "      <td>B</td>\n",
       "    </tr>\n",
       "    <tr>\n",
       "      <td>730</td>\n",
       "      <td>2019-08-30</td>\n",
       "      <td>A</td>\n",
       "    </tr>\n",
       "  </tbody>\n",
       "</table>\n",
       "</div>"
      ],
      "text/plain": [
       "          date group\n",
       "493 2019-08-26     A\n",
       "0   2019-08-15     B\n",
       "835 2019-08-08     A\n",
       "567 2019-08-09     B\n",
       "86  2019-08-22     A\n",
       "305 2019-08-28     B\n",
       "730 2019-08-30     A"
      ]
     },
     "execution_count": 13,
     "metadata": {},
     "output_type": "execute_result"
    }
   ],
   "source": [
    "#соберем таблицу с уникальными сочетаниями дат и групп.\n",
    "unq_dt_gr = ors.copy()\n",
    "unq_dt_gr_tbl = unq_dt_gr[['date', 'group']].drop_duplicates()\n",
    "unq_dt_gr_tbl.sample(7)"
   ]
  },
  {
   "cell_type": "code",
   "execution_count": 14,
   "metadata": {},
   "outputs": [
    {
     "data": {
      "text/html": [
       "<div>\n",
       "<style scoped>\n",
       "    .dataframe tbody tr th:only-of-type {\n",
       "        vertical-align: middle;\n",
       "    }\n",
       "\n",
       "    .dataframe tbody tr th {\n",
       "        vertical-align: top;\n",
       "    }\n",
       "\n",
       "    .dataframe thead th {\n",
       "        text-align: right;\n",
       "    }\n",
       "</style>\n",
       "<table border=\"1\" class=\"dataframe\">\n",
       "  <thead>\n",
       "    <tr style=\"text-align: right;\">\n",
       "      <th></th>\n",
       "      <th>date</th>\n",
       "      <th>group</th>\n",
       "      <th>visitorId</th>\n",
       "      <th>transactionId</th>\n",
       "      <th>revenue</th>\n",
       "    </tr>\n",
       "  </thead>\n",
       "  <tbody>\n",
       "    <tr>\n",
       "      <td>569</td>\n",
       "      <td>2019-08-09</td>\n",
       "      <td>A</td>\n",
       "      <td>159</td>\n",
       "      <td>177</td>\n",
       "      <td>1025603</td>\n",
       "    </tr>\n",
       "    <tr>\n",
       "      <td>1149</td>\n",
       "      <td>2019-08-14</td>\n",
       "      <td>B</td>\n",
       "      <td>287</td>\n",
       "      <td>308</td>\n",
       "      <td>2025446</td>\n",
       "    </tr>\n",
       "    <tr>\n",
       "      <td>125</td>\n",
       "      <td>2019-08-17</td>\n",
       "      <td>B</td>\n",
       "      <td>349</td>\n",
       "      <td>373</td>\n",
       "      <td>2620790</td>\n",
       "    </tr>\n",
       "    <tr>\n",
       "      <td>540</td>\n",
       "      <td>2019-08-20</td>\n",
       "      <td>A</td>\n",
       "      <td>330</td>\n",
       "      <td>362</td>\n",
       "      <td>2469529</td>\n",
       "    </tr>\n",
       "    <tr>\n",
       "      <td>181</td>\n",
       "      <td>2019-08-23</td>\n",
       "      <td>B</td>\n",
       "      <td>440</td>\n",
       "      <td>477</td>\n",
       "      <td>4703216</td>\n",
       "    </tr>\n",
       "    <tr>\n",
       "      <td>835</td>\n",
       "      <td>2019-08-08</td>\n",
       "      <td>A</td>\n",
       "      <td>146</td>\n",
       "      <td>161</td>\n",
       "      <td>837097</td>\n",
       "    </tr>\n",
       "    <tr>\n",
       "      <td>362</td>\n",
       "      <td>2019-08-06</td>\n",
       "      <td>A</td>\n",
       "      <td>114</td>\n",
       "      <td>127</td>\n",
       "      <td>598401</td>\n",
       "    </tr>\n",
       "  </tbody>\n",
       "</table>\n",
       "</div>"
      ],
      "text/plain": [
       "           date group  visitorId  transactionId  revenue\n",
       "569  2019-08-09     A        159            177  1025603\n",
       "1149 2019-08-14     B        287            308  2025446\n",
       "125  2019-08-17     B        349            373  2620790\n",
       "540  2019-08-20     A        330            362  2469529\n",
       "181  2019-08-23     B        440            477  4703216\n",
       "835  2019-08-08     A        146            161   837097\n",
       "362  2019-08-06     A        114            127   598401"
      ]
     },
     "execution_count": 14,
     "metadata": {},
     "output_type": "execute_result"
    }
   ],
   "source": [
    "#cоберем кумулятивные данные по выделенным дням.\n",
    "ors_agg = unq_dt_gr_tbl.apply(lambda x:\n",
    "                                 unq_dt_gr[np.logical_and(\n",
    "                                 unq_dt_gr['date'] <= x['date'], \n",
    "                                 unq_dt_gr['group'] == x['group'])]\n",
    "                                 .agg({'date' : 'max', \n",
    "                                       'group' : 'max',\n",
    "                                       'visitorId' : 'nunique', \n",
    "                                       'transactionId' : 'nunique',\n",
    "                                       'revenue' : 'sum'\n",
    "                                      }), axis=1)\\\n",
    "                            .sort_values(by=['date', 'group'])\n",
    "ors_agg.sample(7)"
   ]
  },
  {
   "cell_type": "code",
   "execution_count": 15,
   "metadata": {},
   "outputs": [
    {
     "data": {
      "text/html": [
       "<div>\n",
       "<style scoped>\n",
       "    .dataframe tbody tr th:only-of-type {\n",
       "        vertical-align: middle;\n",
       "    }\n",
       "\n",
       "    .dataframe tbody tr th {\n",
       "        vertical-align: top;\n",
       "    }\n",
       "\n",
       "    .dataframe thead th {\n",
       "        text-align: right;\n",
       "    }\n",
       "</style>\n",
       "<table border=\"1\" class=\"dataframe\">\n",
       "  <thead>\n",
       "    <tr style=\"text-align: right;\">\n",
       "      <th></th>\n",
       "      <th>date</th>\n",
       "      <th>group</th>\n",
       "      <th>visitors</th>\n",
       "    </tr>\n",
       "  </thead>\n",
       "  <tbody>\n",
       "    <tr>\n",
       "      <td>20</td>\n",
       "      <td>2019-08-15</td>\n",
       "      <td>B</td>\n",
       "      <td>9600</td>\n",
       "    </tr>\n",
       "    <tr>\n",
       "      <td>235</td>\n",
       "      <td>2019-08-23</td>\n",
       "      <td>B</td>\n",
       "      <td>14070</td>\n",
       "    </tr>\n",
       "    <tr>\n",
       "      <td>1052</td>\n",
       "      <td>2019-08-11</td>\n",
       "      <td>B</td>\n",
       "      <td>6998</td>\n",
       "    </tr>\n",
       "    <tr>\n",
       "      <td>727</td>\n",
       "      <td>2019-08-07</td>\n",
       "      <td>A</td>\n",
       "      <td>4629</td>\n",
       "    </tr>\n",
       "    <tr>\n",
       "      <td>1115</td>\n",
       "      <td>2019-08-13</td>\n",
       "      <td>B</td>\n",
       "      <td>8310</td>\n",
       "    </tr>\n",
       "    <tr>\n",
       "      <td>180</td>\n",
       "      <td>2019-08-23</td>\n",
       "      <td>A</td>\n",
       "      <td>13927</td>\n",
       "    </tr>\n",
       "    <tr>\n",
       "      <td>229</td>\n",
       "      <td>2019-08-18</td>\n",
       "      <td>A</td>\n",
       "      <td>11127</td>\n",
       "    </tr>\n",
       "  </tbody>\n",
       "</table>\n",
       "</div>"
      ],
      "text/plain": [
       "           date group  visitors\n",
       "20   2019-08-15     B      9600\n",
       "235  2019-08-23     B     14070\n",
       "1052 2019-08-11     B      6998\n",
       "727  2019-08-07     A      4629\n",
       "1115 2019-08-13     B      8310\n",
       "180  2019-08-23     A     13927\n",
       "229  2019-08-18     A     11127"
      ]
     },
     "execution_count": 15,
     "metadata": {},
     "output_type": "execute_result"
    }
   ],
   "source": [
    "vts_agg = unq_dt_gr.apply(lambda x:\n",
    "                                 vts[np.logical_and(\n",
    "                                 vts['date'] <= x['date'], \n",
    "                                 vts['group'] == x['group'])]\n",
    "                                 .agg({'date' : 'max', \n",
    "                                       'group' : 'max',\n",
    "                                       'visitors' : 'sum'\n",
    "                                      }), axis=1)\\\n",
    "                            .sort_values(by=['date', 'group'])\n",
    "vts_agg.sample(7)"
   ]
  },
  {
   "cell_type": "code",
   "execution_count": 16,
   "metadata": {},
   "outputs": [
    {
     "data": {
      "text/html": [
       "<div>\n",
       "<style scoped>\n",
       "    .dataframe tbody tr th:only-of-type {\n",
       "        vertical-align: middle;\n",
       "    }\n",
       "\n",
       "    .dataframe tbody tr th {\n",
       "        vertical-align: top;\n",
       "    }\n",
       "\n",
       "    .dataframe thead th {\n",
       "        text-align: right;\n",
       "    }\n",
       "</style>\n",
       "<table border=\"1\" class=\"dataframe\">\n",
       "  <thead>\n",
       "    <tr style=\"text-align: right;\">\n",
       "      <th></th>\n",
       "      <th>date</th>\n",
       "      <th>group</th>\n",
       "      <th>buyers</th>\n",
       "      <th>orders</th>\n",
       "      <th>revenue</th>\n",
       "      <th>visitors</th>\n",
       "    </tr>\n",
       "  </thead>\n",
       "  <tbody>\n",
       "    <tr>\n",
       "      <td>899</td>\n",
       "      <td>2019-08-23</td>\n",
       "      <td>B</td>\n",
       "      <td>440</td>\n",
       "      <td>477</td>\n",
       "      <td>4703216</td>\n",
       "      <td>14070</td>\n",
       "    </tr>\n",
       "    <tr>\n",
       "      <td>412</td>\n",
       "      <td>2019-08-10</td>\n",
       "      <td>B</td>\n",
       "      <td>215</td>\n",
       "      <td>228</td>\n",
       "      <td>1539203</td>\n",
       "      <td>6277</td>\n",
       "    </tr>\n",
       "    <tr>\n",
       "      <td>167</td>\n",
       "      <td>2019-08-05</td>\n",
       "      <td>A</td>\n",
       "      <td>100</td>\n",
       "      <td>109</td>\n",
       "      <td>549917</td>\n",
       "      <td>3318</td>\n",
       "    </tr>\n",
       "    <tr>\n",
       "      <td>350</td>\n",
       "      <td>2019-08-09</td>\n",
       "      <td>A</td>\n",
       "      <td>159</td>\n",
       "      <td>177</td>\n",
       "      <td>1025603</td>\n",
       "      <td>5856</td>\n",
       "    </tr>\n",
       "    <tr>\n",
       "      <td>922</td>\n",
       "      <td>2019-08-24</td>\n",
       "      <td>B</td>\n",
       "      <td>454</td>\n",
       "      <td>493</td>\n",
       "      <td>4798722</td>\n",
       "      <td>14448</td>\n",
       "    </tr>\n",
       "    <tr>\n",
       "      <td>716</td>\n",
       "      <td>2019-08-19</td>\n",
       "      <td>A</td>\n",
       "      <td>320</td>\n",
       "      <td>350</td>\n",
       "      <td>2391910</td>\n",
       "      <td>11629</td>\n",
       "    </tr>\n",
       "    <tr>\n",
       "      <td>1182</td>\n",
       "      <td>2019-08-31</td>\n",
       "      <td>B</td>\n",
       "      <td>586</td>\n",
       "      <td>640</td>\n",
       "      <td>5907760</td>\n",
       "      <td>18916</td>\n",
       "    </tr>\n",
       "  </tbody>\n",
       "</table>\n",
       "</div>"
      ],
      "text/plain": [
       "           date group  buyers  orders  revenue  visitors\n",
       "899  2019-08-23     B     440     477  4703216     14070\n",
       "412  2019-08-10     B     215     228  1539203      6277\n",
       "167  2019-08-05     A     100     109   549917      3318\n",
       "350  2019-08-09     A     159     177  1025603      5856\n",
       "922  2019-08-24     B     454     493  4798722     14448\n",
       "716  2019-08-19     A     320     350  2391910     11629\n",
       "1182 2019-08-31     B     586     640  5907760     18916"
      ]
     },
     "execution_count": 16,
     "metadata": {},
     "output_type": "execute_result"
    }
   ],
   "source": [
    "#объединим таблицы\n",
    "vts_ors = ors_agg.merge(vts_agg, on=['date', 'group'])\n",
    "vts_ors.columns = ['date', 'group', 'buyers', 'orders', 'revenue', 'visitors']\n",
    "vts_ors.sample(7)"
   ]
  },
  {
   "cell_type": "code",
   "execution_count": 17,
   "metadata": {},
   "outputs": [
    {
     "data": {
      "image/png": "[encoded data removed]",
      "text/plain": [
       "<Figure size 720x504 with 1 Axes>"
      ]
     },
     "metadata": {
      "needs_background": "light"
     },
     "output_type": "display_data"
    }
   ],
   "source": [
    "#график кумулятивной выручки\n",
    "cum_A = vts_ors[vts_ors['group'] == 'A'][['date', 'revenue', 'orders']]\n",
    "cum_B = vts_ors[vts_ors['group'] == 'B'][['date', 'revenue', 'orders']]\n",
    "\n",
    "fig = plt.figure(figsize=[10,7])\n",
    "plt.plot(cum_A['date'], cum_A['revenue'], label='A')\n",
    "plt.plot(cum_B['date'], cum_B['revenue'], label='B')\n",
    "fig.autofmt_xdate()\n",
    "plt.legend()\n",
    "plt.title('Кумулятивная выручка по дням и группам')\n",
    "plt.xlabel(\"Период\")\n",
    "plt.ylabel(\"Выручка\")\n",
    "plt.grid(True)\n",
    "plt.show()"
   ]
  },
  {
   "cell_type": "markdown",
   "metadata": {},
   "source": [
    "✔️ **Вывод** \n",
    "\n",
    "Выручка увеличивается в течение всего теста, но график выручки группы B в моменте резко растет. Это может сигнализировать о всплеске числа заказов, либо о появлении очень дорогих заказов в выборке."
   ]
  },
  {
   "cell_type": "markdown",
   "metadata": {},
   "source": [
    "### График кумулятивного среднего чека"
   ]
  },
  {
   "cell_type": "code",
   "execution_count": 18,
   "metadata": {},
   "outputs": [
    {
     "data": {
      "image/png": "[encoded data removed]",
      "text/plain": [
       "<Figure size 720x504 with 1 Axes>"
      ]
     },
     "metadata": {
      "needs_background": "light"
     },
     "output_type": "display_data"
    }
   ],
   "source": [
    "fig = plt.figure(figsize=[10,7])\n",
    "plt.plot(cum_A['date'], cum_A['revenue'] / cum_A['orders'], label='A')\n",
    "plt.plot(cum_B['date'], cum_B['revenue'] / cum_B['orders'], label='B')\n",
    "fig.autofmt_xdate()\n",
    "plt.legend()\n",
    "plt.title('Кумулятивный средний чек по группам')\n",
    "plt.xlabel(\"Период\")\n",
    "plt.ylabel(\"Размер среднего чека\")\n",
    "plt.grid(True)\n",
    "plt.show()"
   ]
  },
  {
   "cell_type": "markdown",
   "metadata": {},
   "source": [
    "✔️ **Вывод** \n",
    "\n",
    "Средний чек становится более равномерным к концу теста: немного растет для группы A и и продолжает падать для группы B. Возможно, в группу B в середине теста попали крупные заказы (резкий всплеск на графике)."
   ]
  },
  {
   "cell_type": "markdown",
   "metadata": {},
   "source": [
    "### График относительного изменения кумулятивного среднего чека группы B к группе A."
   ]
  },
  {
   "cell_type": "code",
   "execution_count": 19,
   "metadata": {},
   "outputs": [
    {
     "data": {
      "image/png": "[encoded data removed]",
      "text/plain": [
       "<Figure size 720x504 with 1 Axes>"
      ]
     },
     "metadata": {
      "needs_background": "light"
     },
     "output_type": "display_data"
    }
   ],
   "source": [
    "#объеденим данные, рассчитаем относительное изменение кумулятивного среднего чека и построим график.\n",
    "\n",
    "mrg_cum = cum_A.merge(cum_B, on='date', suffixes=['A','B'])\n",
    "plt.figure(figsize=(10,7))\n",
    "plt.plot(mrg_cum['date'] ,(\n",
    "        (mrg_cum['revenueB'] / mrg_cum['ordersB']\n",
    "         ) / (mrg_cum['revenueA'] / mrg_cum['ordersA']) - 1))\n",
    "fig.autofmt_xdate()\n",
    "plt.title('Относительное изменение кумулятивного среднего чека')\n",
    "plt.axhline(y=0, color='black', linestyle='--')\n",
    "plt.axhline(y=0.25, color='gray', linestyle='--')\n",
    "plt.xlabel(\"Период\")\n",
    "plt.ylabel(\"Изменение среденего чека\")\n",
    "plt.grid(True)\n",
    "plt.show()"
   ]
  },
  {
   "cell_type": "markdown",
   "metadata": {},
   "source": [
    "✔️ **Вывод** \n",
    "\n",
    "График различия между сегментами резко «скачет». Сначала средний чек группы B стабильно растет, потом резко падает и резко взлетает. Возможно это влияние крупных заказов и выбросов. Все три графика демонстрируют одинаковую картину."
   ]
  },
  {
   "cell_type": "markdown",
   "metadata": {},
   "source": [
    "### График кумулятивной конверсии"
   ]
  },
  {
   "cell_type": "code",
   "execution_count": 20,
   "metadata": {},
   "outputs": [
    {
     "name": "stdout",
     "output_type": "stream",
     "text": [
      "0.029217427214536445\n",
      "0.03685636856368564\n"
     ]
    }
   ],
   "source": [
    "#считаем кумулятивную конверсию\n",
    "vts_ors['conversion'] = vts_ors['orders']/vts_ors['visitors']\n",
    "print(vts_ors['conversion'].min())\n",
    "print(vts_ors['conversion'].max())"
   ]
  },
  {
   "cell_type": "code",
   "execution_count": 21,
   "metadata": {},
   "outputs": [
    {
     "data": {
      "image/png": "[encoded data removed]",
      "text/plain": [
       "<Figure size 720x504 with 1 Axes>"
      ]
     },
     "metadata": {
      "needs_background": "light"
     },
     "output_type": "display_data"
    }
   ],
   "source": [
    "# отделяем данные по группе A и B\n",
    "vts_ors_A = vts_ors[vts_ors['group']=='A']\n",
    "vts_ors_B = vts_ors[vts_ors['group']=='B']\n",
    "\n",
    "\n",
    "# строим графики\n",
    "fig = plt.figure(figsize=[10,7])\n",
    "plt.plot(vts_ors_A['date'], vts_ors_A['conversion'], label='A')\n",
    "plt.plot(vts_ors_B['date'], vts_ors_B['conversion'], label='B')\n",
    "fig.autofmt_xdate()\n",
    "plt.legend()\n",
    "plt.xlabel(\"Период\")\n",
    "plt.ylabel(\"Конверсия\")\n",
    "plt.grid(True)\n",
    "\n",
    "# задаем масштаб осей\n",
    "plt.axis([\"2019-08-01\", '2019-08-31', 0.025, 0.040])\n",
    "plt.show()"
   ]
  },
  {
   "cell_type": "markdown",
   "metadata": {},
   "source": [
    "✔️ **Вывод** \n",
    "\n",
    "Группы колебались около одного значения, но затем конверсия группы B вырвалась вперёд и зафиксировалась, а конверсия группы A просела и также зафиксировалась."
   ]
  },
  {
   "cell_type": "markdown",
   "metadata": {},
   "source": [
    "### График относительного изменения кумулятивной конверсии группы B к группе A"
   ]
  },
  {
   "cell_type": "code",
   "execution_count": 22,
   "metadata": {},
   "outputs": [
    {
     "data": {
      "text/html": [
       "<div>\n",
       "<style scoped>\n",
       "    .dataframe tbody tr th:only-of-type {\n",
       "        vertical-align: middle;\n",
       "    }\n",
       "\n",
       "    .dataframe tbody tr th {\n",
       "        vertical-align: top;\n",
       "    }\n",
       "\n",
       "    .dataframe thead th {\n",
       "        text-align: right;\n",
       "    }\n",
       "</style>\n",
       "<table border=\"1\" class=\"dataframe\">\n",
       "  <thead>\n",
       "    <tr style=\"text-align: right;\">\n",
       "      <th></th>\n",
       "      <th>date</th>\n",
       "      <th>groupA</th>\n",
       "      <th>buyersA</th>\n",
       "      <th>ordersA</th>\n",
       "      <th>revenueA</th>\n",
       "      <th>visitorsA</th>\n",
       "      <th>conversionA</th>\n",
       "      <th>groupB</th>\n",
       "      <th>buyersB</th>\n",
       "      <th>ordersB</th>\n",
       "      <th>revenueB</th>\n",
       "      <th>visitorsB</th>\n",
       "      <th>conversionB</th>\n",
       "    </tr>\n",
       "  </thead>\n",
       "  <tbody>\n",
       "    <tr>\n",
       "      <td>0</td>\n",
       "      <td>2019-08-01</td>\n",
       "      <td>A</td>\n",
       "      <td>20</td>\n",
       "      <td>24</td>\n",
       "      <td>148579</td>\n",
       "      <td>719</td>\n",
       "      <td>0.03338</td>\n",
       "      <td>B</td>\n",
       "      <td>20</td>\n",
       "      <td>21</td>\n",
       "      <td>101217</td>\n",
       "      <td>713</td>\n",
       "      <td>0.029453</td>\n",
       "    </tr>\n",
       "    <tr>\n",
       "      <td>1</td>\n",
       "      <td>2019-08-01</td>\n",
       "      <td>A</td>\n",
       "      <td>20</td>\n",
       "      <td>24</td>\n",
       "      <td>148579</td>\n",
       "      <td>719</td>\n",
       "      <td>0.03338</td>\n",
       "      <td>B</td>\n",
       "      <td>20</td>\n",
       "      <td>21</td>\n",
       "      <td>101217</td>\n",
       "      <td>713</td>\n",
       "      <td>0.029453</td>\n",
       "    </tr>\n",
       "    <tr>\n",
       "      <td>2</td>\n",
       "      <td>2019-08-01</td>\n",
       "      <td>A</td>\n",
       "      <td>20</td>\n",
       "      <td>24</td>\n",
       "      <td>148579</td>\n",
       "      <td>719</td>\n",
       "      <td>0.03338</td>\n",
       "      <td>B</td>\n",
       "      <td>20</td>\n",
       "      <td>21</td>\n",
       "      <td>101217</td>\n",
       "      <td>713</td>\n",
       "      <td>0.029453</td>\n",
       "    </tr>\n",
       "    <tr>\n",
       "      <td>3</td>\n",
       "      <td>2019-08-01</td>\n",
       "      <td>A</td>\n",
       "      <td>20</td>\n",
       "      <td>24</td>\n",
       "      <td>148579</td>\n",
       "      <td>719</td>\n",
       "      <td>0.03338</td>\n",
       "      <td>B</td>\n",
       "      <td>20</td>\n",
       "      <td>21</td>\n",
       "      <td>101217</td>\n",
       "      <td>713</td>\n",
       "      <td>0.029453</td>\n",
       "    </tr>\n",
       "    <tr>\n",
       "      <td>4</td>\n",
       "      <td>2019-08-01</td>\n",
       "      <td>A</td>\n",
       "      <td>20</td>\n",
       "      <td>24</td>\n",
       "      <td>148579</td>\n",
       "      <td>719</td>\n",
       "      <td>0.03338</td>\n",
       "      <td>B</td>\n",
       "      <td>20</td>\n",
       "      <td>21</td>\n",
       "      <td>101217</td>\n",
       "      <td>713</td>\n",
       "      <td>0.029453</td>\n",
       "    </tr>\n",
       "  </tbody>\n",
       "</table>\n",
       "</div>"
      ],
      "text/plain": [
       "        date groupA  buyersA  ordersA  revenueA  visitorsA  conversionA  \\\n",
       "0 2019-08-01      A       20       24    148579        719      0.03338   \n",
       "1 2019-08-01      A       20       24    148579        719      0.03338   \n",
       "2 2019-08-01      A       20       24    148579        719      0.03338   \n",
       "3 2019-08-01      A       20       24    148579        719      0.03338   \n",
       "4 2019-08-01      A       20       24    148579        719      0.03338   \n",
       "\n",
       "  groupB  buyersB  ordersB  revenueB  visitorsB  conversionB  \n",
       "0      B       20       21    101217        713     0.029453  \n",
       "1      B       20       21    101217        713     0.029453  \n",
       "2      B       20       21    101217        713     0.029453  \n",
       "3      B       20       21    101217        713     0.029453  \n",
       "4      B       20       21    101217        713     0.029453  "
      ]
     },
     "execution_count": 22,
     "metadata": {},
     "output_type": "execute_result"
    }
   ],
   "source": [
    "mrg_conv = vts_ors_A.merge(vts_ors_B, on='date', suffixes=['A','B'])\n",
    "mrg_conv.head()"
   ]
  },
  {
   "cell_type": "code",
   "execution_count": 23,
   "metadata": {},
   "outputs": [
    {
     "data": {
      "image/png": "[encoded data removed]",
      "text/plain": [
       "<Figure size 720x504 with 1 Axes>"
      ]
     },
     "metadata": {
      "needs_background": "light"
     },
     "output_type": "display_data"
    }
   ],
   "source": [
    "#построим график\n",
    "fig = plt.figure(figsize=[10,7])\n",
    "plt.plot(mrg_conv['date'],\n",
    "        mrg_conv['conversionB'] / mrg_conv['conversionA'] - 1)\n",
    "fig.autofmt_xdate()\n",
    "plt.title('Относительное изменение конверсии')\n",
    "plt.axhline(y=0, color='black', linestyle='--')\n",
    "plt.axhline(y=0.14, color='gray', linestyle='--')\n",
    "plt.axis([pd.to_datetime('2019-08-01'), pd.to_datetime('2019-09-01'), -0.2, 0.3])\n",
    "plt.xlabel(\"Период\")\n",
    "plt.ylabel(\"Изменение конверсии\")\n",
    "plt.grid(True)\n",
    "plt.show()"
   ]
  },
  {
   "cell_type": "markdown",
   "metadata": {},
   "source": [
    "✔️ **Вывод** \n",
    "\n",
    "В начале теста группа B проигрывала группе A, затем вырвалась вперёд. Конверсия группы B стабильно выше. Стоит проанализировать аномалии, возможно результаты изменятся."
   ]
  },
  {
   "cell_type": "markdown",
   "metadata": {},
   "source": [
    "### Точечный график количества заказов по пользователям"
   ]
  },
  {
   "cell_type": "code",
   "execution_count": 24,
   "metadata": {},
   "outputs": [
    {
     "data": {
      "text/html": [
       "<div>\n",
       "<style scoped>\n",
       "    .dataframe tbody tr th:only-of-type {\n",
       "        vertical-align: middle;\n",
       "    }\n",
       "\n",
       "    .dataframe tbody tr th {\n",
       "        vertical-align: top;\n",
       "    }\n",
       "\n",
       "    .dataframe thead th {\n",
       "        text-align: right;\n",
       "    }\n",
       "</style>\n",
       "<table border=\"1\" class=\"dataframe\">\n",
       "  <thead>\n",
       "    <tr style=\"text-align: right;\">\n",
       "      <th></th>\n",
       "      <th>visitorId</th>\n",
       "      <th>orders</th>\n",
       "    </tr>\n",
       "  </thead>\n",
       "  <tbody>\n",
       "    <tr>\n",
       "      <td>1023</td>\n",
       "      <td>4256040402</td>\n",
       "      <td>11</td>\n",
       "    </tr>\n",
       "    <tr>\n",
       "      <td>591</td>\n",
       "      <td>2458001652</td>\n",
       "      <td>11</td>\n",
       "    </tr>\n",
       "    <tr>\n",
       "      <td>569</td>\n",
       "      <td>2378935119</td>\n",
       "      <td>9</td>\n",
       "    </tr>\n",
       "    <tr>\n",
       "      <td>487</td>\n",
       "      <td>2038680547</td>\n",
       "      <td>8</td>\n",
       "    </tr>\n",
       "    <tr>\n",
       "      <td>44</td>\n",
       "      <td>199603092</td>\n",
       "      <td>5</td>\n",
       "    </tr>\n",
       "    <tr>\n",
       "      <td>744</td>\n",
       "      <td>3062433592</td>\n",
       "      <td>5</td>\n",
       "    </tr>\n",
       "    <tr>\n",
       "      <td>55</td>\n",
       "      <td>237748145</td>\n",
       "      <td>5</td>\n",
       "    </tr>\n",
       "  </tbody>\n",
       "</table>\n",
       "</div>"
      ],
      "text/plain": [
       "       visitorId  orders\n",
       "1023  4256040402      11\n",
       "591   2458001652      11\n",
       "569   2378935119       9\n",
       "487   2038680547       8\n",
       "44     199603092       5\n",
       "744   3062433592       5\n",
       "55     237748145       5"
      ]
     },
     "execution_count": 24,
     "metadata": {},
     "output_type": "execute_result"
    }
   ],
   "source": [
    "#подсчитаем количество заказов по пользователям\n",
    "ors_us = ors.copy()\n",
    "ors_us = ors_us.drop(['group', 'revenue', 'date'], axis=1).groupby('visitorId', as_index=False).agg({'transactionId' : pd.Series.nunique})\n",
    "ors_us.columns = ['visitorId','orders']\n",
    "ors_us.sort_values(by='orders',ascending=False).head(7)"
   ]
  },
  {
   "cell_type": "code",
   "execution_count": 25,
   "metadata": {},
   "outputs": [
    {
     "data": {
      "image/png": "[encoded data removed]",
      "text/plain": [
       "<Figure size 648x504 with 1 Axes>"
      ]
     },
     "metadata": {
      "needs_background": "light"
     },
     "output_type": "display_data"
    }
   ],
   "source": [
    "#построим график\n",
    "\n",
    "fig = plt.figure(figsize=(9,7))\n",
    "fig.suptitle('Количество заказов', fontsize=16)\n",
    "\n",
    "x_values = pd.Series(range(0, len(ors_us['orders'])))\n",
    "plt.scatter(x_values, ors_us['orders'])\n",
    "plt.ylabel('orders_count')\n",
    "plt.xlabel(\"Количество пользователей\")\n",
    "plt.ylabel(\"Количество заказов\")\n",
    "plt.grid(True)\n",
    "plt.show()"
   ]
  },
  {
   "cell_type": "markdown",
   "metadata": {},
   "source": [
    "✔️ **Вывод** \n",
    "\n",
    "\n",
    "Ну в основном покупают 1 раз, но есть и покупатели, которые сидят на интернет-магазинной игле."
   ]
  },
  {
   "cell_type": "markdown",
   "metadata": {},
   "source": [
    "### 95-й и 99-й перцентили количества заказов на пользователя"
   ]
  },
  {
   "cell_type": "code",
   "execution_count": 26,
   "metadata": {},
   "outputs": [
    {
     "name": "stdout",
     "output_type": "stream",
     "text": [
      "[2. 4.]\n"
     ]
    }
   ],
   "source": [
    "print(np.percentile(ors_us['orders'], [95, 99]))"
   ]
  },
  {
   "cell_type": "markdown",
   "metadata": {},
   "source": [
    "✔️ **Вывод** \n",
    "\n",
    "\n",
    "Будем считать аномальными пользователями всех, кто оформил более 2 заказов, то есть отсечем 5% пользователей."
   ]
  },
  {
   "cell_type": "markdown",
   "metadata": {},
   "source": [
    "### Точечный график стоимостей заказов"
   ]
  },
  {
   "cell_type": "code",
   "execution_count": 27,
   "metadata": {},
   "outputs": [
    {
     "data": {
      "image/png": "[encoded data removed]",
      "text/plain": [
       "<Figure size 648x504 with 1 Axes>"
      ]
     },
     "metadata": {
      "needs_background": "light"
     },
     "output_type": "display_data"
    }
   ],
   "source": [
    "x_values = pd.Series(range(0,len(ors['revenue'])))\n",
    "fig = plt.figure(figsize=(9,7))\n",
    "plt.scatter(x_values, ors['revenue'])\n",
    "plt.xlabel(\"Количество заказов\")\n",
    "plt.ylabel(\"Стоимость заказов\")\n",
    "plt.grid(True)\n",
    "plt.show()"
   ]
  },
  {
   "cell_type": "markdown",
   "metadata": {},
   "source": [
    "✔️ **Вывод** \n",
    "\n",
    "Практически все стоимости заказов находятся в пределах 100000, но есть выбросы со стоимостями более миллиона. Именно этот заказ отразился на всех графиках."
   ]
  },
  {
   "cell_type": "markdown",
   "metadata": {},
   "source": [
    "### 95-й и 99-й перцентили стоимости заказов"
   ]
  },
  {
   "cell_type": "code",
   "execution_count": 28,
   "metadata": {},
   "outputs": [
    {
     "name": "stdout",
     "output_type": "stream",
     "text": [
      "[28000.  58233.2]\n"
     ]
    }
   ],
   "source": [
    "print(np.percentile(ors['revenue'], [95, 99]))"
   ]
  },
  {
   "cell_type": "markdown",
   "metadata": {},
   "source": [
    "✔️ **Вывод** \n",
    "\n",
    "Менее 5% заказов стоят дороже 28000, можно взять эту цифру за границу для определения аномальных заказов"
   ]
  },
  {
   "cell_type": "markdown",
   "metadata": {},
   "source": [
    "### Cтатистическая значимость различий в конверсии между группами по «сырым» данным"
   ]
  },
  {
   "cell_type": "code",
   "execution_count": 29,
   "metadata": {},
   "outputs": [],
   "source": [
    "#рассчитаем общее количество пользователей по группам\n",
    "vts_dl = vts.copy()\n",
    "vts_A = vts_dl[vts_dl['group'] == 'A'][['date', 'visitors']]\n",
    "vts_A.columns = ['date', 'vtsPerDateA']\n",
    "\n",
    "vts_B = vts_dl[vts_dl['group'] == 'B'][['date', 'visitors']]\n",
    "vts_B.columns = ['date', 'vtsPerDateB']"
   ]
  },
  {
   "cell_type": "code",
   "execution_count": 30,
   "metadata": {},
   "outputs": [],
   "source": [
    "#сохраним таблицу с покупателями и количеством покупок по группам\n",
    "ors_dl= ors.copy()\n",
    "ors_A = ors_dl[ors_dl['group'] == 'A'].groupby('visitorId').agg({'transactionId' : 'nunique'})['transactionId'].reset_index()\n",
    "ors_A.columns = ['userId', 'orders']\n",
    "\n",
    "ors_B = ors_dl[ors_dl['group'] == 'B'].groupby('visitorId').agg({'transactionId' : 'nunique'})['transactionId'].reset_index()\n",
    "ors_B.columns = ['userId', 'orders']"
   ]
  },
  {
   "cell_type": "code",
   "execution_count": 31,
   "metadata": {},
   "outputs": [
    {
     "name": "stdout",
     "output_type": "stream",
     "text": [
      "0.008\n",
      "0.138\n"
     ]
    }
   ],
   "source": [
    "#создадим выборки, в которых будет количество заказов всех пользователей\n",
    "sampleA = pd.concat([ors_A['orders'],\n",
    "                     pd.Series(0,\n",
    "                               index = np.arange(vts_A['vtsPerDateA'].sum() - len(ors_A)),\n",
    "                               name='all_orders')\n",
    "                    ], axis=0)\n",
    "\n",
    "\n",
    "sampleB = pd.concat([ors_B['orders'],\n",
    "                     pd.Series(0, \n",
    "                               index = np.arange(vts_B['vtsPerDateB'].sum() - len(ors_B)),\n",
    "                               name='all_orders')\n",
    "                    ], axis=0)\n",
    "\n",
    "#посчитаем статистическую значимость различий в конверсии.\n",
    "#нулевая гипотеза - различий в конверсии между группами нет. Альтернативная гипотеза - различия в конверсии между группами есть.\n",
    "print(\"{0:.3f}\".format(stats.mannwhitneyu(sampleA, sampleB)[1]))\n",
    "print(\"{0:.3f}\".format(sampleB.mean()/sampleA.mean()-1))"
   ]
  },
  {
   "cell_type": "markdown",
   "metadata": {},
   "source": [
    "✔️ **Вывод** \n",
    "\n",
    "P-value меньше 0.05. Значит, нулевую гипотезу о том, что статистически значимых различий в конверсии между группами нет - отвергаем.\n",
    "\n",
    "По «сырым» данным есть различия в конверсии групп A и B. Относительная развница в конверсиях около 14% (прирост группы B)"
   ]
  },
  {
   "cell_type": "markdown",
   "metadata": {},
   "source": [
    "### Статистическая значимость различий в среднем чеке заказа между группами по «сырым» данным"
   ]
  },
  {
   "cell_type": "code",
   "execution_count": 32,
   "metadata": {},
   "outputs": [
    {
     "name": "stdout",
     "output_type": "stream",
     "text": [
      "0.365\n",
      "0.259\n"
     ]
    }
   ],
   "source": [
    "print(\"{0:.3f}\".format(stats.mannwhitneyu(ors[ors['group']=='A']['revenue'], ors[ors['group']=='B']['revenue'])[1]))\n",
    "print(\"{0:.3f}\".format(ors[ors['group']=='B']['revenue'].mean()/ors[ors['group']=='A']['revenue'].mean()-1))"
   ]
  },
  {
   "cell_type": "markdown",
   "metadata": {},
   "source": [
    "✔️ **Вывод** \n",
    "\n",
    "P-value значительно больше 0.05. Значит, нельзя отвегнуть нулевую гипотезу. В среднем чеке заказа между группами различий нет.\n",
    "\n",
    "Впрочем, средний чек группы B почти на 26% выше среднего чека группы A."
   ]
  },
  {
   "cell_type": "markdown",
   "metadata": {},
   "source": [
    "### Статистическая значимость различий в конверсии между группами по «очищенным» данным"
   ]
  },
  {
   "cell_type": "markdown",
   "metadata": {},
   "source": [
    "Выделим аномальный срез данных по пользователям, которые оформили более 2х заказов и тех кто потратил более 58233. Так мы уберём 5% пользователей с наибольшим числом заказов и с дорогими заказами."
   ]
  },
  {
   "cell_type": "code",
   "execution_count": 33,
   "metadata": {},
   "outputs": [],
   "source": [
    "usr_ors = pd.concat(\n",
    "    [ors_A[ors_A['orders'] > 2]['userId'], ors_B[ors_B['orders'] > 2]['userId']])\n",
    "\n",
    "usr_ors_2 = ors[ors['revenue'] > 58233]['visitorId']\n",
    "usr_ors_2.name = 'userId'"
   ]
  },
  {
   "cell_type": "code",
   "execution_count": 34,
   "metadata": {},
   "outputs": [
    {
     "name": "stdout",
     "output_type": "stream",
     "text": [
      "1099    148427295\n",
      "18      199603092\n",
      "23      237748145\n",
      "37      249864742\n",
      "68      457167155\n",
      "Name: userId, dtype: int64\n"
     ]
    },
    {
     "data": {
      "text/plain": [
       "31"
      ]
     },
     "execution_count": 34,
     "metadata": {},
     "output_type": "execute_result"
    }
   ],
   "source": [
    "#общая таблица аномальных пользователей\n",
    "anl_urs = pd.concat([\n",
    "    usr_ors, usr_ors_2\n",
    "], axis=0).drop_duplicates().sort_values()\n",
    "print(anl_urs.head())\n",
    "len(anl_urs)"
   ]
  },
  {
   "cell_type": "code",
   "execution_count": 35,
   "metadata": {},
   "outputs": [],
   "source": [
    "#таблица без аномальных пользователей\n",
    "good_usr_A = pd.concat([ors_A[~ors_A['userId'].isin(anl_urs)]['orders'],\n",
    "                     pd.Series(0,\n",
    "                               index = np.arange(vts_A['vtsPerDateA'].sum() - len(ors_A)),\n",
    "                               name='all_orders')\n",
    "                    ], axis=0)\n",
    "\n",
    "good_usr_B = pd.concat([ors_B[~ors_B['userId'].isin(anl_urs)]['orders'],\n",
    "                     pd.Series(0,\n",
    "                               index = np.arange(vts_B['vtsPerDateB'].sum() - len(ors_B)),\n",
    "                               name='all_orders')\n",
    "                    ], axis=0)"
   ]
  },
  {
   "cell_type": "code",
   "execution_count": 36,
   "metadata": {},
   "outputs": [
    {
     "name": "stdout",
     "output_type": "stream",
     "text": [
      "0.005\n",
      "0.174\n"
     ]
    }
   ],
   "source": [
    "print(\"{0:.3f}\".format(stats.mannwhitneyu(good_usr_A, good_usr_B)[1]))\n",
    "print(\"{0:.3f}\".format(good_usr_B.mean()/good_usr_A.mean()-1))"
   ]
  },
  {
   "cell_type": "markdown",
   "metadata": {},
   "source": [
    "✔️ **Вывод** \n",
    "\n",
    "Результаты по конверсии практически не изменились. p-value остался значительно меньше 0.05. Значит, нулевую гипотезу о том, что статистически значимых различий в конверсии между группами нет - отвергаем.\n",
    "\n",
    "По очищенным данным есть статистически значимые различия в конверсии групп A и B. Относительный прирост конверсии группы B около 17%"
   ]
  },
  {
   "cell_type": "markdown",
   "metadata": {},
   "source": [
    "### Статистическая значимость различий в среднем чеке заказа между группами по «очищенным» данным"
   ]
  },
  {
   "cell_type": "code",
   "execution_count": 37,
   "metadata": {},
   "outputs": [
    {
     "name": "stdout",
     "output_type": "stream",
     "text": [
      "0.399\n",
      "-0.020\n"
     ]
    }
   ],
   "source": [
    "#статистическая значимость различий в конверсии между группами.\n",
    "print(\"{0:.3f}\".format(stats.mannwhitneyu(\n",
    "    ors[np.logical_and(\n",
    "        ors['group']=='A',\n",
    "        np.logical_not(ors['visitorId'].isin(anl_urs)))]['revenue'],\n",
    "    ors[np.logical_and(\n",
    "        ors['group']=='B',\n",
    "        np.logical_not(ors['visitorId'].isin(anl_urs)))]['revenue'])[1]))\n",
    "\n",
    "print(\"{0:.3f}\".format(\n",
    "    ors[np.logical_and(ors['group']=='B',np.logical_not(ors['visitorId'].isin(anl_urs)))]['revenue'].mean()/\n",
    "    ors[np.logical_and(\n",
    "        ors['group']=='A',\n",
    "        np.logical_not(ors['visitorId'].isin(anl_urs)))]['revenue'].mean() - 1))"
   ]
  },
  {
   "cell_type": "markdown",
   "metadata": {},
   "source": [
    "✔️ **Вывод** \n",
    "\n",
    "P-value практически не изменился, а разница между сегментами сильно изменилась. Очищенные данные показывают, что средний чек группы B немного уступает группе A, в то время как на сырых данных чек группы B был на 26% больше.\n",
    "\n",
    "По очищенным данным статистически значимых различий среднего чека между группами нет."
   ]
  },
  {
   "cell_type": "markdown",
   "metadata": {},
   "source": [
    "### Результаты A/B теста"
   ]
  },
  {
   "cell_type": "markdown",
   "metadata": {},
   "source": [
    "**-по конверсии между группами A и B (как по сырым данным, так и по очищенным) есть статистически значимые различия;**\n",
    "\n",
    "**-по среднему чеку между группами A и B (как по сырым данным, так и по очищенным) нет статистически значимых различий.**\n",
    "\n",
    "**-график различия конверсии между группами сообщает, что результаты группы B лучше группы A: имеют тенденцию к росту и практически зафиксировались.**\n",
    "\n",
    "\n",
    "Данный тест можно остановить и считать успешно проведенным. Конверсия из пользователя в покупателя у группы B статистически значимо выше, чем у группы A. При этом средний чек между группами не отличается.\n"
   ]
  }
 ],
 "metadata": {
  "ExecuteTimeLog": [
   {
    "duration": 1480,
    "start_time": "2021-06-28T05:37:39.438Z"
   },
   {
    "duration": 25,
    "start_time": "2021-06-28T05:38:27.761Z"
   },
   {
    "duration": 15,
    "start_time": "2021-06-28T05:39:12.537Z"
   },
   {
    "duration": 76,
    "start_time": "2021-06-28T05:39:41.367Z"
   },
   {
    "duration": 22,
    "start_time": "2021-06-28T05:40:17.399Z"
   },
   {
    "duration": 9,
    "start_time": "2021-06-28T05:43:21.635Z"
   },
   {
    "duration": 9,
    "start_time": "2021-06-28T05:43:53.147Z"
   },
   {
    "duration": 11,
    "start_time": "2021-06-28T05:55:06.606Z"
   },
   {
    "duration": 11,
    "start_time": "2021-06-28T05:55:23.518Z"
   },
   {
    "duration": 22,
    "start_time": "2021-06-28T05:58:14.551Z"
   },
   {
    "duration": 18,
    "start_time": "2021-06-28T06:01:15.965Z"
   },
   {
    "duration": 99,
    "start_time": "2021-06-28T06:30:18.639Z"
   },
   {
    "duration": 12,
    "start_time": "2021-06-28T06:30:33.971Z"
   },
   {
    "duration": 11,
    "start_time": "2021-06-28T06:30:57.221Z"
   },
   {
    "duration": 15,
    "start_time": "2021-06-28T06:40:36.822Z"
   },
   {
    "duration": 16,
    "start_time": "2021-06-28T06:41:14.098Z"
   },
   {
    "duration": 1500,
    "start_time": "2021-06-28T06:41:31.526Z"
   },
   {
    "duration": 26,
    "start_time": "2021-06-28T06:41:33.029Z"
   },
   {
    "duration": 75,
    "start_time": "2021-06-28T06:41:33.058Z"
   },
   {
    "duration": 25,
    "start_time": "2021-06-28T06:41:33.136Z"
   },
   {
    "duration": 13,
    "start_time": "2021-06-28T06:41:33.166Z"
   },
   {
    "duration": 27,
    "start_time": "2021-06-28T06:41:33.182Z"
   },
   {
    "duration": 41,
    "start_time": "2021-06-28T06:41:33.212Z"
   },
   {
    "duration": 20,
    "start_time": "2021-06-28T06:41:33.257Z"
   },
   {
    "duration": 15,
    "start_time": "2021-06-28T06:41:33.280Z"
   },
   {
    "duration": 14,
    "start_time": "2021-06-28T06:41:33.297Z"
   },
   {
    "duration": 58,
    "start_time": "2021-06-28T06:41:33.313Z"
   },
   {
    "duration": 17,
    "start_time": "2021-06-28T06:42:46.392Z"
   },
   {
    "duration": 338,
    "start_time": "2021-06-28T06:44:54.532Z"
   },
   {
    "duration": 4548,
    "start_time": "2021-06-28T06:47:25.996Z"
   },
   {
    "duration": 22,
    "start_time": "2021-06-28T06:51:10.131Z"
   },
   {
    "duration": 435,
    "start_time": "2021-06-28T06:52:28.591Z"
   },
   {
    "duration": 422,
    "start_time": "2021-06-28T06:52:56.358Z"
   },
   {
    "duration": 385,
    "start_time": "2021-06-28T06:55:07.859Z"
   },
   {
    "duration": 435,
    "start_time": "2021-06-28T06:58:45.749Z"
   },
   {
    "duration": 489,
    "start_time": "2021-06-28T07:01:34.836Z"
   },
   {
    "duration": 402,
    "start_time": "2021-06-28T07:01:45.711Z"
   },
   {
    "duration": 18,
    "start_time": "2021-06-28T07:17:02.423Z"
   },
   {
    "duration": 496,
    "start_time": "2021-06-28T07:18:46.182Z"
   },
   {
    "duration": 539,
    "start_time": "2021-06-28T07:18:59.544Z"
   },
   {
    "duration": 7599,
    "start_time": "2021-06-28T07:28:08.481Z"
   },
   {
    "duration": 348,
    "start_time": "2021-06-28T07:28:29.627Z"
   },
   {
    "duration": 8,
    "start_time": "2021-06-28T07:30:01.711Z"
   },
   {
    "duration": 10,
    "start_time": "2021-06-28T07:30:33.394Z"
   },
   {
    "duration": 808,
    "start_time": "2021-06-28T07:33:22.758Z"
   },
   {
    "duration": 396,
    "start_time": "2021-06-28T07:33:48.398Z"
   },
   {
    "duration": 333,
    "start_time": "2021-06-28T07:54:09.059Z"
   },
   {
    "duration": 21,
    "start_time": "2021-06-28T07:54:27.845Z"
   },
   {
    "duration": 205,
    "start_time": "2021-06-28T07:55:27.964Z"
   },
   {
    "duration": 195,
    "start_time": "2021-06-28T07:55:46.800Z"
   },
   {
    "duration": 188,
    "start_time": "2021-06-28T07:56:17.090Z"
   },
   {
    "duration": 278,
    "start_time": "2021-06-28T07:58:44.920Z"
   },
   {
    "duration": 456,
    "start_time": "2021-06-28T07:59:05.125Z"
   },
   {
    "duration": 8,
    "start_time": "2021-06-28T08:17:46.926Z"
   },
   {
    "duration": 8,
    "start_time": "2021-06-28T08:18:42.633Z"
   },
   {
    "duration": 6,
    "start_time": "2021-06-28T08:18:50.963Z"
   },
   {
    "duration": 382,
    "start_time": "2021-06-28T08:23:29.915Z"
   },
   {
    "duration": 394,
    "start_time": "2021-06-28T08:23:44.469Z"
   },
   {
    "duration": 466,
    "start_time": "2021-06-28T08:24:06.319Z"
   },
   {
    "duration": 7,
    "start_time": "2021-06-28T08:32:50.998Z"
   },
   {
    "duration": 14,
    "start_time": "2021-06-28T10:45:25.860Z"
   },
   {
    "duration": 15,
    "start_time": "2021-06-28T10:45:56.889Z"
   },
   {
    "duration": 19,
    "start_time": "2021-06-28T10:46:53.023Z"
   },
   {
    "duration": 11,
    "start_time": "2021-06-28T10:47:01.211Z"
   },
   {
    "duration": 17,
    "start_time": "2021-06-28T10:48:53.612Z"
   },
   {
    "duration": 25,
    "start_time": "2021-06-28T10:49:59.828Z"
   },
   {
    "duration": 20,
    "start_time": "2021-06-28T10:50:55.964Z"
   },
   {
    "duration": 10,
    "start_time": "2021-06-28T10:52:04.339Z"
   },
   {
    "duration": 13,
    "start_time": "2021-06-28T10:52:48.047Z"
   },
   {
    "duration": 9,
    "start_time": "2021-06-28T10:52:56.175Z"
   },
   {
    "duration": 13,
    "start_time": "2021-06-28T10:54:46.998Z"
   },
   {
    "duration": 9,
    "start_time": "2021-06-28T10:55:19.327Z"
   },
   {
    "duration": 254,
    "start_time": "2021-06-28T10:56:38.690Z"
   },
   {
    "duration": 4,
    "start_time": "2021-06-28T10:57:40.411Z"
   },
   {
    "duration": 9,
    "start_time": "2021-06-28T10:57:49.834Z"
   },
   {
    "duration": 14,
    "start_time": "2021-06-28T10:58:16.468Z"
   },
   {
    "duration": 14,
    "start_time": "2021-06-28T10:59:40.922Z"
   },
   {
    "duration": 15,
    "start_time": "2021-06-28T11:03:36.590Z"
   },
   {
    "duration": 26,
    "start_time": "2021-06-28T11:09:24.700Z"
   },
   {
    "duration": 474,
    "start_time": "2021-06-28T11:11:43.384Z"
   },
   {
    "duration": 252,
    "start_time": "2021-06-28T11:37:55.470Z"
   },
   {
    "duration": 8,
    "start_time": "2021-06-28T11:38:51.534Z"
   },
   {
    "duration": 9,
    "start_time": "2021-06-28T11:40:19.967Z"
   },
   {
    "duration": 3,
    "start_time": "2021-06-28T11:40:53.008Z"
   },
   {
    "duration": 11,
    "start_time": "2021-06-28T11:41:53.878Z"
   },
   {
    "duration": 11,
    "start_time": "2021-06-28T11:44:09.883Z"
   },
   {
    "duration": 15,
    "start_time": "2021-06-28T11:47:19.928Z"
   },
   {
    "duration": 17,
    "start_time": "2021-06-28T11:47:30.974Z"
   },
   {
    "duration": 6779,
    "start_time": "2021-06-28T11:51:12.086Z"
   },
   {
    "duration": 24,
    "start_time": "2021-06-28T11:51:39.006Z"
   },
   {
    "duration": 14,
    "start_time": "2021-06-28T11:53:24.405Z"
   },
   {
    "duration": 1440,
    "start_time": "2021-06-28T12:02:16.075Z"
   },
   {
    "duration": 25,
    "start_time": "2021-06-28T12:02:17.518Z"
   },
   {
    "duration": 66,
    "start_time": "2021-06-28T12:02:17.546Z"
   },
   {
    "duration": 24,
    "start_time": "2021-06-28T12:02:17.615Z"
   },
   {
    "duration": 16,
    "start_time": "2021-06-28T12:02:17.642Z"
   },
   {
    "duration": 17,
    "start_time": "2021-06-28T12:02:17.661Z"
   },
   {
    "duration": 20,
    "start_time": "2021-06-28T12:02:17.681Z"
   },
   {
    "duration": 18,
    "start_time": "2021-06-28T12:02:17.705Z"
   },
   {
    "duration": 19,
    "start_time": "2021-06-28T12:02:17.756Z"
   },
   {
    "duration": 14,
    "start_time": "2021-06-28T12:02:17.777Z"
   },
   {
    "duration": 30,
    "start_time": "2021-06-28T12:02:17.794Z"
   },
   {
    "duration": 339,
    "start_time": "2021-06-28T12:02:17.827Z"
   },
   {
    "duration": 4359,
    "start_time": "2021-06-28T12:02:18.169Z"
   },
   {
    "duration": 31,
    "start_time": "2021-06-28T12:02:22.531Z"
   },
   {
    "duration": 444,
    "start_time": "2021-06-28T12:02:22.565Z"
   },
   {
    "duration": 411,
    "start_time": "2021-06-28T12:02:23.011Z"
   },
   {
    "duration": 511,
    "start_time": "2021-06-28T12:02:23.424Z"
   },
   {
    "duration": 16,
    "start_time": "2021-06-28T12:02:23.938Z"
   },
   {
    "duration": 426,
    "start_time": "2021-06-28T12:02:23.957Z"
   },
   {
    "duration": 29,
    "start_time": "2021-06-28T12:02:24.385Z"
   },
   {
    "duration": 617,
    "start_time": "2021-06-28T12:02:24.417Z"
   },
   {
    "duration": 204,
    "start_time": "2021-06-28T12:02:25.036Z"
   },
   {
    "duration": 449,
    "start_time": "2021-06-28T12:02:25.258Z"
   },
   {
    "duration": 5,
    "start_time": "2021-06-28T12:02:25.710Z"
   },
   {
    "duration": 480,
    "start_time": "2021-06-28T12:02:25.717Z"
   },
   {
    "duration": 6,
    "start_time": "2021-06-28T12:02:26.199Z"
   },
   {
    "duration": 30,
    "start_time": "2021-06-28T12:02:26.208Z"
   },
   {
    "duration": 23,
    "start_time": "2021-06-28T12:02:26.241Z"
   },
   {
    "duration": 30,
    "start_time": "2021-06-28T12:02:26.267Z"
   },
   {
    "duration": 20,
    "start_time": "2021-06-28T12:02:26.300Z"
   },
   {
    "duration": 17,
    "start_time": "2021-06-28T12:02:26.322Z"
   },
   {
    "duration": 29,
    "start_time": "2021-06-28T12:02:26.342Z"
   },
   {
    "duration": 19,
    "start_time": "2021-06-28T12:02:26.374Z"
   },
   {
    "duration": 22,
    "start_time": "2021-06-28T12:02:26.395Z"
   },
   {
    "duration": 24,
    "start_time": "2021-06-28T12:02:26.419Z"
   },
   {
    "duration": 1573,
    "start_time": "2021-06-29T06:49:34.323Z"
   },
   {
    "duration": 25,
    "start_time": "2021-06-29T06:49:35.899Z"
   },
   {
    "duration": 36,
    "start_time": "2021-06-29T06:49:35.927Z"
   },
   {
    "duration": 19,
    "start_time": "2021-06-29T06:49:35.966Z"
   },
   {
    "duration": 11,
    "start_time": "2021-06-29T06:49:35.988Z"
   },
   {
    "duration": 30,
    "start_time": "2021-06-29T06:49:36.002Z"
   },
   {
    "duration": 20,
    "start_time": "2021-06-29T06:49:36.034Z"
   },
   {
    "duration": 18,
    "start_time": "2021-06-29T06:49:36.058Z"
   },
   {
    "duration": 40,
    "start_time": "2021-06-29T06:49:36.080Z"
   },
   {
    "duration": 14,
    "start_time": "2021-06-29T06:49:36.123Z"
   },
   {
    "duration": 16,
    "start_time": "2021-06-29T06:49:36.140Z"
   },
   {
    "duration": 380,
    "start_time": "2021-06-29T06:49:36.158Z"
   },
   {
    "duration": 4601,
    "start_time": "2021-06-29T06:49:36.541Z"
   },
   {
    "duration": 21,
    "start_time": "2021-06-29T06:49:41.144Z"
   },
   {
    "duration": 482,
    "start_time": "2021-06-29T06:49:41.168Z"
   },
   {
    "duration": 444,
    "start_time": "2021-06-29T06:49:41.653Z"
   },
   {
    "duration": 531,
    "start_time": "2021-06-29T06:49:42.100Z"
   },
   {
    "duration": 8,
    "start_time": "2021-06-29T06:49:42.633Z"
   },
   {
    "duration": 431,
    "start_time": "2021-06-29T06:49:42.643Z"
   },
   {
    "duration": 42,
    "start_time": "2021-06-29T06:49:43.077Z"
   },
   {
    "duration": 677,
    "start_time": "2021-06-29T06:49:43.122Z"
   },
   {
    "duration": 227,
    "start_time": "2021-06-29T06:49:43.808Z"
   },
   {
    "duration": 445,
    "start_time": "2021-06-29T06:49:44.042Z"
   },
   {
    "duration": 21,
    "start_time": "2021-06-29T06:49:44.491Z"
   },
   {
    "duration": 480,
    "start_time": "2021-06-29T06:49:44.516Z"
   },
   {
    "duration": 16,
    "start_time": "2021-06-29T06:49:44.999Z"
   },
   {
    "duration": 20,
    "start_time": "2021-06-29T06:49:45.018Z"
   },
   {
    "duration": 26,
    "start_time": "2021-06-29T06:49:45.041Z"
   },
   {
    "duration": 17,
    "start_time": "2021-06-29T06:49:45.070Z"
   },
   {
    "duration": 37,
    "start_time": "2021-06-29T06:49:45.089Z"
   },
   {
    "duration": 10,
    "start_time": "2021-06-29T06:49:45.129Z"
   },
   {
    "duration": 21,
    "start_time": "2021-06-29T06:49:45.142Z"
   },
   {
    "duration": 48,
    "start_time": "2021-06-29T06:49:45.166Z"
   },
   {
    "duration": 11,
    "start_time": "2021-06-29T06:49:45.216Z"
   },
   {
    "duration": 21,
    "start_time": "2021-06-29T06:49:45.230Z"
   },
   {
    "duration": 425,
    "start_time": "2021-06-29T06:49:51.145Z"
   },
   {
    "duration": 464,
    "start_time": "2021-06-29T06:50:39.166Z"
   },
   {
    "duration": 436,
    "start_time": "2021-06-29T06:51:13.348Z"
   },
   {
    "duration": 533,
    "start_time": "2021-06-29T06:56:42.946Z"
   },
   {
    "duration": 444,
    "start_time": "2021-06-29T06:57:25.835Z"
   },
   {
    "duration": 508,
    "start_time": "2021-06-29T06:57:48.232Z"
   },
   {
    "duration": 561,
    "start_time": "2021-06-29T06:59:02.395Z"
   },
   {
    "duration": 521,
    "start_time": "2021-06-29T07:00:10.775Z"
   },
   {
    "duration": 843,
    "start_time": "2021-06-29T07:12:15.968Z"
   },
   {
    "duration": 532,
    "start_time": "2021-06-29T07:12:57.022Z"
   },
   {
    "duration": 1500,
    "start_time": "2021-06-30T04:32:20.497Z"
   },
   {
    "duration": 27,
    "start_time": "2021-06-30T04:32:22.000Z"
   },
   {
    "duration": 107,
    "start_time": "2021-06-30T04:32:22.031Z"
   },
   {
    "duration": 31,
    "start_time": "2021-06-30T04:32:22.142Z"
   },
   {
    "duration": 10,
    "start_time": "2021-06-30T04:32:22.176Z"
   },
   {
    "duration": 17,
    "start_time": "2021-06-30T04:32:22.188Z"
   },
   {
    "duration": 30,
    "start_time": "2021-06-30T04:32:22.207Z"
   },
   {
    "duration": 474,
    "start_time": "2021-06-30T04:32:22.241Z"
   },
   {
    "duration": 23,
    "start_time": "2021-06-30T04:32:22.717Z"
   },
   {
    "duration": 450,
    "start_time": "2021-06-30T04:32:22.742Z"
   },
   {
    "duration": 13,
    "start_time": "2021-06-30T04:32:23.194Z"
   },
   {
    "duration": 13,
    "start_time": "2021-06-30T04:32:23.224Z"
   },
   {
    "duration": 18,
    "start_time": "2021-06-30T04:32:23.239Z"
   },
   {
    "duration": 341,
    "start_time": "2021-06-30T04:32:23.260Z"
   },
   {
    "duration": 4366,
    "start_time": "2021-06-30T04:32:23.603Z"
   },
   {
    "duration": 29,
    "start_time": "2021-06-30T04:32:27.971Z"
   },
   {
    "duration": 786,
    "start_time": "2021-06-30T04:32:28.004Z"
   },
   {
    "duration": 434,
    "start_time": "2021-06-30T04:32:28.793Z"
   },
   {
    "duration": 603,
    "start_time": "2021-06-30T04:32:29.229Z"
   },
   {
    "duration": 8,
    "start_time": "2021-06-30T04:32:29.835Z"
   },
   {
    "duration": 442,
    "start_time": "2021-06-30T04:32:29.846Z"
   },
   {
    "duration": 41,
    "start_time": "2021-06-30T04:32:30.292Z"
   },
   {
    "duration": 488,
    "start_time": "2021-06-30T04:32:30.340Z"
   },
   {
    "duration": 205,
    "start_time": "2021-06-30T04:32:30.830Z"
   },
   {
    "duration": 458,
    "start_time": "2021-06-30T04:32:31.037Z"
   },
   {
    "duration": 6,
    "start_time": "2021-06-30T04:32:31.497Z"
   },
   {
    "duration": 494,
    "start_time": "2021-06-30T04:32:31.505Z"
   },
   {
    "duration": 5,
    "start_time": "2021-06-30T04:32:32.002Z"
   },
   {
    "duration": 12,
    "start_time": "2021-06-30T04:32:32.025Z"
   },
   {
    "duration": 21,
    "start_time": "2021-06-30T04:32:32.039Z"
   },
   {
    "duration": 26,
    "start_time": "2021-06-30T04:32:32.062Z"
   },
   {
    "duration": 42,
    "start_time": "2021-06-30T04:32:32.090Z"
   },
   {
    "duration": 10,
    "start_time": "2021-06-30T04:32:32.135Z"
   },
   {
    "duration": 17,
    "start_time": "2021-06-30T04:32:32.148Z"
   },
   {
    "duration": 17,
    "start_time": "2021-06-30T04:32:32.167Z"
   },
   {
    "duration": 41,
    "start_time": "2021-06-30T04:32:32.186Z"
   },
   {
    "duration": 20,
    "start_time": "2021-06-30T04:32:32.229Z"
   }
  ],
  "kernelspec": {
   "display_name": "Python 3",
   "language": "python",
   "name": "python3"
  },
  "language_info": {
   "codemirror_mode": {
    "name": "ipython",
    "version": 3
   },
   "file_extension": ".py",
   "mimetype": "text/x-python",
   "name": "python",
   "nbconvert_exporter": "python",
   "pygments_lexer": "ipython3",
   "version": "3.7.8"
  },
  "toc": {
   "base_numbering": 1,
   "nav_menu": {},
   "number_sections": true,
   "sideBar": true,
   "skip_h1_title": true,
   "title_cell": "Table of Contents",
   "title_sidebar": "Contents",
   "toc_cell": false,
   "toc_position": {
    "height": "544.444px",
    "left": "54px",
    "top": "110.052px",
    "width": "192.865px"
   },
   "toc_section_display": true,
   "toc_window_display": false
  }
 },
 "nbformat": 4,
 "nbformat_minor": 2
}
