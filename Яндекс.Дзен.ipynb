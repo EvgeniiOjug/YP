{
 "cells": [
  {
   "cell_type": "markdown",
   "metadata": {},
   "source": [
    "# Дашборд для Яндекс.Дзен\n",
    "=============================================================================================================="
   ]
  },
  {
   "cell_type": "markdown",
   "metadata": {},
   "source": [
    "## Описание проекта"
   ]
  },
  {
   "cell_type": "markdown",
   "metadata": {},
   "source": [
    "Вы работаете аналитиком в Яндекс.Дзене. Почти всё ваше время занимает анализ пользовательского взаимодействия с карточками статей.\n",
    "\n",
    "Каждую карточку определяют её тема и источник (у него тоже есть тема). Примеры тем: «Красота и здоровье», «Россия», «Путешествия».\n",
    "\n",
    "Пользователей системы характеризует возрастная категория. Скажем, «26-30» или «45+».\n",
    "\n",
    "Есть три способа взаимодействия пользователей с системой:\n",
    "- Карточка отображена для пользователя (show);\n",
    "- Пользователь кликнул на карточку (click);\n",
    "- Пользователь просмотрел статью карточки (view).\n",
    "\n",
    "Каждую неделю начинающие менеджеры Денис и Валерия задают вам одни и те же вопросы:\n",
    "- Сколько взаимодействий пользователей с карточками происходит в системе с разбивкой по темам карточек?\n",
    "- Как много карточек генерируют источники с разными темами?\n",
    "- Как соотносятся темы карточек и темы источников?\n",
    "На шестую неделю работы вы решаете, что процесс пора автоматизировать. Для Дениса и Валерии нужно сделать дашборд.\n",
    "Дашборд будет основываться на пайплайне, который будет брать данные из таблицы, в которых хранятся сырые данные, трансформировать данные и укладывать их в агрегирующую таблицу. Пайплайн будет разработан для вас дата-инженерами."
   ]
  },
  {
   "cell_type": "markdown",
   "metadata": {},
   "source": [
    "*Краткое ТЗ:*\n",
    "\n",
    "**Бизнес-задача:** \n",
    "- анализ взаимодействия пользователей с карточками Яндекс.Дзен;\n",
    "- Насколько часто предполагается пользоваться дашбордом: не реже, чем раз в неделю;\n",
    "- Кто будет основным пользователем дашборда: менеджеры по анализу контента;\n",
    "\n",
    "**Состав данных для дашборда:**\n",
    "- История событий по темам карточек (два графика - абсолютные числа и процентное соотношение);\n",
    "- Разбивка событий по темам источников;\n",
    "- Таблица соответствия тем источников темам карточек;\n",
    "- По каким параметрам данные должны группироваться:\n",
    "- Дата и время;\n",
    "- Тема карточки;\n",
    "- Тема источника;\n",
    "- Возрастная группа;\n",
    "\n",
    "**Характер данных:**\n",
    "\n",
    "- История событий по темам карточек — абсолютные величины с разбивкой по минутам;\n",
    "- Разбивка событий по темам источников — относительные величины (% событий);\n",
    "- Соответствия тем источников темам карточек - абсолютные величины;\n",
    "\n",
    "**Важность:** все графики имеют равную важность;\n",
    "- Источники данных для дашборда: cырые данные о событиях взаимодействия пользователей с карточками (таблица log_raw);\n",
    "- База данных, в которой будут храниться агрегированные данные: дополнительные агрегированные таблицы в БД zen;\n",
    "- Частота обновления данных: один раз в сутки, в полночь по UTC;\n",
    "- Какие графики должны отображаться и в каком порядке, какие элементы управления должны быть на дашборде (макет дашборда):"
   ]
  },
  {
   "cell_type": "markdown",
   "metadata": {},
   "source": [
    "## Изучение данных"
   ]
  },
  {
   "cell_type": "code",
   "execution_count": 1,
   "metadata": {},
   "outputs": [],
   "source": [
    "# импортируем библиотеки\n",
    "import pandas as pd\n",
    "import numpy as np\n",
    "from sqlalchemy import create_engine\n",
    "\n",
    "db_config = {'user': 'praktikum_student', # имя пользователя\n",
    "            'pwd': 'Sdf4$2;d-d30pp', # пароль\n",
    "            'host': 'rc1b-wcoijxj3yxfsf3fs.mdb.yandexcloud.net',\n",
    "            'port': 6432, # порт подключения\n",
    "            'db': 'data-analyst-zen-project-db'} # название базы данных\n",
    "\n",
    "connection_string = 'postgresql://{}:{}@{}:{}/{}'.format(db_config['user'],\n",
    "                                                db_config['pwd'],\n",
    "                                                db_config['host'],\n",
    "                                                db_config['port'],\n",
    "                                                db_config['db'])\n",
    "\n",
    "engine = create_engine(connection_string)"
   ]
  },
  {
   "cell_type": "code",
   "execution_count": 2,
   "metadata": {},
   "outputs": [
    {
     "data": {
      "text/html": [
       "<div>\n",
       "<style scoped>\n",
       "    .dataframe tbody tr th:only-of-type {\n",
       "        vertical-align: middle;\n",
       "    }\n",
       "\n",
       "    .dataframe tbody tr th {\n",
       "        vertical-align: top;\n",
       "    }\n",
       "\n",
       "    .dataframe thead th {\n",
       "        text-align: right;\n",
       "    }\n",
       "</style>\n",
       "<table border=\"1\" class=\"dataframe\">\n",
       "  <thead>\n",
       "    <tr style=\"text-align: right;\">\n",
       "      <th></th>\n",
       "      <th>record_id</th>\n",
       "      <th>item_topic</th>\n",
       "      <th>source_topic</th>\n",
       "      <th>age_segment</th>\n",
       "      <th>dt</th>\n",
       "      <th>visits</th>\n",
       "    </tr>\n",
       "  </thead>\n",
       "  <tbody>\n",
       "    <tr>\n",
       "      <td>15194</td>\n",
       "      <td>1055791</td>\n",
       "      <td>Общество</td>\n",
       "      <td>Кино</td>\n",
       "      <td>41-45</td>\n",
       "      <td>2019-09-24 18:54:00</td>\n",
       "      <td>3</td>\n",
       "    </tr>\n",
       "    <tr>\n",
       "      <td>24140</td>\n",
       "      <td>1064737</td>\n",
       "      <td>Россия</td>\n",
       "      <td>Здоровье</td>\n",
       "      <td>45+</td>\n",
       "      <td>2019-09-24 18:57:00</td>\n",
       "      <td>1</td>\n",
       "    </tr>\n",
       "    <tr>\n",
       "      <td>22427</td>\n",
       "      <td>1063024</td>\n",
       "      <td>Путешествия</td>\n",
       "      <td>Россия</td>\n",
       "      <td>26-30</td>\n",
       "      <td>2019-09-24 18:32:00</td>\n",
       "      <td>1</td>\n",
       "    </tr>\n",
       "    <tr>\n",
       "      <td>27871</td>\n",
       "      <td>1068468</td>\n",
       "      <td>Туризм</td>\n",
       "      <td>Знаменитости</td>\n",
       "      <td>45+</td>\n",
       "      <td>2019-09-24 18:58:00</td>\n",
       "      <td>1</td>\n",
       "    </tr>\n",
       "    <tr>\n",
       "      <td>11179</td>\n",
       "      <td>1051776</td>\n",
       "      <td>Красота</td>\n",
       "      <td>История</td>\n",
       "      <td>18-25</td>\n",
       "      <td>2019-09-24 18:32:00</td>\n",
       "      <td>1</td>\n",
       "    </tr>\n",
       "    <tr>\n",
       "      <td>9222</td>\n",
       "      <td>1049819</td>\n",
       "      <td>Искусство</td>\n",
       "      <td>Сделай сам</td>\n",
       "      <td>36-40</td>\n",
       "      <td>2019-09-24 19:00:00</td>\n",
       "      <td>1</td>\n",
       "    </tr>\n",
       "    <tr>\n",
       "      <td>26722</td>\n",
       "      <td>1067319</td>\n",
       "      <td>Скандалы</td>\n",
       "      <td>Здоровье</td>\n",
       "      <td>36-40</td>\n",
       "      <td>2019-09-24 18:58:00</td>\n",
       "      <td>3</td>\n",
       "    </tr>\n",
       "  </tbody>\n",
       "</table>\n",
       "</div>"
      ],
      "text/plain": [
       "       record_id   item_topic  source_topic age_segment                  dt  \\\n",
       "15194    1055791     Общество          Кино       41-45 2019-09-24 18:54:00   \n",
       "24140    1064737       Россия      Здоровье         45+ 2019-09-24 18:57:00   \n",
       "22427    1063024  Путешествия        Россия       26-30 2019-09-24 18:32:00   \n",
       "27871    1068468       Туризм  Знаменитости         45+ 2019-09-24 18:58:00   \n",
       "11179    1051776      Красота       История       18-25 2019-09-24 18:32:00   \n",
       "9222     1049819    Искусство    Сделай сам       36-40 2019-09-24 19:00:00   \n",
       "26722    1067319     Скандалы      Здоровье       36-40 2019-09-24 18:58:00   \n",
       "\n",
       "       visits  \n",
       "15194       3  \n",
       "24140       1  \n",
       "22427       1  \n",
       "27871       1  \n",
       "11179       1  \n",
       "9222        1  \n",
       "26722       3  "
      ]
     },
     "execution_count": 2,
     "metadata": {},
     "output_type": "execute_result"
    }
   ],
   "source": [
    "query = '''\n",
    "           SELECT *\n",
    "           FROM dash_visits\n",
    "        '''\n",
    "dash_visits = pd.io.sql.read_sql(query, con = engine)\n",
    "dash_visits.sample(7)"
   ]
  },
  {
   "cell_type": "code",
   "execution_count": 3,
   "metadata": {},
   "outputs": [
    {
     "name": "stdout",
     "output_type": "stream",
     "text": [
      "<class 'pandas.core.frame.DataFrame'>\n",
      "RangeIndex: 30745 entries, 0 to 30744\n",
      "Data columns (total 6 columns):\n",
      "record_id       30745 non-null int64\n",
      "item_topic      30745 non-null object\n",
      "source_topic    30745 non-null object\n",
      "age_segment     30745 non-null object\n",
      "dt              30745 non-null datetime64[ns]\n",
      "visits          30745 non-null int64\n",
      "dtypes: datetime64[ns](1), int64(2), object(3)\n",
      "memory usage: 1.4+ MB\n"
     ]
    }
   ],
   "source": [
    "dash_visits.info()"
   ]
  },
  {
   "cell_type": "markdown",
   "metadata": {},
   "source": [
    "✅ Отчет по логам содержит 30745 строк, с данными идентификации карточки, её тематики, рекомендуемый возраст пользователей, время действия пользователя с карточкой и количеством действий в определенный момент времени."
   ]
  },
  {
   "cell_type": "code",
   "execution_count": 4,
   "metadata": {},
   "outputs": [
    {
     "name": "stdout",
     "output_type": "stream",
     "text": [
      "Количество дубликатов: 0\n",
      "\n",
      "Количество пропусков:\n",
      "record_id       0\n",
      "item_topic      0\n",
      "source_topic    0\n",
      "age_segment     0\n",
      "dt              0\n",
      "visits          0\n",
      "dtype: int64\n"
     ]
    }
   ],
   "source": [
    "#посмотрим на дубликаты и пропуски\n",
    "print ('Количество дубликатов:', dash_visits.duplicated().sum())\n",
    "print()\n",
    "print('Количество пропусков:')\n",
    "print(dash_visits.isnull().sum())"
   ]
  },
  {
   "cell_type": "markdown",
   "metadata": {},
   "source": [
    "✅ В отчете нет ни пропусков, ни дубликатов.\n",
    "\n",
    "Исследуем поподробнее"
   ]
  },
  {
   "cell_type": "code",
   "execution_count": 5,
   "metadata": {},
   "outputs": [
    {
     "data": {
      "text/plain": [
       "count                   30745\n",
       "unique                     17\n",
       "top       2019-09-24 18:58:00\n",
       "freq                     3383\n",
       "first     2019-09-24 18:28:00\n",
       "last      2019-09-24 19:00:00\n",
       "Name: dt, dtype: object"
      ]
     },
     "execution_count": 5,
     "metadata": {},
     "output_type": "execute_result"
    }
   ],
   "source": [
    "dash_visits.dt.describe()"
   ]
  },
  {
   "cell_type": "markdown",
   "metadata": {},
   "source": [
    "✅ Взаимодействия пользователей с карточками представлено 17ю временным моментами,  в отрезке 32 минут. Самое популярное время 18:58."
   ]
  },
  {
   "cell_type": "code",
   "execution_count": 6,
   "metadata": {},
   "outputs": [
    {
     "data": {
      "text/plain": [
       "array(['Деньги', 'Дети', 'Женская психология', 'Женщины', 'Здоровье',\n",
       "       'Знаменитости', 'Интересные факты', 'Искусство', 'История',\n",
       "       'Красота', 'Культура', 'Наука', 'Общество', 'Отношения',\n",
       "       'Подборки', 'Полезные советы', 'Психология', 'Путешествия',\n",
       "       'Рассказы', 'Россия', 'Семья', 'Скандалы', 'Туризм', 'Шоу', 'Юмор'],\n",
       "      dtype=object)"
      ]
     },
     "metadata": {},
     "output_type": "display_data"
    },
    {
     "data": {
      "text/plain": [
       "count         30745\n",
       "unique           25\n",
       "top       Отношения\n",
       "freq           1536\n",
       "Name: item_topic, dtype: object"
      ]
     },
     "metadata": {},
     "output_type": "display_data"
    }
   ],
   "source": [
    "display(dash_visits.item_topic.unique())\n",
    "display(dash_visits.item_topic.describe())"
   ]
  },
  {
   "cell_type": "code",
   "execution_count": 7,
   "metadata": {},
   "outputs": [
    {
     "data": {
      "text/plain": [
       "item_topic\n",
       "Наука               21736\n",
       "Отношения           20666\n",
       "Интересные факты    19942\n",
       "Общество            19640\n",
       "Подборки            17772\n",
       "Name: visits, dtype: int64"
      ]
     },
     "execution_count": 7,
     "metadata": {},
     "output_type": "execute_result"
    }
   ],
   "source": [
    "dash_visits.groupby('item_topic')['visits'].sum().sort_values(ascending=False).head(5)"
   ]
  },
  {
   "cell_type": "markdown",
   "metadata": {},
   "source": [
    "✅ За установленный временной отрезок пользователи провели действие с карточками, отражающие 25 уникальных тем. Данные темы определяет автор карточки. Таким образом самой популярной темой в отчете стала тема - Отношения. Однако, алгоритмы Дзена также анализируют содержание всех публикаций и на основании этого анализа каждой публикации присваиваются определенные интересы. Так определяется источник (тема) тематической ленты. Таким образом, по количеству визитов самым популярным источником стала тема карточек - Наука. "
   ]
  },
  {
   "cell_type": "code",
   "execution_count": 8,
   "metadata": {},
   "outputs": [
    {
     "data": {
      "text/plain": [
       "array(['Авто', 'Деньги', 'Дети', 'Еда', 'Здоровье', 'Знаменитости',\n",
       "       'Интерьеры', 'Искусство', 'История', 'Кино', 'Музыка', 'Одежда',\n",
       "       'Полезные советы', 'Политика', 'Психология', 'Путешествия',\n",
       "       'Ремонт', 'Россия', 'Сад и дача', 'Сделай сам',\n",
       "       'Семейные отношения', 'Семья', 'Спорт', 'Строительство',\n",
       "       'Технологии', 'Финансы'], dtype=object)"
      ]
     },
     "metadata": {},
     "output_type": "display_data"
    },
    {
     "data": {
      "text/plain": [
       "count                  30745\n",
       "unique                    26\n",
       "top       Семейные отношения\n",
       "freq                    1822\n",
       "Name: source_topic, dtype: object"
      ]
     },
     "metadata": {},
     "output_type": "display_data"
    }
   ],
   "source": [
    "display(dash_visits.source_topic.unique())\n",
    "display(dash_visits.source_topic.describe())"
   ]
  },
  {
   "cell_type": "code",
   "execution_count": 9,
   "metadata": {},
   "outputs": [
    {
     "data": {
      "text/plain": [
       "source_topic\n",
       "Семейные отношения    33309\n",
       "Россия                29831\n",
       "Полезные советы       27412\n",
       "Путешествия           24124\n",
       "Знаменитости          23945\n",
       "Name: visits, dtype: int64"
      ]
     },
     "execution_count": 9,
     "metadata": {},
     "output_type": "execute_result"
    }
   ],
   "source": [
    "dash_visits.groupby('source_topic')['visits'].sum().sort_values(ascending=False).head(5)"
   ]
  },
  {
   "cell_type": "markdown",
   "metadata": {},
   "source": [
    "✅ Тема семейных отнношений была наиболее популярна среди пользователей."
   ]
  },
  {
   "cell_type": "code",
   "execution_count": 10,
   "metadata": {},
   "outputs": [
    {
     "data": {
      "text/plain": [
       "array(['18-25', '26-30', '31-35', '36-40', '41-45', '45+'], dtype=object)"
      ]
     },
     "metadata": {},
     "output_type": "display_data"
    },
    {
     "data": {
      "text/plain": [
       "count     30745\n",
       "unique        6\n",
       "top       18-25\n",
       "freq       7056\n",
       "Name: age_segment, dtype: object"
      ]
     },
     "metadata": {},
     "output_type": "display_data"
    }
   ],
   "source": [
    "display(dash_visits.age_segment.unique())\n",
    "display(dash_visits.age_segment.describe())"
   ]
  },
  {
   "cell_type": "code",
   "execution_count": 11,
   "metadata": {},
   "outputs": [
    {
     "data": {
      "text/plain": [
       "age_segment\n",
       "18-25    131010\n",
       "26-30     60311\n",
       "31-35     53763\n",
       "36-40     38166\n",
       "41-45     16263\n",
       "Name: visits, dtype: int64"
      ]
     },
     "execution_count": 11,
     "metadata": {},
     "output_type": "execute_result"
    }
   ],
   "source": [
    "dash_visits.groupby('age_segment')['visits'].sum().sort_values(ascending=False).head(5)"
   ]
  },
  {
   "cell_type": "code",
   "execution_count": 18,
   "metadata": {},
   "outputs": [],
   "source": [
    "# сохраняю в csv\n",
    "dash_visits.to_csv('dash_visits_tabl.csv', index = False)"
   ]
  },
  {
   "cell_type": "markdown",
   "metadata": {},
   "source": [
    "Ссылка на дашборд в Tableau online - https://prod-uk-a.online.tableau.com/#/site/skb/views/Avto/Dashboard1?:iid=3\n",
    "\n",
    "Ссылка на презентацию - https://disk.yandex.ru/i/yUYQWs0mTos87w"
   ]
  },
  {
   "cell_type": "code",
   "execution_count": null,
   "metadata": {},
   "outputs": [],
   "source": []
  }
 ],
 "metadata": {
  "ExecuteTimeLog": [
   {
    "duration": 991,
    "start_time": "2021-08-09T18:27:43.325Z"
   },
   {
    "duration": 359,
    "start_time": "2021-08-09T18:28:18.943Z"
   },
   {
    "duration": 513,
    "start_time": "2021-08-09T18:29:01.550Z"
   },
   {
    "duration": 262,
    "start_time": "2021-08-09T18:30:17.388Z"
   },
   {
    "duration": 16,
    "start_time": "2021-08-09T18:31:13.763Z"
   },
   {
    "duration": 23,
    "start_time": "2021-08-09T18:32:30.830Z"
   },
   {
    "duration": 11,
    "start_time": "2021-08-09T18:33:04.634Z"
   },
   {
    "duration": 33,
    "start_time": "2021-08-09T18:33:27.890Z"
   },
   {
    "duration": 28,
    "start_time": "2021-08-09T18:34:27.764Z"
   },
   {
    "duration": 23,
    "start_time": "2021-08-09T18:35:00.211Z"
   },
   {
    "duration": 295,
    "start_time": "2021-08-09T18:37:02.822Z"
   },
   {
    "duration": 5,
    "start_time": "2021-08-09T18:38:48.794Z"
   },
   {
    "duration": 366,
    "start_time": "2021-08-09T18:38:53.968Z"
   },
   {
    "duration": 37,
    "start_time": "2021-08-09T18:39:02.320Z"
   },
   {
    "duration": 26,
    "start_time": "2021-08-09T18:39:28.415Z"
   },
   {
    "duration": 23,
    "start_time": "2021-08-09T18:40:05.385Z"
   },
   {
    "duration": 894,
    "start_time": "2021-08-10T06:41:11.539Z"
   },
   {
    "duration": 530,
    "start_time": "2021-08-10T06:41:12.437Z"
   },
   {
    "duration": 22,
    "start_time": "2021-08-10T06:41:12.970Z"
   },
   {
    "duration": 15,
    "start_time": "2021-08-10T06:41:12.995Z"
   },
   {
    "duration": 65,
    "start_time": "2021-08-10T06:41:13.014Z"
   },
   {
    "duration": 13,
    "start_time": "2021-08-10T06:41:13.081Z"
   },
   {
    "duration": 25,
    "start_time": "2021-08-10T06:41:13.098Z"
   },
   {
    "duration": 55,
    "start_time": "2021-08-10T06:41:13.125Z"
   },
   {
    "duration": 14,
    "start_time": "2021-08-10T06:43:13.659Z"
   },
   {
    "duration": 15,
    "start_time": "2021-08-10T06:43:33.209Z"
   },
   {
    "duration": 12,
    "start_time": "2021-08-10T06:43:46.584Z"
   },
   {
    "duration": 26,
    "start_time": "2021-08-10T06:46:52.874Z"
   },
   {
    "duration": 31,
    "start_time": "2021-08-10T06:48:01.107Z"
   },
   {
    "duration": 29,
    "start_time": "2021-08-10T08:24:49.208Z"
   },
   {
    "duration": 29,
    "start_time": "2021-08-10T08:25:02.680Z"
   },
   {
    "duration": 11,
    "start_time": "2021-08-10T08:25:53.765Z"
   },
   {
    "duration": 11,
    "start_time": "2021-08-10T08:26:06.660Z"
   },
   {
    "duration": 818,
    "start_time": "2021-08-11T16:43:12.243Z"
   },
   {
    "duration": 492,
    "start_time": "2021-08-11T16:43:13.063Z"
   },
   {
    "duration": 11,
    "start_time": "2021-08-11T16:43:13.557Z"
   },
   {
    "duration": 36,
    "start_time": "2021-08-11T16:43:13.570Z"
   },
   {
    "duration": 8,
    "start_time": "2021-08-11T16:43:13.608Z"
   },
   {
    "duration": 16,
    "start_time": "2021-08-11T16:43:13.618Z"
   },
   {
    "duration": 9,
    "start_time": "2021-08-11T16:43:13.636Z"
   },
   {
    "duration": 49,
    "start_time": "2021-08-11T16:43:13.647Z"
   },
   {
    "duration": 8,
    "start_time": "2021-08-11T16:43:13.698Z"
   },
   {
    "duration": 13,
    "start_time": "2021-08-11T16:43:13.708Z"
   },
   {
    "duration": 7,
    "start_time": "2021-08-11T16:43:13.723Z"
   },
   {
    "duration": 294,
    "start_time": "2021-08-11T16:43:13.731Z"
   },
   {
    "duration": 455,
    "start_time": "2021-08-11T16:43:35.172Z"
   },
   {
    "duration": 425,
    "start_time": "2021-08-11T16:44:11.401Z"
   },
   {
    "duration": 438,
    "start_time": "2021-08-11T17:05:14.574Z"
   },
   {
    "duration": 225,
    "start_time": "2021-08-11T17:08:15.246Z"
   },
   {
    "duration": 424,
    "start_time": "2021-08-11T18:42:42.887Z"
   },
   {
    "duration": 428,
    "start_time": "2021-08-11T18:46:06.955Z"
   }
  ],
  "kernelspec": {
   "display_name": "Python 3",
   "language": "python",
   "name": "python3"
  },
  "language_info": {
   "codemirror_mode": {
    "name": "ipython",
    "version": 3
   },
   "file_extension": ".py",
   "mimetype": "text/x-python",
   "name": "python",
   "nbconvert_exporter": "python",
   "pygments_lexer": "ipython3",
   "version": "3.7.8"
  },
  "toc": {
   "base_numbering": 1,
   "nav_menu": {},
   "number_sections": true,
   "sideBar": true,
   "skip_h1_title": true,
   "title_cell": "Table of Contents",
   "title_sidebar": "Contents",
   "toc_cell": false,
   "toc_position": {},
   "toc_section_display": true,
   "toc_window_display": false
  }
 },
 "nbformat": 4,
 "nbformat_minor": 2
}
